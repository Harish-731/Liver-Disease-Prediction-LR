{
 "cells": [
  {
   "cell_type": "code",
   "execution_count": 1,
   "id": "e33cd317",
   "metadata": {},
   "outputs": [],
   "source": [
    "import numpy as np\n",
    "import pandas as pd\n",
    "import seaborn as sns\n",
    "from matplotlib import pyplot as plt\n",
    "%matplotlib inline\n",
    "from matplotlib.colors import ListedColormap\n",
    "import warnings\n",
    "warnings.filterwarnings('ignore')\n",
    "from math import sqrt\n",
    "from sklearn.model_selection import train_test_split\n",
    "from sklearn.linear_model import LogisticRegression\n",
    "from sklearn.svm import SVC\n",
    "from sklearn.metrics import roc_curve, auc, roc_auc_score, confusion_matrix, accuracy_score\n",
    "from sklearn.preprocessing import StandardScaler"
   ]
  },
  {
   "cell_type": "code",
   "execution_count": 2,
   "id": "c553bc69",
   "metadata": {},
   "outputs": [],
   "source": [
    "df=pd.read_csv(r'C:\\Users\\haris\\Downloads\\archive (5)\\indian_liver_patient.csv')"#enter the path of csv
   ]
  },
  {
   "cell_type": "code",
   "execution_count": 3,
   "id": "c8b7105e",
   "metadata": {},
   "outputs": [
    {
     "data": {
      "text/plain": [
       "(583, 11)"
      ]
     },
     "execution_count": 3,
     "metadata": {},
     "output_type": "execute_result"
    }
   ],
   "source": [
    "df.shape"
   ]
  },
  {
   "cell_type": "code",
   "execution_count": 4,
   "id": "fe348b00",
   "metadata": {},
   "outputs": [
    {
     "data": {
      "text/plain": [
       "Index(['Age', 'Gender', 'Total_Bilirubin', 'Direct_Bilirubin',\n",
       "       'Alkaline_Phosphotase', 'Alamine_Aminotransferase',\n",
       "       'Aspartate_Aminotransferase', 'Total_Protiens', 'Albumin',\n",
       "       'Albumin_and_Globulin_Ratio', 'Dataset'],\n",
       "      dtype='object')"
      ]
     },
     "execution_count": 4,
     "metadata": {},
     "output_type": "execute_result"
    }
   ],
   "source": [
    "df.columns"
   ]
  },
  {
   "cell_type": "code",
   "execution_count": 5,
   "id": "affde8e0",
   "metadata": {},
   "outputs": [
    {
     "data": {
      "text/html": [
       "<div>\n",
       "<style scoped>\n",
       "    .dataframe tbody tr th:only-of-type {\n",
       "        vertical-align: middle;\n",
       "    }\n",
       "\n",
       "    .dataframe tbody tr th {\n",
       "        vertical-align: top;\n",
       "    }\n",
       "\n",
       "    .dataframe thead th {\n",
       "        text-align: right;\n",
       "    }\n",
       "</style>\n",
       "<table border=\"1\" class=\"dataframe\">\n",
       "  <thead>\n",
       "    <tr style=\"text-align: right;\">\n",
       "      <th></th>\n",
       "      <th>Age</th>\n",
       "      <th>Gender</th>\n",
       "      <th>Total_Bilirubin</th>\n",
       "      <th>Direct_Bilirubin</th>\n",
       "      <th>Alkaline_Phosphotase</th>\n",
       "      <th>Alamine_Aminotransferase</th>\n",
       "      <th>Aspartate_Aminotransferase</th>\n",
       "      <th>Total_Protiens</th>\n",
       "      <th>Albumin</th>\n",
       "      <th>Albumin_and_Globulin_Ratio</th>\n",
       "      <th>Dataset</th>\n",
       "    </tr>\n",
       "  </thead>\n",
       "  <tbody>\n",
       "    <tr>\n",
       "      <th>0</th>\n",
       "      <td>65</td>\n",
       "      <td>Female</td>\n",
       "      <td>0.7</td>\n",
       "      <td>0.1</td>\n",
       "      <td>187</td>\n",
       "      <td>16</td>\n",
       "      <td>18</td>\n",
       "      <td>6.8</td>\n",
       "      <td>3.3</td>\n",
       "      <td>0.90</td>\n",
       "      <td>1</td>\n",
       "    </tr>\n",
       "    <tr>\n",
       "      <th>1</th>\n",
       "      <td>62</td>\n",
       "      <td>Male</td>\n",
       "      <td>10.9</td>\n",
       "      <td>5.5</td>\n",
       "      <td>699</td>\n",
       "      <td>64</td>\n",
       "      <td>100</td>\n",
       "      <td>7.5</td>\n",
       "      <td>3.2</td>\n",
       "      <td>0.74</td>\n",
       "      <td>1</td>\n",
       "    </tr>\n",
       "    <tr>\n",
       "      <th>2</th>\n",
       "      <td>62</td>\n",
       "      <td>Male</td>\n",
       "      <td>7.3</td>\n",
       "      <td>4.1</td>\n",
       "      <td>490</td>\n",
       "      <td>60</td>\n",
       "      <td>68</td>\n",
       "      <td>7.0</td>\n",
       "      <td>3.3</td>\n",
       "      <td>0.89</td>\n",
       "      <td>1</td>\n",
       "    </tr>\n",
       "    <tr>\n",
       "      <th>3</th>\n",
       "      <td>58</td>\n",
       "      <td>Male</td>\n",
       "      <td>1.0</td>\n",
       "      <td>0.4</td>\n",
       "      <td>182</td>\n",
       "      <td>14</td>\n",
       "      <td>20</td>\n",
       "      <td>6.8</td>\n",
       "      <td>3.4</td>\n",
       "      <td>1.00</td>\n",
       "      <td>1</td>\n",
       "    </tr>\n",
       "    <tr>\n",
       "      <th>4</th>\n",
       "      <td>72</td>\n",
       "      <td>Male</td>\n",
       "      <td>3.9</td>\n",
       "      <td>2.0</td>\n",
       "      <td>195</td>\n",
       "      <td>27</td>\n",
       "      <td>59</td>\n",
       "      <td>7.3</td>\n",
       "      <td>2.4</td>\n",
       "      <td>0.40</td>\n",
       "      <td>1</td>\n",
       "    </tr>\n",
       "  </tbody>\n",
       "</table>\n",
       "</div>"
      ],
      "text/plain": [
       "   Age  Gender  Total_Bilirubin  Direct_Bilirubin  Alkaline_Phosphotase  \\\n",
       "0   65  Female              0.7               0.1                   187   \n",
       "1   62    Male             10.9               5.5                   699   \n",
       "2   62    Male              7.3               4.1                   490   \n",
       "3   58    Male              1.0               0.4                   182   \n",
       "4   72    Male              3.9               2.0                   195   \n",
       "\n",
       "   Alamine_Aminotransferase  Aspartate_Aminotransferase  Total_Protiens  \\\n",
       "0                        16                          18             6.8   \n",
       "1                        64                         100             7.5   \n",
       "2                        60                          68             7.0   \n",
       "3                        14                          20             6.8   \n",
       "4                        27                          59             7.3   \n",
       "\n",
       "   Albumin  Albumin_and_Globulin_Ratio  Dataset  \n",
       "0      3.3                        0.90        1  \n",
       "1      3.2                        0.74        1  \n",
       "2      3.3                        0.89        1  \n",
       "3      3.4                        1.00        1  \n",
       "4      2.4                        0.40        1  "
      ]
     },
     "execution_count": 5,
     "metadata": {},
     "output_type": "execute_result"
    }
   ],
   "source": [
    "df.head()"
   ]
  },
  {
   "cell_type": "code",
   "execution_count": 6,
   "id": "a9b77afb",
   "metadata": {},
   "outputs": [
    {
     "data": {
      "text/plain": [
       "Gender    object\n",
       "dtype: object"
      ]
     },
     "execution_count": 6,
     "metadata": {},
     "output_type": "execute_result"
    }
   ],
   "source": [
    "df.dtypes[df.dtypes=='object']"
   ]
  },
  {
   "cell_type": "code",
   "execution_count": 7,
   "id": "3b3b7920",
   "metadata": {},
   "outputs": [
    {
     "data": {
      "text/plain": [
       "Total_Bilirubin               float64\n",
       "Direct_Bilirubin              float64\n",
       "Total_Protiens                float64\n",
       "Albumin                       float64\n",
       "Albumin_and_Globulin_Ratio    float64\n",
       "dtype: object"
      ]
     },
     "execution_count": 7,
     "metadata": {},
     "output_type": "execute_result"
    }
   ],
   "source": [
    "df.dtypes[df.dtypes=='float64']"
   ]
  },
  {
   "cell_type": "code",
   "execution_count": 8,
   "id": "fbc6ca35",
   "metadata": {},
   "outputs": [
    {
     "data": {
      "text/plain": [
       "Age                           int64\n",
       "Alkaline_Phosphotase          int64\n",
       "Alamine_Aminotransferase      int64\n",
       "Aspartate_Aminotransferase    int64\n",
       "Dataset                       int64\n",
       "dtype: object"
      ]
     },
     "execution_count": 8,
     "metadata": {},
     "output_type": "execute_result"
    }
   ],
   "source": [
    "df.dtypes[df.dtypes=='int64']"
   ]
  },
  {
   "cell_type": "code",
   "execution_count": 9,
   "id": "a1cc6d01",
   "metadata": {
    "scrolled": false
   },
   "outputs": [
    {
     "data": {
      "image/png": "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\n",
      "text/plain": [
       "<Figure size 1440x1440 with 12 Axes>"
      ]
     },
     "metadata": {
      "needs_background": "light"
     },
     "output_type": "display_data"
    }
   ],
   "source": [
    "df.hist(figsize=(20,20),xrot=0,yrot=0,bins=50)\n",
    "plt.show()"
   ]
  },
  {
   "cell_type": "code",
   "execution_count": 10,
   "id": "7616eab5",
   "metadata": {},
   "outputs": [
    {
     "data": {
      "text/plain": [
       "array([[<AxesSubplot:title={'center':'Age'}>,\n",
       "        <AxesSubplot:title={'center':'Total_Bilirubin'}>,\n",
       "        <AxesSubplot:title={'center':'Direct_Bilirubin'}>],\n",
       "       [<AxesSubplot:title={'center':'Alkaline_Phosphotase'}>,\n",
       "        <AxesSubplot:title={'center':'Alamine_Aminotransferase'}>,\n",
       "        <AxesSubplot:title={'center':'Aspartate_Aminotransferase'}>],\n",
       "       [<AxesSubplot:title={'center':'Total_Protiens'}>,\n",
       "        <AxesSubplot:title={'center':'Albumin'}>,\n",
       "        <AxesSubplot:title={'center':'Albumin_and_Globulin_Ratio'}>],\n",
       "       [<AxesSubplot:title={'center':'Dataset'}>, <AxesSubplot:>,\n",
       "        <AxesSubplot:>]], dtype=object)"
      ]
     },
     "execution_count": 10,
     "metadata": {},
     "output_type": "execute_result"
    },
    {
     "data": {
      "image/png": "iVBORw0KGgoAAAANSUhEUgAABIcAAARuCAYAAABJOlfRAAAAOXRFWHRTb2Z0d2FyZQBNYXRwbG90bGliIHZlcnNpb24zLjMuNCwgaHR0cHM6Ly9tYXRwbG90bGliLm9yZy8QVMy6AAAACXBIWXMAAAsTAAALEwEAmpwYAAC2UElEQVR4nOzdfbxmdV3v/9dbQERBgYAtdzmoaIEk1kR61NqFKaIJnZOGoQ5FZ+ocPN2NvxzUSk3OoU6Y3ag1pTIlilPeQJIlYruiI6IYioAEygjjjIyiCJuMHPz8/lhry8Wevffsu+tm7/V6Ph7XY1/re62bz/ru61rftT7ru9ZKVSFJkiRJkqRuesiwA5AkSZIkSdLwmBySJEmSJEnqMJNDkiRJkiRJHWZySJIkSZIkqcNMDkmSJEmSJHWYySFJkiRJkqQOMzkkSZIkSZLUYSaHtKokmUjy9ST7DjsWSdJoSlJJHr/EeZyZ5MMzzTPJnyT5jSXM+8Ikb5jj88kkj13s/CWpi5a6bR6E3hiTjCfZ1vPZ9UnGlzDvrUmeNctnz0xy02LnrdXB5JBWjSRrgGcCBbxguNFIkhaqTXpMvb6d5Js9w2fOMs2Ddp6XMZYLk/xnu+x7klyT5EemPq+qi6rq2TNNW1W/WFW/vdwx9cx//6r6Qr/mL0krUZv8+Ga7zb4ryf9L8otJHgL92zbvKaE/S4yT7Qnty5IcPfX5XDFW1fFVNbFMYU+f9z9X1RP7MW+tHCaHtJq8DLgKuBBYN1WY5LuS/E2Su5N8IskbklzZ8/n3JLk8ydeS3JTkRYMPXZLUJj32r6r9gduAn+gpu2gIIf1uG8ujgLcC70uy11JmmGTvZYlMkjSTn6iqA4DHAOcDrwTetqeJBrxt/om2bTkcuAP4o6XO0LZFy8HkkFaTlwEXta/nJBlry98M3As8miZp1Js4egRwOfAu4DDgxcBbkhw/wLglSXNIsm+SNyXZ3r7e1JY9AvgQcERPD6MjkpyU5GPtmeMdSf44yUMXu/yq+jZNO3EwMNbGdFbviYZp8X7nLPJUz6Ykr0zyZeAdM007w6Vuh7QnLu5J8o9JHjPTuO2y3tyefb4nyceTPG6x6ypJq0FVfaOqLgV+GliX5Enz2DY/JMnGJJ9PcmeSLUkOnppnkme0vZHuSnJ7uy1fD5wJ/HrbBv3NAmL8D+CvgeN6ljFrL6Tey8KSvDbJXyd5Z5K7gbOmTztLz9ofTHJD22vpHUkeNtO47bJekeQzSb6R5D1T42r1MjmkVSHJM2jOEGypqmuAzwM/057h/W/Ab1XVv1fVDcDmnkmfD2ytqndU1a6q+hTwXuCnBrwKkqTZvRp4KnAi8GTgJOA1VXUv8Fxge08Po+3A/cCvAocATwNOBv7nYhfetiUvA26lOcu7UI+mSSw9Blg/z2nOBH6bZh2upTnxMZsXA68DDgJuAc5bRIyStOpU1dXANppbT0w3fdv8S8DpwI8ARwBfpznJTJLvpjkZ8UfAoTTt0bVVtYlm+/y7bRv0E/ONLcnDaZJXVy1i1QBOo0kuHcjcbUSvM4HnAI8DngC8Zo5xXwScAhwDfB9w1iLj1AphckirxTrgw1X11Xb4XW3ZocDewO094/a+fwzwQ+0ZgLuS3EWz0Xx0/0OWJM3TmcDrq2pnVX2FJhHy0tlGrqprquqqNum/FfhTmp39hXpF2y7cC7wJ+I2qun8R8/k2zUmK+6rqm/Oc5rKq+qequo8mOfa03vtSTPO+qrq6qnbRHCCcuIgYJWm12k6TBJpu+rb5F4BXV9W2dtv7WuCn2ku2zgQ+UlXvrqpvVdWdVXXtIuP5QNu23A38OPB/Fzmfj1XVB6rq2wtoW/64qm6vqq/RnEh48Rzj/mFVbW/H/RtsW1Y9r03UipdkP5rM9l5tt1CAfWmy6GPALuAo4N/az3p3rm8H/rGqfnww0UqSFuEI4Is9w19sy2aU5AnAG4G1wMNp9neuWcRyf6+qXpMkwPHAh5N8rao+tMD5fKW9fGAhvnMio6omk3yNZp1vn2HcL/e8/3dg/wUuS5JWsyOBr81QPn3b/Bjg/Um+3VN2P83xxNE0VyYsh9Or6iNtr9TTgH9MclxVfXlPE04zU3uwkGnmbEvZvW2Za1ytAvYc0mpwOs2G+ziajPaJwPcC/0xzGcD7gNcmeXiS72nLpnwQeEKSlybZp339YJLvHWD8kqS5bafZaZ/y3W0ZNE+onO6twOeAY6vqkcCrgCx24dX4LPAvwPMWM4tpw/fSJK0ASDJTb9Wjez7fn+as9/YZxpMkzSLJD9Ikh2a6R9z0bfPtwHOr6sCe18Oq6kvtZ7Pdz22mdmiPqur+qnofzXHMMxYzi2nDD2pbmPlKiN6T5L1tqWRySKvCOuAdVXVbVX156gX8MU0X0JfTPGnmy8BfAu8G7gOoqnuAZwNn0Gwcvwz8Dk3PI0nSaHg38JokhyY5BPhN4J3tZ3cA35XkUT3jH0DTXX+yPSnwP5YaQDufZwDXL3VewKeB45Oc2N7g87UzjHNqe/PTh9Lce+jjVbWYs8SS1DlJHpnk+cDFwDur6rp5TPYnwHlTDwBo25zT2s8uAp6V5EVJ9k7zNOQT28/uAB67iBjTzv8g4MaFTj+Da2najoPbkw6/MsM45yQ5qr3R9quA9yzDcrVKmBzSildVp1TVhhnKt1TVo6vqK1X1vKp6ZFX9YPvxtp7xbmo/P7SqvquqfmwJ1xBLkpbfG4BPAp8BrgM+1ZZRVZ+jSR59ob133BHAK4CfAe4B/ozF7/xOPX3mXuDDwDto7l+0JFX1b8DrgY8ANzPzGe13Ab9FcynED9Cc7JAkze1vktxD09Pn1TSXGP/sPKf9A+BSmkuI76G5UfQPAVTVbcCpwAaa7fK1NA9IAHgbcFzbBn1gnjFO0pzEOA9YV1XLceLhL2lOPmylabNmavve1X72hfY145PR1E2pWlQvOGnFaM/2PpTmgOIHgb8Ffr6qPjDMuCRJkiRJGgXekFpdcADNWeUjgJ3ABcAlQ41IkiRJkqQRYc8hSZLUSUmu58E3up7yC1V10aDjkSStbEm+G7hhlo+Pay9Pk0aSySFJkiRJK0KSrTT3E7sf2FVVa9ub674HWENzv5UXVdXX2/HPBc5ux/+lqvr7IYQtSSPPG1JLkiRJWkl+tKpOrKq17fBG4IqqOha4oh0myXE0T6Q9HjgFeEuSvYYRsCSNupG459AhhxxShx56KI94xCOGHcrQ3XvvvZ2vB+ugYT2s7Dq45pprvlpVhw47ji455JBDas2aNQuaZlS/Y6MY1yjGBMa1UMY1f6MQk23JvJ0GjLfvNwMTwCvb8our6j7g1iS3ACcBH5ttRquhLTGeuRnP3Ixnbisxnvm2JSORHFqzZg2/93u/x/j4+LBDGbqJiYnO14N10LAeVnYdJPnisGPomjVr1vDJT35yQdOM6ndsFOMaxZjAuBbKuOZvFGKyLZlR0TxqvIA/rapNwFhV7QCoqh1JDmvHPZLmceRTtrVls1oNbYnxzM145mY8c1uJ8cy3LRmJ5JAkSZIkzcPTq2p7mwC6PMnn5hg3M5TtdsPVJOuB9QBjY2NMTEwsKKDJyckFT9NPxjM345mb8cxtNcdjckiSJEnSilBV29u/O5O8n+YysTuSHN72Gjoc2NmOvg04umfyo4DtM8xzE7AJYO3atbXQXgErsSfBIBnP3IxnbsYzt+WMxxtSS5IkSRp5SR6R5ICp98Czgc8ClwLr2tHWAZe07y8Fzkiyb5JjgGOBqwcbtSStDPYckiRJkrQSjAHvTwLNccy7qurvknwC2JLkbOA24IUAVXV9ki3ADcAu4Jyqun84oUvSaDM5JEmSJGnkVdUXgCfPUH4ncPIs05wHnNfn0CRpxfOyMkmSJEmSpA4zOSRJkiRJktRhJockSZIkSZI6zHsO6UHWbLxsoMvbev7zBro8SZpu0Ns9cNsnSauNbYmklc6eQ5IkSZIkSR1mckiSJEmSJKnDTA5JkiRJkiR1mMkhSZIkSZKkDjM5JEmSJEmS1GEmhyRJA5Fka5Lrklyb5JNt2cFJLk9yc/v3oJ7xz01yS5KbkjxneJFLkiRJq5vJIUnSIP1oVZ1YVWvb4Y3AFVV1LHBFO0yS44AzgOOBU4C3JNlrGAFLkiRJq53JIUnSMJ0GbG7fbwZO7ym/uKruq6pbgVuAkwYfniRJkrT67T3sAKRBWrPxsoEvc+v5zxv4MqURVcCHkxTwp1W1CRirqh0AVbUjyWHtuEcCV/VMu60tkyRJkrTMTA5Jkgbl6VW1vU0AXZ7kc3OMmxnKareRkvXAeoCxsTEmJiYWFNDk5CQbTrh/QdMshz3FOTk5ueB16bdRjAmMa6GMa/5GMSZJkvrF5JAkaSCqanv7d2eS99NcJnZHksPbXkOHAzvb0bcBR/dMfhSwfYZ5bgI2Aaxdu7bGx8cXFNPExAQXXHnvQldlybaeOT7n5xMTEyx0XfptFGMC41oo45q/UYxJkqR+8Z5DkqS+S/KIJAdMvQeeDXwWuBRY1462DrikfX8pcEaSfZMcAxwLXD3YqCVJkqRusOeQJGkQxoD3J4Gm7XlXVf1dkk8AW5KcDdwGvBCgqq5PsgW4AdgFnFNVg7/+S5IkSeoAk0OSpL6rqi8AT56h/E7g5FmmOQ84r8+hSZIkSZ3nZWWSJEmSJEkdZnJIkiRJkiSpw0wOSZIkSZIkdZjJIUmSJEmSpA4zOSRJkiRJktRhJockSZIkSZI6zOSQJEmSJElSh5kckiRJkiRJ6rA9JoeSvD3JziSf7Sk7OMnlSW5u/x7U89m5SW5JclOS5/QrcEmSJEmSJC3dfHoOXQicMq1sI3BFVR0LXNEOk+Q44Azg+HaatyTZa9milSRJkiRJ0rLaY3Koqv4J+Nq04tOAze37zcDpPeUXV9V9VXUrcAtw0vKEKkmSJEmSpOW29yKnG6uqHQBVtSPJYW35kcBVPeNta8t2k2Q9sB5gbGyMyclJJiYmFhnO6jHsethwwq6BLm+mde1nHQx6/WDmdZyPYX8XRoF1IEmSJEn9t9jk0GwyQ1nNNGJVbQI2Aaxdu7b2339/xsfHlzmclWdiYmKo9XDWxssGurytZ47vVtbPOhj0+sHM6zgfw/4ujALrQJIkSZL6b7FPK7sjyeEA7d+dbfk24Oie8Y4Cti8+PEmSJEmSJPXTYpNDlwLr2vfrgEt6ys9Ism+SY4BjgauXFqIkSZIkSZL6ZY+XlSV5NzAOHJJkG/BbwPnAliRnA7cBLwSoquuTbAFuAHYB51TV/X2KXZIkSZIkSUu0x+RQVb14lo9OnmX884DzlhKUJEmSJEmSBmO5b0gtLciaGW4QveGEXUO5cbQkSZJGX5K9gE8CX6qq5yc5GHgPsAbYCryoqr7ejnsucDZwP/BLVfX3QwlakkbcYu85JEmSJEnD8MvAjT3DG4ErqupY4Ip2mCTHAWcAxwOnAG9pE0uSpGlMDkmSJElaEZIcBTwP+POe4tOAze37zcDpPeUXV9V9VXUrcAtw0oBClaQVxeSQJEmSpJXiTcCvA9/uKRurqh0A7d/D2vIjgdt7xtvWlkmSpvGeQ5IkSZJGXpLnAzur6pok4/OZZIaymmG+64H1AGNjY0xMTCworsnJSTacMPgHNM8W5+Tk5ILXoZ+MZ27GMzfjmdtyxmNySJIkSdJK8HTgBUlOBR4GPDLJO4E7khxeVTuSHA7sbMffBhzdM/1RwPbpM62qTcAmgLVr19b4+PiCgpqYmOCCK+9d6Los2dYzx2csn5iYYKHr0E/GMzfjmZvxzG054/GyMkmSJEkjr6rOraqjqmoNzY2mP1pVLwEuBda1o60DLmnfXwqckWTfJMcAxwJXDzhsSVoR7DkkSZIkaSU7H9iS5GzgNuCFAFV1fZItwA3ALuCcqhr89V+StAKYHJIkSZK0olTVBDDRvr8TOHmW8c4DzhtYYJK0QnlZmSRJkiRJUoeZHJIkSZIkSeowk0OSJEmSJEkdZnJIkiRJkiSpw0wOSZIkSZIkdZjJIUmSJEmSpA4zOSRJGpgkeyX51yQfbIcPTnJ5kpvbvwf1jHtukluS3JTkOcOLWpIkSVrdTA5Jkgbpl4Ebe4Y3AldU1bHAFe0wSY4DzgCOB04B3pJkrwHHKkmSJHWCySFJ0kAkOQp4HvDnPcWnAZvb95uB03vKL66q+6rqVuAW4KQBhSpJkiR1yt7DDkCS1BlvAn4dOKCnbKyqdgBU1Y4kh7XlRwJX9Yy3rS17kCTrgfUAY2NjTExMLCigyclJNpxw/4KmWQ57inNycnLB69JvoxgTGNdCGdf8jWJMkiT1i8khSVLfJXk+sLOqrkkyPp9JZiir3QqqNgGbANauXVvj4/OZ9QMmJia44Mp7FzTNcth65vicn09MTLDQdem3UYwJjGuhjGv+RjEmSZL6xeSQJGkQng68IMmpwMOARyZ5J3BHksPbXkOHAzvb8bcBR/dMfxSwfaARS5IkSR3hPYckSX1XVedW1VFVtYbmRtMfraqXAJcC69rR1gGXtO8vBc5Ism+SY4BjgasHHLYkSZLUCfYckiQN0/nAliRnA7cBLwSoquuTbAFuAHYB51TV4G8OJEmSJHWAySFJ0kBV1QQw0b6/Ezh5lvHOA84bWGCSJElSR3lZmSRJkiRJUoeZHJIkSZIkSeowk0OSJEmSJEkdZnJIkiRJkiSpw5aUHEryq0muT/LZJO9O8rAkBye5PMnN7d+DlitYSZIkSZIkLa9FP60syZHALwHHVdU320cOnwEcB1xRVecn2QhsBF65LNFKK9CajZctaroNJ+zirEVMu/X85y1qeZIkSZKkblrqZWV7A/sl2Rt4OLAdOA3Y3H6+GTh9icuQJEmSJElSnyy651BVfSnJ7wG3Ad8EPlxVH04yVlU72nF2JDlspumTrAfWA4yNjTE5OcnExMRiw1k1hl0PG07YNbRlTxnbbzTiGLbF1sNq+h0N+/cgSZIkSV2wlMvKDqLpJXQMcBfwV0leMt/pq2oTsAlg7dq1tf/++zM+Pr7YcFaNiYmJodbDYi5jWm4bTtjFBdct+qu5aiy2HraeOb78wQzJsH8PkiRJktQFS7ms7FnArVX1lar6FvA+4L8AdyQ5HKD9u3PpYUqSJEmSJKkflpIcug14apKHJwlwMnAjcCmwrh1nHXDJ0kKUJEmSJElSvyzlnkMfT/LXwKeAXcC/0lwmtj+wJcnZNAmkFy5HoJIkSZIkSVp+S7qxS1X9FvBb04rvo+lFJEmSJEmSpBG31EfZS5IkSZIkaQUzOSRJkiRJktRhJockSZIkSZI6zOSQJEmSJElSh5kckiRJkiRJ6jCTQ5IkSZIkSR1mckiSJEmSJKnDTA5JkiRJGnlJHpbk6iSfTnJ9kte15QcnuTzJze3fg3qmOTfJLUluSvKc4UUvSaPN5JAkSZKkleA+4Meq6snAicApSZ4KbASuqKpjgSvaYZIcB5wBHA+cArwlyV7DCFySRp3JIUmSJEkjrxqT7eA+7auA04DNbflm4PT2/WnAxVV1X1XdCtwCnDS4iCVp5TA5JEmSJGlFSLJXkmuBncDlVfVxYKyqdgC0fw9rRz8SuL1n8m1tmSRpmr2HHYAkSZIkzUdV3Q+cmORA4P1JnjTH6JlpFruNlKwH1gOMjY0xMTGxoJgmJyfZcML9C5pmOcwW5+Tk5ILXoZ+MZ27GMzfjmdtyxmNySJIkSdKKUlV3JZmguZfQHUkOr6odSQ6n6VUETU+ho3smOwrYPsO8NgGbANauXVvj4+MLimViYoILrrx3weuwVFvPHJ+xfGJigoWuQz8Zz9yMZ27GM7fljMfLyiRJkiSNvCSHtj2GSLIf8Czgc8ClwLp2tHXAJe37S4Ezkuyb5BjgWODqgQYtSSuEPYckSZIkrQSHA5vbJ449BNhSVR9M8jFgS5KzgduAFwJU1fVJtgA3ALuAc9rL0iRJ05gckiRJkjTyquozwFNmKL8TOHmWac4DzutzaJK04nlZmSRJkiRJUoeZHJIkSZIkSeowk0OSpL5L8rAkVyf5dJLrk7yuLT84yeVJbm7/HtQzzblJbklyU5LnDC96SZIkaXUzOSRJGoT7gB+rqicDJwKnJHkqsBG4oqqOBa5oh0lyHHAGcDzNY4rf0t6AVJIkSdIyMzkkSeq7aky2g/u0rwJOAza35ZuB09v3pwEXV9V9VXUrcAtw0uAiliRJkrrDp5VJkgai7flzDfB44M1V9fEkY1W1A6CqdiQ5rB39SOCqnsm3tWXT57keWA8wNjbGxMTEgmKanJxkwwmDf6rxnuKcnJxc8Lr02yjGBMa1UMY1f6MYkyRJ/WJySJI0EFV1P3BikgOB9yd50hyjZ6ZZzDDPTcAmgLVr19b4+PiCYpqYmOCCK+9d0DTLYeuZ43N+PjExwULXpd9GMSYwroUyrvkbxZgkSeoXLyuTJA1UVd0FTNDcS+iOJIcDtH93tqNtA47umewoYPvgopQkSZK6w+SQJKnvkhza9hgiyX7As4DPAZcC69rR1gGXtO8vBc5Ism+SY4BjgasHGrQkSZLUEV5WJkkahMOBze19hx4CbKmqDyb5GLAlydnAbcALAarq+iRbgBuAXcA57WVpkiRJkpaZySFJUt9V1WeAp8xQfidw8izTnAec1+fQJEmSpM7zsjJJkiRJkqQOW1JyKMmBSf46yeeS3JjkaUkOTnJ5kpvbvwctV7CSJEmSJElaXkvtOfQHwN9V1fcATwZuBDYCV1TVscAV7bAkSZIkSZJG0KKTQ0keCfww8DaAqvrP9vHEpwGb29E2A6cvLURJkiRJkiT1y1JuSP1Y4CvAO5I8GbgG+GVgrKp2AFTVjiSHzTRxkvXAeoCxsTEmJyeZmJhYQjirw7DrYcMJu4a27Clj+41GHMO22HpYTb+jYf8eJEmSJKkLlpIc2hv4fuB/VdXHk/wBC7iErKo2AZsA1q5dW/vvvz/j4+NLCGd1mJiYGGo9nLXxsqEte8qGE3ZxwXU+SG+x9bD1zPHlD2ZIhv17kCRJkqQuWMo9h7YB26rq4+3wX9Mki+5IcjhA+3fn0kKUJEmSJElSvyw6OVRVXwZuT/LEtuhk4AbgUmBdW7YOuGRJEUqSJEmSJKlvlnrtzv8CLkryUOALwM/SJJy2JDkbuA144RKXIUmSJEmSpD5ZUnKoqq4F1s7w0clLma8kSZIkSZIGw7v+jrg1I3CDaEmSJEmStHot5YbUkiRJkiRJWuFMDkmSJEmSJHWYySFJkiRJkqQOMzkkSZIkSZLUYSaHJEmSJEmSOszkkCRJkiRJUof5KHtplVmz8bKBLm/r+c8b6PIkSZIkScvLnkOSJEmSJEkdZnJIkiRJkiSpw0wOSZIkSZIkdZjJIUmSJEmSpA4zOSRJkiRJktRhJockSZIkSZI6zOSQJEmSpJGX5Ogk/5DkxiTXJ/nltvzgJJcnubn9e1DPNOcmuSXJTUmeM7zoJWm0mRySJEmStBLsAjZU1fcCTwXOSXIcsBG4oqqOBa5oh2k/OwM4HjgFeEuSvYYSuSSNOJNDkiRJkkZeVe2oqk+17+8BbgSOBE4DNrejbQZOb9+fBlxcVfdV1a3ALcBJAw1aklYIk0OSJEmSVpQka4CnAB8HxqpqBzQJJOCwdrQjgdt7JtvWlkmSptl72AFIkiRJ0nwl2R94L/ArVXV3kllHnaGsZpjfemA9wNjYGBMTEwuKZ3Jykg0n3L+gaZbDbHFOTk4ueB36yXjmZjxzM565LWc8JockSZIkrQhJ9qFJDF1UVe9ri+9IcnhV7UhyOLCzLd8GHN0z+VHA9unzrKpNwCaAtWvX1vj4+IJimpiY4IIr713QNMth65njM5ZPTEyw0HXoJ+OZm/HMzXjmtpzxeFmZJEmSpJGXpovQ24Abq+qNPR9dCqxr368DLukpPyPJvkmOAY4Frh5UvJK0kpgckiT1nY8fliQtg6cDLwV+LMm17etU4Hzgx5PcDPx4O0xVXQ9sAW4A/g44p6oGf/2XJK0AXlYmSRqEqccPfyrJAcA1SS4HzqJ5/PD5STbSPH74ldMeP3wE8JEkT3CnXpK6q6quZOb7CAGcPMs05wHn9S0oSVol7DkkSeo7Hz8sSZIkjS6TQ5KkgfLxw5IkSdJo8bIySdLA+Pjhxp7iHLXHpMJoxgTGtVDGNX+jGJMkSf1ickiSNBA+fvgBsz1+eMqoPSYVRjMmMK6FMq75G8WYJEnqFy8rkyT1nY8fliRJkkbXknsOJdkL+CTwpap6fpKDgfcAa4CtwIuq6utLXY4kaUWbevzwdUmubcteRfO44S1JzgZuA14IzeOHk0w9fngXPn5YkiRJ6pvluKzsl2meOvPIdngjMzyWeBmWI0laoXz8sCRJkjS6lnRZWZKjgOcBf95TPNtjiSVJkiRJkjRiltpz6E3ArwMH9JQ96LHESQ6bacLpT5jxiRCN6fWw4YRdwwtmSMb26+Z6T7dS6qGfv1u3C5IkSZLUf4tODiV5PrCzqq5JMr7Q6ac/YWb//ff3iRDs/mSMszZeNrxghmTDCbu44DofpLdS6mFPT11aCp8UI0mSJEn9t5Qjz6cDL0hyKvAw4JFJ3snsjyWWJEmSJEnSiFn0PYeq6tyqOqqq1gBnAB+tqpcw+2OJJUmSJEmSNGL6cc3KjI8lXi3W9Pkyrw0n7OrkpWSSJEmSJGk4liU5VFUTwET7/k5meSyxJEmSJEmSRsuSHmUvSZIkSZKklc3kkCRJkiRJUoeZHJIkSZIkSeowk0OSJEmSJEkdZnJIkiRJkiSpw0wOSZIkSZIkdZjJIUmSJEmSpA4zOSRJkiRJktRhJockSZIkSZI6zOSQJEmSJElSh5kckiRJkiRJ6jCTQ5IkSZIkSR1mckiSJEmSJKnDTA5JkiRJkiR1mMkhSZIkSZKkDjM5JEmSJEmS1GEmhyRJkiRJkjrM5JAkSZIkSVKHmRySJEmSJEnqMJNDkiRJkiRJHWZySJIkSZIkqcNMDkmSJEkaeUnenmRnks/2lB2c5PIkN7d/D+r57NwktyS5KclzhhO1JK0MJockSZIkrQQXAqdMK9sIXFFVxwJXtMMkOQ44Azi+neYtSfYaXKiStLKYHJIkSZI08qrqn4CvTSs+Ddjcvt8MnN5TfnFV3VdVtwK3ACcNIk5JWolMDkmSJElaqcaqagdA+/ewtvxI4Pae8ba1ZZKkGew97AAkSatfkrcDzwd2VtWT2rKDgfcAa4CtwIuq6uvtZ+cCZwP3A79UVX8/hLAlSStXZiirGUdM1gPrAcbGxpiYmFjQgiYnJ9lwwv0LjW/JZotzcnJywevQT8YzN+OZm/HMbTnjMTkkSRqEC4E/Bv6ip2zqPhHnJ9nYDr9y2n0ijgA+kuQJVTX4PW9J0qi7I8nhVbUjyeHAzrZ8G3B0z3hHAdtnmkFVbQI2Aaxdu7bGx8cXFMDExAQXXHnvQuNesq1njs9YPjExwULXoZ+MZ27GMzfjmdtyxuNlZZKkvvM+EZKkPrkUWNe+Xwdc0lN+RpJ9kxwDHAtcPYT4JGlFWHTPoSRH05wBfjTwbWBTVf3BXJcJSJLU40H3iUjSe5+Iq3rGm/U+EavtUoApo9ZlGUYzJjCuhTKu+RvFmLouybuBceCQJNuA3wLOB7YkORu4DXghQFVdn2QLcAOwCzjHHqiSNLulXFa2C9hQVZ9KcgBwTZLLgbOY4TKBpYcqSeqIed8nYrVdCjBl1Losw2jGBMa1UMY1f6MYU9dV1Ytn+ejkWcY/DzivfxFJ0uqx6ORQe7Z36ozvPUlupDmzexpNRh+aywQmMDkkrVprNl7Wt3lvOGEXZ02b/9bzn9e35WnglnyfCEmSJElLtyw3pE6yBngK8HFmv0xg+jQPuhRgpXTd3XDCrr7Of2y//i9j1FkHDeth5jpYCdsJzdvUfSLOZ/f7RLwryRtpbkjtfSIkSZKkPlpycijJ/sB7gV+pqruTma4G2N30SwH233//FdF1d3ovhuW24YRdXHBdtx8iZx00rIeZ62BPl+NoNHmfCEmSJGl0LenIM8k+NImhi6rqfW3xbJcJSJI6yvtESJIkSaNr0Y+yT9NF6G3AjVX1xp6PZnucpCRJkiRJkkbMUnoOPR14KXBdkmvbslcxy2UCkiRJkiRJGj1LeVrZlcz8uGGY5TIBSZIkSZIkjZZFX1YmSZIkSZKklc/kkCRJkiRJUoeZHJIkSZIkSeowk0OSJEmSJEkdZnJIkiRJkiSpw0wOSZIkSZIkdZjJIUmSJEmSpA4zOSRJkiRJktRhJockSZIkSZI6zOSQJEmSJElSh5kckiRJkiRJ6jCTQ5IkSZIkSR1mckiSJEmSJKnD9h52AEuxZuNlww5BkiRJkgZutmOhDSfs4qw+HCdtPf95yz5PSaPDnkOSJEmSJEkdZnJIkiRJkiSpw0wOSZIkSZIkdZjJIUmSJEmSpA4zOSRJkiRJktRhJockSZIkSZI6zOSQJEmSJElSh+097AAkSeqaNRsvm/PzDSfs4qw9jLMQW89/3rLNS5IkSauPPYckSZIkSZI6zOSQJEmSJElSh3lZmSRJq9yeLmObj4Vc6uZlbJIkSSuLySFJkiRJ0pwWe6JhsffRG/SJhuU4kbIQnkjRqDE5JGlFseGWJEmSpOVlckiSJEmSNFL6dUJwuZ8IKq0WfUsOJTkF+ANgL+DPq+r8fi1LkrQ62ZasTIPs4bfhhF2MD2xpklYi2xKNoqm2cpDJKnvEay59SQ4l2Qt4M/DjwDbgE0kuraob+rE8SdLqY1siSVoq2xLpAfM5ebOcySqTUStLv3oOnQTcUlVfAEhyMXAa4EZYkjRftiWaF+9FJmkOtiWSNA+pquWfafJTwClV9fPt8EuBH6qql/eMsx5Y3w4+EbgT+OqyB7PyHIL1YB00rIeVXQePqapDhx3ESrbItuSmBS5mVL9joxjXKMYExrVQxjV/oxCTbckSdbQtMZ65Gc/cjGduKzGeebUl/eo5lBnKHpSFqqpNwKbvTJB8sqrW9imeFcN6sA6mWA/WgRbelix4ASP6HRvFuEYxJjCuhTKu+RvFmLQonWtLjGduxjM345nbao7nIcsxkxlsA47uGT4K2N6nZUmSVifbEknSUtmWSNI89Cs59Ang2CTHJHkocAZwaZ+WJUlanWxLJElLZVsiSfPQl8vKqmpXkpcDf0/zyMi3V9X1e5hs0V05VxnrwTqYYj1YB522yLZkoUb1OzaKcY1iTGBcC2Vc8zeKMWmBOtqWGM/cjGduxjO3VRtPX25ILUmSJEmSpJWhX5eVSZIkSZIkaQUwOSRJkiRJktRhI5EcSnJKkpuS3JJk47DjGYQkRyf5hyQ3Jrk+yS+35QcnuTzJze3fg4Yda78l2SvJvyb5YDvcxTo4MMlfJ/lc+514Wkfr4Vfb38Nnk7w7ycO6WA/qv1Fpd5K8PcnOJJ/tKRv6d35U26h2m3B1kk+3cb1uFOJqYxi5tizJ1iTXJbk2ySdHKK6Ra/OSPLGtp6nX3Ul+ZdhxabTsqe1I4w/bzz+T5Pv7GMuM2+lp44wn+UbP9/o3+xVPu7zdtjnTPh9k/cz4m542Tl/rZyltfD/2U2aJ5/+22+LPJHl/kgNnmXbO/+0yxvPaJF/q+Z+cOsu0g6qf9/TEsjXJtbNMu6z1M9vvu+/fn6oa6ovmxnCfBx4LPBT4NHDcsOMawHofDnx/+/4A4N+A44DfBTa25RuB3xl2rAOoi18D3gV8sB3uYh1sBn6+ff9Q4MCu1QNwJHArsF87vAU4q2v14Kv/r1Fqd4AfBr4f+GxP2dC/86PaRgEB9m/f7wN8HHjqsONqlztybRmwFThkWtkoxDXSbV67jfgy8JhRisvXcF/zaTuAU4EPtduqpwIf72M8M26np40zPrVNGlAd7bbNGVb9zPC/+zLwmEHWz2Lb+Pl815YxnmcDe7fvf2e2bdye/rfLGM9rgVfM4/85kPqZ9vkFwG8Oon5m+333+/szCj2HTgJuqaovVNV/AhcDpw05pr6rqh1V9an2/T3AjTQHx6fR7DTR/j19KAEOSJKjgOcBf95T3LU6eCTNxuhtAFX1n1V1Fx2rh9bewH5J9gYeDmynm/Wg/hqZdqeq/gn42rTioX/nR7WNqsZkO7hP+6phx7XC2rJh19VKaPNOBj5fVV9ktOLScM2n7TgN+It2W3UVcGCSw/sRzBzb6VE2sPqZpvc3PTBLaOP7sp8yUzxV9eGq2tUOXgUctdTlLCWeeRpY/UxJEuBFwLuXupx5xrKU/bBF188oJIeOBG7vGd7G6G/YllWSNcBTaM6AjlXVDmi+FMBhQwxtEN4E/Drw7Z6yrtXBY4GvAO9Ic0nCnyd5BB2rh6r6EvB7wG3ADuAbVfVhOlYPGohRb3dG6js/am1Umsu3rgV2ApdX1SjE9SZGsy0r4MNJrkmyfkTiWglt3hk8cAAwSnFpuObTdgylfZm2nZ7uaWkuxf1QkuP7HMpM25xew2p/e3/T0w2yfmB+25Rh1dPP0fTsmsme/rfL6eXtZW5vn+WyqWHUzzOBO6rq5lk+71v9LGI/bNH1MwrJocxQVgOPYkiS7A+8F/iVqrp72PEMUpLnAzur6pphxzJke9N0YXxrVT0FuJemm2CntBv/04BjgCOARyR5yXCj0irV6XZnIUaxjaqq+6vqRJqzmycledIw4xnxtuzpVfX9wHOBc5L88LADYsTbvCQPBV4A/NWwY9HImU/bMfD2ZQ/b6U/RXEr1ZOCPgA/0Mxb2vM0ZRv3M9ZsedP3M1zDq6dXALuCiWUYZVHvyVuBxwIk0J4svmGGcYezHvZi5ew31pX4WuR+26PoZheTQNuDonuGjaC4lWfWS7EPzz76oqt7XFt8x1b2y/btzWPENwNOBFyTZStPd7ceSvJNu1QE0v4Ft7dlvgL+m2XHuWj08C7i1qr5SVd8C3gf8F7pXD+q/UW93RuI7P+ptVHsp0gRwypDjGtm2rKq2t393Au+n6Wo+7LhGvc17LvCpqrqjHR6VuDR882k7Btq+zLKd/o6qunvqUtyq+ltgnySH9CueWbY5vYbR/k7/TX/HoOunNZ9tyqC/R+uA5wNnVtWMSYR5/G+XRVXd0Z4E+jbwZ7MsZ9D1szfwX4H3zDZOP+pnCfthi66fUUgOfQI4NskxbWb3DODSIcfUd+11i28DbqyqN/Z8dCmwrn2/Drhk0LENSlWdW1VHVdUamv/7R6vqJXSoDgCq6svA7Ume2BadDNxAx+qB5nKypyZ5ePv7OJnm+tqu1YP6b9TbnaF/50e1jUpyaNonqSTZjyap/LlhxjWqbVmSRyQ5YOo9zU1HPzvsuFZAmzf97PCoxKXhm0/bcSnwsjSeSnOJ/I5+BDPHdrp3nEe345HkJJpjvzv7FM9s25xeA6ufHrP2+Bhk/fSYzzZlYPspSU4BXgm8oKr+fZZx5vO/Xa54eu9B9ZOzLGfQ+3HPAj5XVdtm+rAf9bPE/bDF108t4x3HF/uiuXP9v9HcVfvVw45nQOv8DJruXZ8Brm1fpwLfBVwB3Nz+PXjYsQ6oPsZ54AkvnasDmq6Tn2y/Dx8ADupoPbyO5kDvs8BfAvt2sR589f81Ku0OzQ7rDuBbNGd6zh6F7/yotlHA9wH/2sb1Wdqnhgw7rp74RqYto7m3z6fb1/VT3/Nhx9XGMJJtHs2DEO4EHtVTNvS4fI3Oa6a2A/hF4Bfb9wHe3H5+HbC2j7HMtp3ujefl7e//0zQ3G/4vfYxntm3OUOqnXd5Mv+mB1Q8LaONpbqnwt3N91/oUzy0096eZ+g79yfR4Zvvf9imev2y/G5+hSWgcPsz6acsvnPrO9Izb1/qZ4/fd1+9P2oklSZIkSZLUQaNwWZkkSZIkSZKGxOSQJEmSJElSh5kckiRJkiRJ6jCTQ5IkSZIkSR1mckiSJEmSJKnDTA5JkiRJkiR1mMkhSZIkSZKkDjM5JEmSJEmS1GEmhyRJkiRJkjrM5JAkSZIkSVKHmRySJEmSJEnqMJNDkiRJkiRJHWZySJIkSZIkqcNMDkmSJEmSJHWYySFJkiRJkqQOMzkkSZIkSZLUYSaHJEmSJEmSOszkkCRJkiRJUoeZHJIkSZIkSeowk0OSJEmSJEkdZnJIkiRJkiSpw0wOSZIkSZIkdZjJIUmSJEmSpA4zOSRJkiRJktRhJockSZIkSZI6zOSQJEmSJElSh5kckiRJkiRJ6jCTQ5IkSZIkSR1mckiSJEmSJKnDTA5JkiRJkiR1mMkhSZIkSZKkDjM5JEmSJEmS1GEmhyRJkiRJkjrM5JAkSZIkSVKHmRySJEmSJEnqMJND+o4kFyZ5Q/t+PMm2Rc6nkjy+ff8nSX5jOeNcQBxr2lj2HuAyF11vkiRJkla/JB9Ksm7YcSxVkv+R5I4kk0m+a9jxaGlMDnVUkokkX0+ybz+XU1W/WFW/3a/5t8mYb7cbpHuS3JTkZ/u1vH5KclaSK4cdh6Ru6z1R0Id5TyZ5bD/m3Q/DPMGxnJL8ZJLb2/p/yrDjkbRyDeoYYpZlL/jEb5KtSZ61jDFcmGRXkiOWMp+qem5VbV6GeF6b5J1Lnc8il70P8Ebg2VW1f1XdOYw4tHxMDnVQkjXAM4ECXjDcaJbF9qraH3gk8Ergz5IcN+SYJGnkDXonv915/EK/l9PuLFeSk5Yyn+U6wTECyf/fA17e1v+/DjEOSSvYMI8hBnklwBwxPAL4b8A3gDOHHM68pNGvY/4x4GHA9YuZOMleyxuOlsrkUDe9DLgKuBCYV3fGJL+U5IYkRyU5KcnHktyVZEeSP07y0Fmm2+1StSQbkuxsp/3ZnnH3TfJ7SW5ruyf+SZL95rtS1fgA8HWgNzl0ZjvPryZ59bTlvSnJ9vb1pqkDpCSHJPlgu45fS/LPUxvW9gzEuW19fD3JO5I8bNp6z7aOj0ryF0m+kuSLSV6T5CFJvhf4E+Bp7Zndu9rxn5fkX5Pc3Z71fW3PvB6W5J1J7mzj/ESSsZ7lvK1d/peSvMENsKReq/BEAdDsCAMvBb7GPNu4UdDnbfRjWPzO+9APyCSNjBmPIZKc2u4X39Pud76iLZ/a939Vux++NcmZPdPNtZ871Uvo7CS3AR8F/qn9+K52f/lpSR6X5KPt/vBXk1yU5MB2Hn8JfDfwN+34v96WPzXJ/2v3nz+dZHye6//fgLuA1zOtfUlzUuKv2n3ze5Jcl+QJ7THDznb9nt0z/kSSn2/fn5XkyvY46OtJbk3y3J5xj0hyaXtMckuS/96WnwK8Cvjpdv0+3TPv85L8C/DvwGOT/GySG9vYvpDkF3rmv6djtN3+v0meANzU8//4aDvu9yS5vI31piQv6pnPhUnemuRvk9wL/KjHOiOmqnx17AXcAvxP4AeAbwFjbfmFwBva9+PAtvb9bwCfAg5th38AeCqwN7AGuBH4lZ75F/D4Wea5i2aDug9wKs0G66D28zcBlwIHAwcAfwP8nz2sS2+cDwF+sl2nJ7axFfBnwH7Ak4H7gO9tx389TQN3GHAo8P+A324/+z80yZp92tczgbSfbQU+CxzdxvovC1jHvwAuaddvDfBvwNntZ2cBV86wfie06/Z9wB3A6e1nv9DW0cOBvdr/yyPbzz4A/CnwiHb9rgZ+YdjfPV++fI3OC/jNdvv1RuCDPeW92+2DgA8CX6FJvH8QOKpn3AngDe32c7LdJn0XcBFwN/AJYE3P+NPbhzcDlwH3AB8HHtcz7vcAl9MkeW4CXjTP9fph4JvAS4A7gYf2fHZWu86/T7OD/wXgv7TltwM7gXWz1MU4sA3Y0I63A/jZnnEf1W7jvwJ8EXhNu+3+XuA/gPvbOrqrZ95vBf4WuBd4FvA84F/bursdeG3P/Ne09bcOuA34KvDqns9PAj7ZTntH+3/dt11mtcv4fDvuEcB721hvBX6pZz6vBf4aeGc7r59v5/2xts52AH88Va9A2vrcSXM2/TPAk9rP9qXptXRbG9OfAPsN+7vvy5evxb2Y/RhiB/DM9v1BwPe378dp9ountkc/0m6Lntjz+Wz7uVPbvL+g2Z/dr6ds756YHg/8eDv/Q2kSSG/q+Xwr8Kye4SNp2oZT2+X+eDt86DzW/wrgd2l6zOyaWs/2s9fSbOufQ3OM9Bft9vXVNMcE/x24tWf8CeDn2/dntfX532n26f8HsJ0Hjj3+EXgLTS+dE9tt98k9y33ntDgn2u3u8W0s+9C0L49rt9k/QnN8Mv3/NNvxy2z/3wf9P9r/0+3Az7bL/X6atur49vMLadqJp7d1/7A9fAc81hn0b3zYAfga8D8cntFufA5phz8H/Gr7/kIevBP8JZqN+ZXAo+aY568A7+8Znis59E0evEHfSZNoCk1j0Xtg8DR6NqKzLHsc+DbNDuvXgGuBM9rPpjZYvQcyV/d8/nng1J7PngNsbd+/niaJ8/gZlrkV+MWe4VN5YId7rnXciyY5dVzPZ78ATLTvz2JacmiGZb8J+P32/c/RHJB937Rxxtrl7NdT9mLgH4b9/fPly9fovJjfiYLvojlT+nCapPZfAR/omcdEO5/H0SRHbqBJej+LB3aO39Ez/vT24Ws0iYe9aRJKF7efzbmDuYf1ehuwhWYH907gv/Z8dhbNDvDPttvkN9DsQL+Z5sDi2TSJqv1nqItxljf5fyEL20lew9wnPD4GvLR9vz/w1Fnq/SHANTTJwYcCj6VJkj2n/fy1NN+H09tx92OOk0I0bec1wIE0bfn3Aoe3n72JBZ708eXL12i+mPsY4jaafdpHTptmarv5iJ6yLcBvzLKMN/HAfu7UNu+xPZ9Ple09R5ynA//aM7yVByeHXgn85bRp/p6eEwOzzPe7aY45TuyZ5g96Pn8tcHnP8E/QJOf3aocPaGM/sB2e4MHJoVt6pn14O+6jaU5G3w8c0PP5/wEu7FnuTMmh1+9hfT4A/HLP/2nG45c9/H8f9P8Afhr452nj/CnwW+37C4G/2ENcvd8Bj3UG/PKysu5ZB3y4qr7aDr+L2bvdHwisp9mR+8ZUYdtF8oNJvpzkbuB/A4fMc/l3VtWunuF/p9mJPZRmQ3hN223wLuDv2vI92V5VB1bVwVV1YlVdPO3zL8+wPGjOnH6x57MvtmUA/5fmgOfDbdfLjdPmefss0821jofQ7IhPX+aRs61Ykh9K8g9pLkP7BvCLPFDXf0nTMF2c5rK4301zY7jH0By47Oipyz+lyapLEkmeQbOt2FJV19Aky39m+nhVdWdVvbeq/r2q7gHOoznj2OsdVfX5tp34EE2y/CPtdvCvgLlugPy+qrq6HfcimjOiAM+nSda/o6p2VdWnaHq6/NQe1uvhwAuBd1XVt2h6wExv425t53s/8B6aHe/XV9V9VfVh4D9pzkTP5FvtuN+qqr+l2fF/YtuV/aeBc6vqnqraClxAc3nbXC6pqn+pqm9X1X9U1URVXdcOfwZ4N7vX9+uq6ptV9Wng0zRJoqnYHp/kkKqarKqrZlnmD9KcIX99Vf1nNfeA+jPgjJ5xPlZVH2jj+GZVXVNVV7X/i600bcpUXN+iOej5Hpqz3DdW1Y4koTkL/qtV9bX2+/O/py1H0sox1zHEf6NJmH8xyT8meVrPdF+vqnt7hr+z37yH/dwptzOHJIclubi9tOhuml6Pcx2XPAZ44dQ+cruf/Azg8LmWQ7M9v7Gqrm2HLwJ+pt33nnJHz/tvAl9t25qpYXjgOGS67xyvVNW/94x7BDC1DZ0y5/FD60H1luS5Sa5qL/e6i+b/1VtPsx2/wNz/316PAX5oWt2eSZPkmi0uj3VGiMmhDklz/54XAT/SJna+DPwq8OQkT55hkq/T7KC/I8nTe8rfSnO24NiqeiTNta5ZYnhfpdloHt8meg6sqkdVc6PpftlOs3GZ8t1tGe3O/YaqeixN5v/XkpzcM+7RM023B1+l2Ymevswvte9rhmneRXPW9eiqehRNl/y0MX6rql5XVcfRXBbxfJprwW+nyaYf0lOXj6yq4+cRo6RumNeJgiQPT/Knae6RdjdNd/0Dp13XP31nePrwXNvx2ZL389nBnMlP0pyl/tt2+CLguUl6TzRMj4+qmm/My5b8by1kJ3nKbHV2NvAE4HPtfRmeP8syHwMcMa1uX0VzJna2uGY9KVRVH6W5zOzNwB1JNiV5JEs76SNphOzpGKKqPlFVp9EcnH+ApnfQlIPS3Mh5Su9+86z7uT1qlvdT/k9b/n3tcclLps1j+jS30/QcOrDn9YiqOn+uOqDZx35sz/q/kWY7+Ny5J1uy7cDBSQ7oKdvT8cODytPcU/W9NJf5jlXVgTTt5LyO3/bw/+11O/CP0+p2/6r6HzPF1fJYZ4SYHOqW02m6JR5Hc3b2RJru3/9M80PbTVVN0OyQvz/JD7XFB9Dch2AyyffQXBe7JFX1bZozl7+f5DCAJEcmec5S5z2HdwOvSXJokkNouti/s13285M8vj3zeTdNvd3fM+05aW7OfTDNTvV79rSw9szBFuC8JAckeQzwa1PLpDlgOSoPvrn3ATRnC/4jzVN3vnNmP8mPJjmhPUi7mybxdH9V7QA+DFyQ5JFpbnj9uCTTzz5L6qAFnijYQHMPtx9qd7p/eGo2fQ5zPjuYM1lHkyy5rV2vv6I5u/jiPse7mOT/TOXzOVCaeUZVN1fVi2l23n8H+OtpB2RTbqfpPdVbtwdU1alzxDXnSaGq+sOq+gGa+1s8Afj/GM5JH0n9cTqzH0OcleTMJI9qe2xO7Tf3el2ShyZ5Js0B/l+15bPu587iKzSXdj22p+wA2vu5JTmSZvvT645p478T+Ikkz0myV5qbHo8nOWq2hbY9ZR5Hcxn01Po/ibmvwFgWVXU7zaVV/6eN9ftoTgZc1I5yB7Amcz+R7KE0l05/BdiV5mbXz55j/O9o/297+v9O+SDwhCQvTbJP+/rBNA/emY3HOiPE5FC3rKPp/n9bVX156kVzxu9MmnsJ7KaqLqe5P8OlSX4AeAXND/cemoTOHhMj8/RKmku5rmrPTH6E5qCkX95Ac/POzwDX0dx0+w3tZ8e2y5+kuY/DW9pE2ZR30WyUvtC+3sD8/C+aeyt9geZeTu8C3t5+9lGap8l8OcnU2fz/Cbw+yT00yaveTP2jaS6ZuJvm/g//yAOJppfRNAQ30PQA+2v23F1WUjeczvxPFBxAc4B/V5sM/60BxbjgHcz2oOBkmgOPE9vXk2kSJf3eeV9M8n8mCz1Q+o4kL0lyaHuy5a62eKYd+KuBu5O8Msl+7cHRk5L84B7imvGkUPt/+aE0Xf3vpb359pBO+kjqj7mOIdbRHCdsbffff5Gm986UL9Psi26nSWj8YlV9rv1srv3c3bSXW50H/EvbI/GpwOto7kv3DZoHHLxv2mT/h+Zk8F1JXtEmW06jSXJ/hSZh/v8x93HxOprLgK+btv5/ADy/bR/76cU09/fZDryf5h4+l7efTSXa7kzyqZkmbi9J+yWa+v06Tdty6QKW/1Jm//9OX86zaS4f3k7zv/8dmsTUbDzWGSFTd0CXNE9JttLcQO4jw45FkhYqyd8B11fVhmnlLwL+kCYxvrWqXpPkCJok9lqaHb0LaJ/kWFW7kkzQ3Ajzz9t5vIHmIQBntcPPAv6kqh7fDhdN75NbklxI87TJ17SfjbfzOqodfiJNt/2TaHbaPw38Ws/9Hqav10bghW0Plt7yqfvLPaVdj5+vqme0nz0euLmq0jP+NpoHF1zZG+P0+Npxt7bz+0iSg4A/orlB83/QJEbeUFXfbpNC76d50MK3q+qQ6evfzu+n2jo+mGYneCvNzUtfkmQNzZNv9pm6tK23/pO8k2an/OHt+r66qj4wvd576uQC4EdpdtpvAl7TrsdraW5e/Z2d/yQ/DGwCjqJ5mto/AD9WVc9Ic8n179Ocmf8PmvtD/EJVTSZ5GM3O/hk0l198CXhrVf3hTP9DSavLTNtNSaPL5JC0QCaHJEmSpLmZHJJWFi8r08hL8qokkzO8PjTs2CRJkiStfLMcb0y290qSVj17DkmSpBUjyfU8+MbPU36hqi6aoVySJEl7YHJIkiRJkiSpw2Z8OtWgHXLIIbVmzZrdyu+9914e8YiZnsLaXdbJg1kfu7NOdjeMOrnmmmu+WlWHDnShHTdbWzKXUfq9jFIsMFrxjFIsMFrxGMvsRimexcZiWzJ4i2lLYLS+b/3iOq4eXVhP1/EB821L5p0cSrIXzWO/v1RVU4/sew/NY/W2Ai+qqq+3454LnE3zCNVfqqq/n2vea9as4ZOf/ORu5RMTE4yPj883xE6wTh7M+tiddbK7YdRJki8OdIGatS2Zyyj9XkYpFhiteEYpFhiteIxldqMUz2JjsS0ZvMW0JTBa37d+cR1Xjy6sp+v4gPm2JQu5IfUvAzf2DG8ErqiqY4Er2mGSHEfzyNLjgVOAt7SJJUmSJEmSJI2YeSWHkhwFPA/4857i04DN7fvNwOk95RdX1X1VdStwC3DSskQrSZIkSZKkZTXfy8reBPw6cEBP2VhV7QCoqh1JDmvLjwSu6hlvW1v2IEnWA+sBxsbGmJiY2G2hk5OTM5Z3mXXyYNbH7qyT3VknkiRJkjS7PSaHkjwf2FlV1yQZn8c8M0PZbo9Eq6pNwCaAtWvX1kzXynXhOsGFsk4ezPrYnXWyO+tEkiRJkmY3n55DTwdekORU4GHAI5O8E7gjyeFtr6HDgZ3t+NuAo3umPwrYvpxBS5IkSZIkaXns8Z5DVXVuVR1VVWtobjT90ap6CXApsK4dbR1wSfv+UuCMJPsmOQY4Frh62SOXJEmSJEnSks37UfYzOB/YkuRs4DbghQBVdX2SLcANwC7gnKq6f8mRSpIkSZIkadktKDlUVRPARPv+TuDkWcY7DzhvibFJkiRJkiSpz+b1KHtJkiRJkiStTku5rGzo1my8bODL3Hr+8wa+TElS/9iWSJKW6rovfYOzBtye2JZIWk72HJIkSZIkSeowk0OSJEmSJEkdZnJIkiRJkiSpw0wOSZIkSZIkdZjJIUmSJEmSpA4zOSRJkiRJktRhJockSZIkSZI6zOSQJEmSJElSh5kckiRJkiRJ6jCTQ5IkSZIkSR1mckiSJEmSJKnDTA5JkiRJkiR1mMkhSZIkSZKkDjM5JEmSJEmS1GEmhyRJA5Fka5Lrklyb5JNt2cFJLk9yc/v3oJ7xz01yS5KbkjxneJFLkiRJq5vJIUnSIP1oVZ1YVWvb4Y3AFVV1LHBFO0yS44AzgOOBU4C3JNlrGAFLkiRJq90ek0NJHpbk6iSfTnJ9kte15a9N8qX2DPC1SU7tmcazvZKk+TgN2Ny+3wyc3lN+cVXdV1W3ArcAJw0+PEmSJGn123se49wH/FhVTSbZB7gyyYfaz36/qn6vd+RpZ3uPAD6S5AlVdf9yBi5JWnEK+HCSAv60qjYBY1W1A6CqdiQ5rB33SOCqnmm3tWUPkmQ9sB5gbGyMiYmJBQU0OTnJhhMG3zzNFOfk5OSC4++nUYpnlGKB0YrHWGY3SvGMUiySJM1kj8mhqipgsh3cp33VHJN852wvcGuSqbO9H1tirJKkle3pVbW9TQBdnuRzc4ybGcp2a3vaBNMmgLVr19b4+PiCApqYmOCCK+9d0DTLYeuZ4zPGstD4+2mU4hmlWGC04jGW2Y1SPKMUy0qXZCtwD3A/sKuq1iY5GHgPsAbYCryoqr7ejn8ucHY7/i9V1d8PIWxJGnnz6TlEe5+Ha4DHA2+uqo8neS7w8iQvAz4JbGg3wst2tndPZ1k2nLBrPuEvq2Gf9fHM04NZH7uzTnZnnYyGqtre/t2Z5P00Jw7uSHJ422vocGBnO/o24OieyY8Ctg80YEnSqPrRqvpqz/DU/evOT7KxHX6lVzRI0vzNKznUbkBPTHIg8P4kTwLeCvw2zZnc3wYuAH6OZTzbu6ezLGdtvGw+4S+rmc72DpJnnh7M+tiddbI762T4kjwCeEhV3dO+fzbweuBSYB1wfvv3knaSS4F3JXkjzQ79scDVAw9ckrQSnAaMt+83AxPAK/GKBkmat3klh6ZU1V1JJoBTeu81lOTPgA+2g57tlSRNN0ZzcgGatuddVfV3ST4BbElyNnAb8EKAqro+yRbgBmAXcI5neiVJjOD96wDG9hv8VQ2D7hXdhZ7YXVhH6MZ6uo4Lt8fkUJJDgW+1iaH9gGcBvzN1GUA72k8Cn23fe7ZXkvQgVfUF4MkzlN8JnDzLNOcB5/U5NEnSyjJy968D+KOLLuGC6xZ03n3JBn1FQxd6YndhHaEb6+k6Ltx8tmCHA5vb+w49BNhSVR9M8pdJTqTZwG4FfgE82ytJkiSpP7x/nST1x3yeVvYZ4CkzlL90jmk82ytJkiRp2Xj/Oknqn8H2fZQkSZKkxfH+dZLUJyaHJEmSJI08718nSf3zkGEHIEmSJEmSpOExOSRJkiRJktRhJockSZIkSZI6zOSQJEmSJElSh5kckiRJkiRJ6jCTQ5IkSZIkSR1mckiSJEmSJKnDTA5JkiRJkiR1mMkhSZIkSZKkDjM5JEmSJEmS1GEmhyRJkiRJkjrM5JAkSZIkSVKHmRySJEmSJEnqMJNDkiRJkiRJHWZySJIkSZIkqcNMDkmSJEmSJHXYHpNDSR6W5Ookn05yfZLXteUHJ7k8yc3t34N6pjk3yS1JbkrynH6ugCRJkiRJkhZvPj2H7gN+rKqeDJwInJLkqcBG4IqqOha4oh0myXHAGcDxwCnAW5Ls1YfYJUmSJEmStER7TA5VY7Id3Kd9FXAasLkt3wyc3r4/Dbi4qu6rqluBW4CTljNoSZIkSZIkLY953XMoyV5JrgV2ApdX1ceBsaraAdD+Pawd/Ujg9p7Jt7VlkiRJkiRJGjF7z2ekqrofODHJgcD7kzxpjtEz0yx2GylZD6wHGBsbY2JiYreJJicnZyyfsuGEXXOF3RdzxTMIe6qTrrE+dmed7M46kSRJkqTZzSs5NKWq7koyQXMvoTuSHF5VO5IcTtOrCJqeQkf3THYUsH2GeW0CNgGsXbu2xsfHd1vexMQEM5VPOWvjZQsJf1lsPXN84Mvstac66RrrY3fWye6sE0mSJEma3XyeVnZo22OIJPsBzwI+B1wKrGtHWwdc0r6/FDgjyb5JjgGOBa5e5rglSZIkSZK0DObTc+hwYHP7xLGHAFuq6oNJPgZsSXI2cBvwQoCquj7JFuAGYBdwTntZmiRJkiRJkkbMHpNDVfUZ4CkzlN8JnDzLNOcB5y05OkmSJEmSJPXVvJ5WJkmSJEmSpNXJ5JAkaWCS7JXkX5N8sB0+OMnlSW5u/x7UM+65SW5JclOS5wwvakmSJGl1MzkkSRqkXwZu7BneCFxRVccCV7TDJDkOOAM4nuYJmW9p730nSZIkaZmZHJIkDUSSo4DnAX/eU3wasLl9vxk4vaf84qq6r6puBW4BThpQqJKkEWYvVElafvN5WpkkScvhTcCvAwf0lI1V1Q6AqtqR5LC2/Ejgqp7xtrVlD5JkPbAeYGxsjImJiQUFNDk5yYYTBv9AzZninJycXHD8/TRK8YxSLDBa8RjL7EYpnlGKZZWY6oX6yHZ4qhfq+Uk2tsOvnNYL9QjgI0me4JOUJWl3JockSX2X5PnAzqq6Jsn4fCaZoax2K6jaBGwCWLt2bY2Pz2fWD5iYmOCCK+9d0DTLYeuZ4zPGstD4+2mU4hmlWGC04jGW2Y1SPKMUy0rX0wv1PODX2uLTgPH2/WZgAnglPb1QgVuTTPVC/dgAQ5akFcHkkCRpEJ4OvCDJqcDDgEcmeSdwR5LD215DhwM72/G3AUf3TH8UsH2gEUuSRtGbWOZeqJIkk0OSpAGoqnOBcwHankOvqKqXJPm/wDrg/PbvJe0klwLvSvJGmksBjgWuHnDYkqQR0q9eqEu9RBlgbD/YcMKuBU+3FIO+VLELl0d2YR2hG+vpOi6cySFJ0jCdD2xJcjZwG/BCgKq6PskW4AZgF3CO94iQpM7rSy/UpV6iDPBHF13CBdcN9tBqpkuU+6kLl0d2YR2hG+vpOi6cTyuTJA1UVU1U1fPb93dW1clVdWz792s9451XVY+rqidW1YeGF7EkaRRU1blVdVRVraG50fRHq+olNL1N17WjTe+FekaSfZMcg71QJWlW9hySJEmStJLZC1WSlsjkkCRJkqQVpaomaJ5KRlXdCZw8y3jn0TzZTJI0By8rkyRJkiRJ6jCTQ5IkSZIkSR1mckiSJEmSJKnDTA5JkiRJkiR1mMkhSZIkSZKkDjM5JEmSJEmS1GF7TA4lOTrJPyS5Mcn1SX65LX9tki8lubZ9ndozzblJbklyU5Ln9HMFJEmSJEmStHh7z2OcXcCGqvpUkgOAa5Jc3n72+1X1e70jJzkOOAM4HjgC+EiSJ1TV/csZuCRJkiRJkpZujz2HqmpHVX2qfX8PcCNw5ByTnAZcXFX3VdWtwC3AScsRrCRJkiRJkpbXgu45lGQN8BTg423Ry5N8JsnbkxzUlh0J3N4z2TbmTiZJkiRJkiRpSOZzWRkASfYH3gv8SlXdneStwG8D1f69APg5IDNMXjPMbz2wHmBsbIyJiYndJpqcnJyxfMqGE3bNN/xlM1c8g7CnOuka62N31snurBNJkiRJmt28kkNJ9qFJDF1UVe8DqKo7ej7/M+CD7eA24OieyY8Ctk+fZ1VtAjYBrF27tsbHx3db7sTEBDOVTzlr42XzCX9ZbT1zfODL7LWnOuka62N31snurBNJkiRJmt18nlYW4G3AjVX1xp7yw3tG+0ngs+37S4Ezkuyb5BjgWODq5QtZkiRJkiRJy2U+PYeeDrwUuC7JtW3Zq4AXJzmR5pKxrcAvAFTV9Um2ADfQPOnsHJ9UJkmSJEmSNJr2mByqqiuZ+T5CfzvHNOcB5y0hLkmSJEmSJA3Agp5WJkmSJEmSpNXF5JAkSZIkSVKHmRySJEmSJEnqMJNDkiRJkiRJHWZySJIkSZIkqcNMDkmSJEmSJHWYySFJkiRJkqQOMzkkSZIkSZLUYSaHJEmSJEmSOszkkCRJkiRJUoeZHJIkSZIkSeowk0OSJEmSJEkdZnJIktR3SR6W5Ookn05yfZLXteUHJ7k8yc3t34N6pjk3yS1JbkrynOFFL0mSJK1uJockSYNwH/BjVfVk4ETglCRPBTYCV1TVscAV7TBJjgPOAI4HTgHekmSvYQQuSZIkrXYmhyRJfVeNyXZwn/ZVwGnA5rZ8M3B6+/404OKquq+qbgVuAU4aXMSSpFFjL1RJ6p+9hx2AJKkb2p4/1wCPB95cVR9PMlZVOwCqakeSw9rRjwSu6pl8W1s2fZ7rgfUAY2NjTExMLCimyclJNpxw/0JXZclminNycnLB8ffTKMUzSrHAaMVjLLMbpXhGKZYVbqoX6mSSfYArk3wI+K80vVDPT7KRphfqK6f1Qj0C+EiSJ1TV4Df8kjTiTA5Jkgai3Rk/McmBwPuTPGmO0TPTLGaY5yZgE8DatWtrfHx8QTFNTExwwZX3Lmia5bD1zPEZY1lo/P00SvGMUiwwWvEYy+xGKZ5RimUlq6oCZuuFOt6WbwYmgFfS0wsVuDXJVC/Ujw0uaklaGbysTJI0UFV1F82O+ynAHUkOB2j/7mxH2wYc3TPZUcD2wUUpSRpFSfZKci1Ne3F5VX0ceFAvVKC3F+rtPZPP2AtVkmTPIUnSACQ5FPhWVd2VZD/gWcDvAJcC64Dz27+XtJNcCrwryRtpLgU4Frh64IFLkkZKP3qhLvUSZYCx/WDDCbsWPN1SDPpSxS5cHtmFdYRurKfruHB7TA4lORr4C+DRwLeBTVX1B0kOBt4DrAG2Ai+qqq+305wLnA3cD/xSVf39skUsSVqJDgc2t/cdegiwpao+mORjwJYkZwO3AS8EqKrrk2wBbgB2Aed4jwhJ0pT2ZMMEPb1Q23vXLbgX6lIvUQb4o4su4YLrBnvefaZLlPupC5dHdmEdoRvr6Tou3HwuK9sFbKiq7wWeCpzT3tzNxw9Lkualqj5TVU+pqu+rqidV1evb8jur6uSqOrb9+7Weac6rqsdV1ROr6kPDi16SNAqSHNr2GKKnF+rneKAXKuzeC/WMJPsmOQZ7oUrSrPaY3m6v2526hveeJDfSXKvrjd8kSZIkDYq9UCWpTxbU9zHJGuApwG43fuvH44f3dA3doK/rhcFf2ztdF66dXAjrY3fWye6sE0mSVr6q+gzNscj08juBk2eZ5jzgvD6HJkkr3ryTQ0n2B94L/EpV3Z3MdH+3ZtQZyhb1+OE9XUN31sbL9hT2shv0tb3TdeHayYWwPnZnnezOOpEkSZKk2c3rUfZJ9qFJDF1UVe9ri338sCRJkiRJ0gq3x+RQmi5CbwNurKo39nzkjd8kSZIkSZJWuPlcVvZ04KXAdUmubcteBZyPN36TJEmSJEla0ebztLIrmfk+QuCN3yRJkiRJkla0ed1zSJIkSZIkSauTySFJkiRJkqQOMzkkSZIkSZLUYSaHJEmSJEmSOszkkCRJkiRJUoeZHJIkSZIkSeowk0OSJEmSJEkdZnJIkiRJkiSpw0wOSZIkSZIkdZjJIUmSJEmSpA4zOSRJkiRJktRhJockSZIkSZI6zOSQJEmSJElSh5kckiRJkiRJ6jCTQ5IkSZIkSR1mckiSJEmSJKnDTA5JkiRJkiR1mMkhSZIkSZKkDttjcijJ25PsTPLZnrLXJvlSkmvb16k9n52b5JYkNyV5Tr8ClyRJkiRJ0tLNp+fQhcApM5T/flWd2L7+FiDJccAZwPHtNG9JstdyBStJkiRJkqTltcfkUFX9E/C1ec7vNODiqrqvqm4FbgFOWkJ8kiRJkiRJ6qO9lzDty5O8DPgksKGqvg4cCVzVM862tmw3SdYD6wHGxsaYmJjYbZzJyckZy6dsOGHXIkNfvLniGYQ91UnXWB+7s052Z51IkiRJ0uwWmxx6K/DbQLV/LwB+DsgM49ZMM6iqTcAmgLVr19b4+Phu40xMTDBT+ZSzNl62sKiXwdYzxwe+zF57qpOusT52Z53szjqRJEmSpNkt6mllVXVHVd1fVd8G/owHLh3bBhzdM+pRwPalhShJWumSHJ3kH5LcmOT6JL/clh+c5PIkN7d/D+qZxgccSJIkSQOwqORQksN7Bn8SmHqS2aXAGUn2TXIMcCxw9dJClCStArtoLkH+XuCpwDntQww2AldU1bHAFe2wDziQJO3GEw2S1D/zeZT9u4GPAU9Msi3J2cDvJrkuyWeAHwV+FaCqrge2ADcAfwecU1X39y16SdKKUFU7qupT7ft7gBtp7kl3GrC5HW0zcHr73gccSJKm80SDJPXJHu85VFUvnqH4bXOMfx5w3lKCkiStXknWAE8BPg6MVdUOaBJISQ5rR5vXAw7m83CDuUxOTrLhhMGfw1jMQxgGbZTiGaVYYLTiMZbZjVI8oxTLSta2F1Ntxj1Jek80jLejbQYmgFfSc6IBuDXJ1ImGjw02ckkafUt5WpkkSQuSZH/gvcCvVNXdyUzPMWhGnaFstwcczOfhBnOZmJjggivvXdA0y2GmhxuM2o3TRymeUYoFRiseY5ndKMUzSrGsFqN0ogFgbL/BP0l50AnHLiQ5u7CO0I31dB0XzuSQJGkgkuxDkxi6qKre1xbfkeTwdmf+cGBnW+4DDiRJMxq1Ew0Af3TRJVxw3WAPrQb9FOUuJDm7sI7QjfV0HRduUTekliRpIdLsub8NuLGq3tjz0aXAuvb9OuCSnnIfcCBJepC5TjS0n3uiQZIWweSQJGkQng68FPixJNe2r1OB84EfT3Iz8OPtsA84kCTtxhMNktQ/XlYmSeq7qrqSmbv3A5w8yzQ+4ECS1GvqRMN1Sa5ty15Fc2JhS/tU5duAF0JzoiHJ1ImGXXiiQZJmZXJIkiRJ0sjzRIMk9Y+XlUmSJEmSJHWYySFJkiRJkqQO87KyBVqz8bKBLm/r+c8b6PIkSZIkSVK32HNIkiRJkiSpw0wOSZIkSZIkdZjJIUmSJEmSpA4zOSRJkiRJktRhJockSZIkSZI6zOSQJEmSJElSh5kckiRJkiRJ6jCTQ5IkSZIkSR1mckiSJEmSJKnD9pgcSvL2JDuTfLan7OAklye5uf17UM9n5ya5JclNSZ7Tr8AlSZIkSZK0dPPpOXQhcMq0so3AFVV1LHBFO0yS44AzgOPbad6SZK9li1aSJEmSJEnLao/Joar6J+Br04pPAza37zcDp/eUX1xV91XVrcAtwEnLE6okSZIkSZKW296LnG6sqnYAVNWOJIe15UcCV/WMt60t202S9cB6gLGxMSYmJnYbZ3JycsbyKRtO2LWI0FeW6eu/pzrpGutjd9bJ7qwTSZIkSZrdYpNDs8kMZTXTiFW1CdgEsHbt2hofH99tnImJCWYqn3LWxssWE+OKsvXM8QcN76lOusb62J11sjvrRJIkSZJmt9inld2R5HCA9u/OtnwbcHTPeEcB2xcfniRJkiRJkvppscmhS4F17ft1wCU95Wck2TfJMcCxwNVLC1GSJEmSJEn9ssfLypK8GxgHDkmyDfgt4HxgS5KzgduAFwJU1fVJtgA3ALuAc6rq/j7FLkmSJEmSpCXaY3Koql48y0cnzzL+ecB5SwlKkiRJkiRJg7HYy8okSZIkSZK0CpgckiRJkiRJ6jCTQ5IkSZIkSR1mckiSJEmSJKnDTA5JkiRJkiR1mMkhSZIkSZKkDjM5JEmSJEmS1GEmhyRJfZfk7Ul2JvlsT9nBSS5PcnP796Cez85NckuSm5I8ZzhRS5IkSd1gckiSNAgXAqdMK9sIXFFVxwJXtMMkOQ44Azi+neYtSfYaXKiSpFHkiQZJ6h+TQ5KkvquqfwK+Nq34NGBz+34zcHpP+cVVdV9V3QrcApw0iDglSSPtQjzRIEl9sfewA5AkddZYVe0AqKodSQ5ry48EruoZb1tbtpsk64H1AGNjY0xMTCwogMnJSTaccP8Cw166meKcnJxccPz9NErxjFIsMFrxGMvsRimeUYplJauqf0qyZlrxacB4+34zMAG8kp4TDcCtSaZONHxsIMFK0gpjckiSNGoyQ1nNNGJVbQI2Aaxdu7bGx8cXtKCJiQkuuPLehca3ZFvPHJ8xloXG30+jFM8oxQKjFY+xzG6U4hmlWFahoZ9oABjbDzacsGvB0y3FoBOOXUhydmEdoRvr6TounMkhSdKw3JHk8HZn/nBgZ1u+DTi6Z7yjgO0Dj06StJIN7EQDwB9ddAkXXDfYQ6uZTjT0UxeSnF1YR+jGerqOC+c9hyRJw3IpsK59vw64pKf8jCT7JjkGOBa4egjxSZJG3x3tCQY80SBJi2dySJLUd0neTXOfhycm2ZbkbOB84MeT3Az8eDtMVV0PbAFuAP4OOKeqBn9jIEnSSuCJBklaBl5WJknqu6p68SwfnTzL+OcB5/UvIknSStOeaBgHDkmyDfgtmhMLW9qTDrcBL4TmREOSqRMNu/BEgyTNyeSQJEmSpJHniQZJ6h8vK5MkSZIkSeqwJfUcSrIVuAe4H9hVVWuTHAy8B1gDbAVeVFVfX1qYkiRJkiRJ6ofl6Dn0o1V1YlWtbYc3AldU1bHAFe2wJEmSJEmSRlA/Lis7Ddjcvt8MnN6HZUiSJEmSJGkZLDU5VMCHk1yTZH1bNlZVOwDav4ctcRmSJEmSJEnqk6U+rezpVbU9yWHA5Uk+N98J22TSeoCxsTEmJiZ2G2dycnLG8ikbTti10HhXnOnrv6c66RrrY3fWye6sE0mSJEma3ZKSQ1W1vf27M8n7gZOAO5IcXlU7khwO7Jxl2k3AJoC1a9fW+Pj4buNMTEwwU/mUszZetpTwV4StZ44/aHhPddI11sfurJPdWSeSJEmSNLtFX1aW5BFJDph6Dzwb+CxwKbCuHW0dcMlSg5QkSZIkSVJ/LKXn0Bjw/iRT83lXVf1dkk8AW5KcDdwGvHDpYUqSJEmSJKkfFp0cqqovAE+eofxO4OSlBCVJkiRJkqTB6Mej7CVJkiRJkrRCmBySJEmSJEnqsKU+yl59tmbaE9k2nLCrr09p23r+8/o2b0mSJEmSNHrsOSRJkiRJktRhJockSZIkSZI6zOSQJEmSJElSh5kckiRJkiRJ6jCTQ5IkSZIkSR1mckiSJEmSJKnDTA5JkiRJkiR1mMkhSZIkSZKkDjM5JEmSJEmS1GEmhyRJkiRJkjrM5JAkSZIkSVKH7T3sADRa1my8bKDL23r+8wa6PEmSJEmS9GAmhyRJkiRphRn0Sd0LT3nEQJcnabBMDkmSNGAz7dBvOGEXZ/VpR99empIkSZqL9xySJEmSJEnqMJNDkiRJkiRJHda3y8qSnAL8AbAX8OdVdX6/lqWVa6nXSi/0MgwvrZBWFtsSSdJS2ZZI0p71JTmUZC/gzcCPA9uATyS5tKpu6MfypPka9I37hqGf9y2ZiQk39YttyfJZzLZvKdsStwuSRoVtiSTNT796Dp0E3FJVXwBIcjFwGuBGWFplVkLCzYPcFcu2ZIVa7u3CoJPeezKMJ/bMVqf9qptBb/v60ZbMVTdu2zvFtmSZXPelb4zUtni5uV1Q16Wqln+myU8Bp1TVz7fDLwV+qKpe3jPOemB9O/hE4KYZZnUI8NVlD3Bls04ezPrYnXWyu2HUyWOq6tABL3NVWca2ZC6j9HsZpVhgtOIZpVhgtOIxltmNUjyLjcW2ZIkG1JbAaH3f+sV1XD26sJ6u4wPm1Zb0q+dQZih7UBaqqjYBm+acSfLJqlq7nIGtdNbJg1kfu7NOdmedrFjL0pbMuYAR+m6MUiwwWvGMUiwwWvEYy+xGKZ5RiqWD+t6WQDf+x67j6tGF9XQdF65fTyvbBhzdM3wUsL1Py5IkrU62JZKkpbItkaR56Fdy6BPAsUmOSfJQ4Azg0j4tS5K0OtmWSJKWyrZEkuahL5eVVdWuJC8H/p7mkZFvr6rrFzGrJXXvXKWskwezPnZnnezOOlmBlrEtmcsofTdGKRYYrXhGKRYYrXiMZXajFM8oxdIpA2pLoBv/Y9dx9ejCerqOC9SXG1JLkiRJkiRpZejXZWWSJEmSJElaAUwOSZIkSZIkddhIJoeSnJLkpiS3JNk47HgGKcnWJNcluTbJJ9uyg5NcnuTm9u9BPeOf29bTTUmeM7zIl0+StyfZmeSzPWULroMkP9DW5S1J/jDJTI8yXRFmqZPXJvlS+125NsmpPZ+t6jpJcnSSf0hyY5Lrk/xyW97p74nmbxjtzBzf2wX/lpcpnpFob5I8sWfdr01yd5JfGWS9jFK7M0ss/zfJ55J8Jsn7kxzYlq9J8s2eOvqT5YxljniG0v7MEst7euLYmuTatryvdTPH79l2qGOywo9bRmn71w9d+a0meViSq5N8ul3P17Xlq2o9AZLsleRfk3ywHV5V65hl2j9b1DpW1Ui9aG4U93ngscBDgU8Dxw07rgGu/1bgkGllvwtsbN9vBH6nfX9cWz/7Ase09bbXsNdhGergh4HvBz67lDoArgaeBgT4EPDcYa/bMtfJa4FXzDDuqq8T4HDg+9v3BwD/1q53p78nvub9/RlKOzPH93bBv+Vlimfk2pv2f/Nl4DGDrJdRandmieXZwN7t+9/piWVN73jT5rMs27ZZ4lnw/6ZfdTPt8wuA3xxE3WA75KtWx3HLKG3/+rR+nfittjHt377fB/g48NTVtp5tfL8GvAv44Gr7vraxbWUZ9s8Ws46j2HPoJOCWqvpCVf0ncDFw2pBjGrbTgM3t+83A6T3lF1fVfVV1K3ALTf2taFX1T8DXphUvqA6SHA48sqo+Vs2v4y96pllxZqmT2az6OqmqHVX1qfb9PcCNwJF0/HuieRtKOzPH93Y2w9jGD7u9ORn4fFV9cQ8xLmsso9TuzBRLVX24qna1g1cBR801j+Xcto1S+zNXLO0Z0RcB755rHssYi+2QYBUct4zS9q8fuvJbrcZkO7hP+ypW2XomOQp4HvDnPcWrah1nMZB1HMXk0JHA7T3D25h753m1KeDDSa5Jsr4tG6uqHdBs4IDD2vIu1dVC6+DI9v308tXm5WkuM3h7T/fCTtVJkjXAU2jOkPg90XwMfds57XsLC/stL5dRbG/O4MEH98Oolymjuj35OZozgFOOabvX/2OSZ/bE2O9YRq39eSZwR1Xd3FM2kLqxHeq0obcnfbIqv8er/bfaXm51LbATuLyqVuN6vgn4deDbPWWrbR2XY/9sUes4ismhma6Fq4FHMTxPr6rvB54LnJPkh+cYt+t1BbPXQRfq5q3A44ATgR003emhQ3WSZH/gvcCvVNXdc406Q9mqrBPNy1D/7zN8bxf6W14uI9XeJHko8ALgr9qiYdXLngxte5Lk1cAu4KK2aAfw3VX1FNpu9kkeOYBYRrH9eTEPTiwOpG5shzqva/+/Ffs97sJvtarur6oTaXqXnpTkSXOMvuLWM8nzgZ1Vdc18J5mhbKTXsbUc+2eLWsdRTA5tA47uGT4K2D6kWAauqra3f3cC76fprnpH2zVsqjv0znb0LtXVQutgGw/udr/q6qaq7mgbgW8Df8YDl1V0ok6S7EPTyF9UVe9ri/2eaD6Gtu2c6Xu7iN/yshjB9ua5wKeq6o42rqHUS4+R2p4kWQc8Hziz7SJO2438zvb9NTT3GnhCv2MZtfYnyd7AfwXe0xNj3+vGdkis3n3xVfU97tpvtaruAiaAU1hd6/l04AVJttJcwvljSd7J6lrH5do/W9Q6jmJy6BPAsUmOac8ingFcOuSYBiLJI5IcMPWe5gaUn6VZ/3XtaOuAS9r3lwJnJNk3yTHAsTQ3nlqNFlQHbXe7e5I8tb0Pwct6plkVpjYQrZ+k+a5AB+qkjf9twI1V9caej/yeaD6G0s7M9r1d6G95mWIZxfbmQT0/hlEv04zM9iTJKcArgRdU1b/3lB+aZK/2/WPbWL7Q723bCLY/zwI+V1Xf6ULf77qxHVJrtR63rJrvcVd+q+0278D2/X6020VW0XpW1blVdVRVraH5rX20ql7CKlrH5do/W/Q61gjckXv6CziV5k7ynwdePex4Brjej6W52/ingeun1h34LuAK4Ob278E907y6raebGKG7rC+xHt5N0x38WzRZz7MXUwfA2vbH9Hngj4EMe92WuU7+ErgO+Ey7YTi8K3UCPIOma+RngGvb16ld/574WtB3aODtzBzf2wX/lpchlpFqb4CHA3cCj+opG1i9jFK7M0sst9DcU2Dqe/Mn7bj/rf3/fRr4FPATyxnLHPEMpf2ZKZa2/ELgF6eN29e6wXbI1wP/vxV93DJK278+rV8nfqvA9wH/2q7nZ3ngyY2raj17YhzngaeVrZp1ZBn3zxazjmknlCRJkiRJUgeN4mVlkiRJkiRJGhCTQ5IkSZIkSR1mckiSJEmSJKnDTA5JkiRJkiR1mMkhSZIkSZKkDjM5JEmSJEmS1GEmhyRJkiRJkjrM5JAkSZIkSVKHmRySJEmSJEnqMJNDkiRJkiRJHWZySJIkSZIkqcNMDkmSJEmSJHWYySFJkiRJkqQOMzkkSZIkSZLUYSaHJEmSJEmSOszkkCRJkiRJUoeZHJIkSZIkSeowk0OSJEmSJEkdZnJIkiRJkiSpw0wOSZIkSZIkdZjJIUmSJEmSpA4zOSRJkiRJktRhJockSZIkSZI6zOSQJEmSJElSh5kckiRJkiRJ6jCTQ5IkSZIkSR1mckiSJEmSJKnDTA5JkiRJkiR1mMkhSZIkSZKkDjM5JEmSJEmS1GEmhyRJkiRJkjrM5JAkSZIkSVKHmRySJEmSJEnqMJNDkiRJkiRJHWZySJIkdUqSC5O8oX0/nmTbgJb7zCQ3DWJZkiRJC2FySCtOkkry+CHHMJnkscOMQZK0Z0kmknw9yb7DjqWq/rmqnjjsOCRpuZl0f0CSrUmetQzzmXc99tb/IpZzVpIre4ZH7jgnyYeSrBt2HKudySEtm3ZDMvX6dpJv9gyfOcs0fWk82g3kf7bL/lqSy5N8zyLnNZHk53vLqmr/qvrC8kQrSeqHJGuAZwIFvGC40UjS6mDSfXkkOTbJxUm+kuTuJDcn+aMkRw0zruU4zmlP5t/bHot9Kckbk+w1z2lfm+Sd02J6blVtXkpM2jOTQ1o27YZk/6raH7gN+ImesouGENLvtrEcBewELpw+Qhr+DiRpdXoZcBXN9n/OM45JXpXkq+0Z3zN7yh90gmCGM6yV5H+2O/X3JPntJI9L8rF2Z39Lkoe24z7ohEi7rFck+UySbyR5T5KHLd/qS9LyMum+PNqrID4ObAeeUlWPBJ4OfB54xjBjW0ZPbo/FfgT4aeDnhhyP9sCDYvVdkn2TvCnJ9vb1prbsEcCHgCN6ehgdkeSkdqf6riQ7kvzx1I71YlTVvwPvAp7UxjOR5Lwk/wL8O/DYJP8lySfanfNPJPkv7bjn0TSAf9zG98dt+XcubWvX5feS3JbkjiR/kmS/9rPxJNuSbEiys12fn+2pm1OT3NAeUHwpySsWu56SpN28DLiofT0nydgs4z0aOAQ4kiaJtCnJQs5EnwL8APBU4NeBTcCZwNE0bc+L55j2Re30xwDfB5y1gOVK0qCtuqR7koOSfLDtwfP19v1RPZ9PtDH8SxvPh5Mc0vP5S5N8McmdSV49n0oEXgv8S1X9WlVtA6iqnVX1pqq6eJY4v7eN5a4k1yeZnpw7JM3VEvck+cckj2mnW9PW6d7T1unnmcG045wLk7w5yWXtfD+e5HHzXEfa9boF+BfgxJ5l/EGS29v/5zVJntmWnwK8Cvjp9tjr09PjTfKQJK9p63xnkr9I8qiFxKSZmRzSILyaZof5RODJwEnAa6rqXuC5wPaeHkbbgfuBX6XZUX8acDLwPxe78CT70+yk/2tP8UuB9cABwD3AZcAfAt8FvBG4LMl3VdWrgX8GXt7G9/IZFvE7wBPa9Xs8zcHFb/Z8/mjgUW352cCbkxzUfvY24Beq6gCaA4iPLnY9JUkPSPIM4DHAlqq6huZs7M/MMclvVNV9VfWPNG3CixawuN+pqrur6nrgs8CHq+oLVfUNmpMgT5lj2j+squ1V9TXgb+jZeZakEbQak+4PAd5B02Z8N/BN4I+njfMzwM8ChwEPBV4BkOQ44K00xxZH0BxLzOeysGcB753HeLTL2YemjfhwG8P/Ai6aVqdnAr9NU+/X0vyPlsOLgdcBBwG3AOctZOI0t/Z4ZjvtlE/QtHcH05zE/6skD6uqvwP+N/Ce9tjryTPM8qz29aPAY4H92f3/pUUwOaRBOBN4fZsN/wrNxuWls41cVddU1VVVtauqtgJ/StMdcaFekeQumg3R/jy4Ybiwqq6vql3As4Gbq+ov22W+G/gc8BN7WkCSAP8d+NWq+lpV3UOzQTujZ7Rv0az/t6rqb4FJ4Ik9nx2X5JFV9fWq+tQi1lOStLt1NEmar7bD72L2s9xfb09YTPkizU7+fN3R8/6bMwzvP8e0X+55/+97GFeShma1Jt2r6s6qem9V/Xu7L38eux97vKOq/q2qvgls6ZnnTwEfrKp/qqr7gN8Avj2P9TuEnu1/kpe3PYImk/zZDOM/laZ9OL+q/rOqPgp8kAcnyS7riePVwNOSHD2PWPbkfVV1dXvcdBHzP4nxqST3AjcCE8Bbpj6oqne29b6rqi4A9uWB46M9ORN4Y/t9mATOBc7o7RmlxTE5pEE4gmZHe8qcO91JntB25/xykrtpki2HzDb+HH6vqg6sqkdX1Quq6vM9n90+R3xTMR45j2UcCjwcuKbdoN8F/F1bPuXOdmM6pXfn/78BpwJfbLt/Pm0ey5QkzSHNpb0vAn6kbUu+TNMj9clJZjoLeVCaS52nfDfNfSAA7qXZzk95dD9ilqQVYFUm3ZM8PMmftpcp3Q38E3BgHnwD5dnmeQQ9xxXtOt851/JadwKH90z3x1V1IPAmYJ8Zxj8CuL2qehNP049XeuOYBL7Gwup8Nos9ifH97bg/DfwQ8J12Ns0tN25sL/27i+Yqi/ke7810bLk3MFsvNs2TySENwnaaswxTene6a4bx30rTc+fY9uZsrwKyzDH1Lnd6fFMxfmmOGKd8laaBOr5NRB1YVY9qb7625yCqPlFVp9F0D/0AzZkISdLSnE5zifJxNGc4TwS+l+Yy4ZfNMs3rkjy0ve/B84G/asuvBf5re/DweJrLgyWpU1Z50n0DTa+VH2qPPX64LZ/P8ccOmkvdmgmSh9NcWrYnVwD/dQExbgeOzoMfpNN7vMK0OPanuWRrO019wxDqvBpbgI/R3najbWdfSfN9OqhNin2DB+p7rmMvmPnYchcPTiBqEUwOaRDeDbwmyaHtzdt+E5h6POEdwHdNu4nYAcDdwGR7jer/6HN8fws8IcnPJNk7yU/THFB8sCfGx840YZu9/zPg95McBpDkyCTP2dNC24OQM5M8qqq+RbPO9y/D+khS162juQTgtqr68tSL5p4EZ9KcYez1ZeDrNDucFwG/WFWfaz/7feA/adqCzSzfPRwkaSU5ndWbdD+A5mTvXUkOBn5rAdP+NfD8JM9Ic5Ps1zO/Y+zXAs9M84j3IwHa46TvnWX8j9MkeX49yT5JxmlugdF78+pTe+L4beDjVXV7e1uPLwEvSbJXkp8DFnRT6WVwPrA+yaNp6nsX8BVg7yS/CTyyZ9w7gDWZ/YnS7wZ+NckxbRJs6h5Fu2YZX/NkckiD8Abgk8BngOuAT7VltDvf7wa+0F6WdQTNDd5+huZG0X8GvKefwVXVnTQN1gaaLp6/Djy/p8vsHwA/lebpBX84wyxeSXNfo6varqgfYf7XzL4U2NpO94vASxa/JpIkgKo6pao2zFC+pb3U+CVV9Zq2bKKqjqqq86rqkKr67qr6y55pvlpVz66qA6rq6VX12qp6Rs/nqeZJLFPDz6iqC3uGX1NVP9+7rJ7P1lTVR3qGX1tVtgOSRtFqTrq/CdiP5oqAq2huETEv7T2RzqG5xG4HzTpvm3OiZrp/o7mP0FHAp5PcQ/NEr+009y2aPv5/Ai+geZjPV2nu3/OynjqljeG3aC4n+wGa/8uU/w78fzTHOscD/2++67gcquo64B/bGP6e5r5R/0ZzSdh/8OBbfkwlEe9MMtP9WN8O/CXN5X+3ttP/r/5E3i2p2lOvLUmSJEmSJK1W9hySJEmSJEnqMJNDWrGSXN8+7nH668w9Ty1JkqT/v73/j7b8rOsE3/enExojQQgdOR2TtJXuibSBalCrIzbT9omRJoJjcJY4YSImytyyZ1CxV90rCa7V2NeVO3GNQR0UndLQiZdImebHJEMAjdHTjLcFJIiEEBnSpjoUiSmRn4UMdoXP/ePs6KFyqurUOfv39/Va66y9v89+vt/n85y999nf89nf53lgCKrq1cf5v+GdE2zzncdp89WTanNaquqfH6dvR2YdG9tnWBkAAADAgB07cdhMnH322b1r166ptPWFL3whT3rSk05ecYbmPcZ5jy8R47iIcfvuvvvuT3b31846jiGZxGfJvL6+Jkmfh2GIfU4Wr98+S6Zvmv+XbNWivW5P1bL3L1n+PurffNvqZ8lcJId27dqV97///VNpa21tLaurq1Npa7vmPcZ5jy8R47iIcfuq6j/POoahmcRnyby+viZJn4dhiH1OFq/fPkumb5r/l2zVor1uT9Wy9y9Z/j7q33zb6meJOYcAAAAABkxyCAAAmHtVdX5V/X5V3TdamOSVo/KfrqpPVNUHRz8v3LDPtVV1f1V9tKpeMLvoAebbXAwrAwAAOImjSfZ19weq6slJ7q6qO0eP/Xx3/9zGylV1UZIrkjwzydcl+d2q+obufnSqUQMsAFcOAQAAc6+7H+7uD4zufz7JfUnOPcEulyc50N1f6u4Hktyf5OLJRwqweCSHAACAhVJVu5J8U5L3jop+tKo+VFVvqKqzRmXnJvn4ht0O5cTJJIDBMqwMAABYGFV1ZpK3JPmJ7v5cVf1Kkp9J0qPbG5L8cJLaZPfe5Hh7k+xNkpWVlaytrU0o8u05cuTI3MU0Tsvev2T5+6h/y0FyCICJq6o3JPnuJIe7+1mjsv8lyX+T5K+T/KckP9Tdnxk9dm2Slyd5NMmPd/dvzyJuAOZLVT0h64mhW7r7rUnS3Y9sePzXkrx9tHkoyfkbdj8vyUPHHrO79yfZnyR79uzpeVuyetGX0T6ZZe9fsvx91L/lYFgZANNwU5LLjim7M8mzuvufJPm/klybPG4C0cuSvL6qTpteqADMo6qqJDcmua+7X7uh/JwN1b43yYdH929PckVVPbGqLkhyYZL3TStegEXiyiEAJq673z2aH2Jj2e9s2HxPku8b3f+bCUSTPFBVj00g+ofTiBWAufW8JC9Lck9VfXBU9uokL62q52R9yNjBJD+SJN19b1XdmuQjWV/p7BVWKgPYnOQQTNiua+7YtHzf7qO5+jiP7cTB61809mPCFPxwkt8a3T8368mixxx3AtFJzxMxlDHmGy1in+/5xGd3tP/KGcnrbrlty/V3n/uUHbU3DxbxeR6HofZ7WXT3H2TzeYTecYJ9rkty3cSCGpDjndPu1PHOiZ3TwnRJDgEwU1X1U1n/RveWx4o2qfa4CUSTyc8TMZQx5hstYp93mmjft/tobrhn66dEB69c3VF782ARn+dxGGq/AeBkJIcAmJmquirrE1Vf2t2PJYC2NIEoAAAwHiakBmAmquqyJK9K8j3d/VcbHjKBKAAATNFJk0NV9YaqOlxVH97ksf9nVXVVnb2h7Nqqur+qPlpVLxh3wAAsnqp6U9YnlH5GVR2qqpcn+aUkT05yZ1V9sKp+NVmfQDTJYxOIvismEAUAgInayrCym7J+Av8bGwur6vwkz0/y4IayjcsPf12S362qb3BSDzBs3f3STYpvPEF9E4gCAMCUnPTKoe5+d5JPbfLQzyf5yXzlJKF/s/xwdz+Q5LHlhwEAAACYQ9uakLqqvifJJ7r7T6q+YlGZuVl++HgWYQnTeY9x3uNL5ivGfbuPblq+csbxH9uJcfZ7nn6Px7MIMQIAAMyzU04OVdVXJ/mpJP9ys4c3KZvJ8sPHswhLmM57jPMeXzJfMR5vieVTXTp5q8a5xPI8/R6PZxFiBAAAmGfb+c/0HyW5IMljVw2dl+QDVXVxLD8MAAAAsFBOeSn77r6nu5/e3bu6e1fWE0Lf3N1/HssPAwAAACyUk145NFp+eDXJ2VV1KMlrunvTFWa6+96qemz54aOx/DAAwI7tOs4Q5e3at/vocYc9J8nB61801vYAgPl20uTQcZYf3vj4rmO2LT8MAAAAsCBOeVgZAAAAAMtDcggAAABgwCSHAAAAAAZMcggAAABgwCSHAAAAAAZMcggAAABgwE66lD0AAH9r1zV3zDoEAICxcuUQAAAAwIBJDgEAAAAMmGFlDIqhAAAAAPCVXDkEAAAAMGCSQwAAAAADJjkEAAAAMGCSQwAAAAADJjkEAAAAMGCSQwAAAAADJjkEAAAAMGCSQwAAAAADJjkEAAAAMGCSQwBMXFW9oaoOV9WHN5Q9rarurKqPjW7P2vDYtVV1f1V9tKpeMJuoAQBgGE6aHDrOCf3/UlV/WlUfqqq3VdVTNzzmhB6AY92U5LJjyq5Jcld3X5jkrtF2quqiJFckeeZon9dX1WnTCxUAAIbl9C3UuSnJLyX5jQ1ldya5truPVtXPJrk2yauOOaH/uiS/W1Xf0N2PjjdslsWua+6YyHH37T6aqyd0bODUdfe7q2rXMcWXJ1kd3b85yVqSV43KD3T3l5I8UFX3J7k4yR9OJVgAABiYkyaHNjuh7+7f2bD5niTfN7rvhB6ArVrp7oeTpLsfrqqnj8rPzfpny2MOjcoep6r2JtmbJCsrK1lbWxtrgEeOHBn7MefdIvZ53+6jO9p/5YydH2PRnKzPi/Ya2KpFfH3zt6rq/Kx/Yf33k3w5yf7u/sWqelqS30qyK8nBJN/f3Z8e7XNtkpcneTTJj3f3b88gdIC5t5Urh07mh7P+xziZoxP641mEk4J5j3Gc8U3qZHwRTvQnFeM4Xzvz/lpMFiNGTlltUtabVezu/Un2J8mePXt6dXV1rIGsra1l3Mecd4vY551eKbpv99HccM84TokWx8n6fPDK1ekFM0WL+PrmKxxNsq+7P1BVT05yd1XdmeTqrA9Tvr6qrsn6MGWjGgBOwY7OhKrqp7L+R/qWx4o2qTaTE/rjWYSTgnmPcZzxTWro1yKc6E8qxnGe0M/7azFZjBg5rkeq6pzRVUPnJDk8Kj+U5PwN9c5L8tDUowNgroyuNn3sitPPV9V9Wf8i2jBlgB3a9mplVXVVku9OcmV3P5YAckIPwFbdnuSq0f2rkty2ofyKqnpiVV2Q5MIk75tBfADMqdG0F9+U5L05Zphyko3DlD++YbfjjmoAGLptXbZQVZdlPRv/L7r7rzY8dHuS36yq12b90k0n9ACkqt6U9W91z66qQ0lek+T6JLdW1cuTPJjkJUnS3fdW1a1JPpL1q1NfYQjAYpnUYgMASVJVZyZ5S5Kf6O7PVW02eGG96iZljxvVMKvpLrZqXobQT3s6iHno87jMy3M4Kfq3HE6aHDrOCf21SZ6Y5M7RH+P3dPe/ckIPwGa6+6XHeejS49S/Lsl1k4sIgEVUVU/IemLolu5+66h4R8OUZzXdxVbNyxD6aU8HsUxzn83Lczgp+rcctrJa2WYn9DeeoL4TegAAYKxq/VvpG5Pc192v3fDQY8OUr8/jhykb1QCwBfM9Yy8AAMC65yV5WZJ7quqDo7JXxzBlgB2THAIAAOZed/9BNp9HKDFMGWBHtr1aGQAAAACLT3IIAAAAYMAkhwAAAAAGTHIIAAAAYMAkhwAAAAAGTHIIAAAAYMAkhwAAAAAGTHIIAAAAYMAkhwAAAAAGTHIIAAAAYMAkhwAAAAAGTHIIAAAAYMAkhwAAAAAGTHIIAAAAYMAkhwAAAAAGTHIIAAAAYMAkhwAAAAAGTHIIAAAAYMBOmhyqqjdU1eGq+vCGsqdV1Z1V9bHR7VkbHru2qu6vqo9W1QsmFTgAAAAAO7eVK4duSnLZMWXXJLmruy9MctdoO1V1UZIrkjxztM/rq+q0sUULAAAAwFidNDnU3e9O8qljii9PcvPo/s1JXryh/EB3f6m7H0hyf5KLxxMqAAAAAOO23TmHVrr74SQZ3T59VH5uko9vqHdoVAYAAADAHDp9zMerTcp604pVe5PsTZKVlZWsra2NOZTNHTlyZGptbde8xzjO+PbtPjqW4xxr5YzJHXtcJhXjOF878/5aTBYjRgAAgHm23eTQI1V1Tnc/XFXnJDk8Kj+U5PwN9c5L8tBmB+ju/Un2J8mePXt6dXV1m6GcmrW1tUyrre2a9xjHGd/V19wxluMca9/uo7nhnnHnPsdrUjEevHJ1bMea99dishgxcmJV9a+T/A9Z/zLhniQ/lOSrk/xWkl1JDib5/u7+9IxCBACApbbdYWW3J7lqdP+qJLdtKL+iqp5YVRckuTDJ+3YWIgDLqqrOTfLjSfZ097OSnJb1hQ02XfgAAAAYv60sZf+mJH+Y5BlVdaiqXp7k+iTPr6qPJXn+aDvdfW+SW5N8JMm7kryiux+dVPAALIXTk5xRVadn/Yqhh3L8hQ8AAIAxO+mYlu5+6XEeuvQ49a9Lct1OggJgGLr7E1X1c0keTPLFJL/T3b9TVV+x8EFVPX2z/Sc9f90Q57QaR5/nfc63Yy3CPHXjdrI+L+vrfojvaQDYivmelAWApVZVZ2X9KqELknwmyb+vqh/Y6v6Tnr9uiHNajaPPk5pPblIWYZ66cTtZn8c5f908GeJ7GgC2YrtzDgHAOHxnkge6+y+6+78keWuSf5bRwgdJcszCBwAAwJhJDgEwSw8meW5VfXVVVdaHLN+X4y98AAAAjNmwrqEGYK5093ur6s1JPpDkaJI/zvowsTOT3DpaBOHBJC+ZXZQAALDcJIcAmKnufk2S1xxT/KUcZ+EDAABgvAwrAwAAABgwySEAAACAAZMcAgAAABgwySEAAGDuVdUbqupwVX14Q9lPV9UnquqDo58Xbnjs2qq6v6o+WlUvmE3UAItBcggAAFgENyW5bJPyn+/u54x+3pEkVXVRkiuSPHO0z+ur6rSpRQqwYCSHAACAudfd707yqS1WvzzJge7+Unc/kOT+JBdPLDiABWcpewAAYJH9aFX9YJL3J9nX3Z9Ocm6S92yoc2hU9jhVtTfJ3iRZWVnJ2traZKM9RUeOHJmLmPbtPjqR466csfmx56HP4zIvz+Gk6N9ykBwCAAAW1a8k+ZkkPbq9IckPJ6lN6vZmB+ju/Un2J8mePXt6dXV1IoFu19raWuYhpquvuWMix923+2huuOfx/5YevHJ1Iu3Nwrw8h5Oif8vBsDIAAGAhdfcj3f1od385ya/lb4eOHUpy/oaq5yV5aNrxASwKySEAAGAhVdU5Gza/N8ljK5ndnuSKqnpiVV2Q5MIk75t2fACLwrAyAABg7lXVm5KsJjm7qg4leU2S1ap6TtaHjB1M8iNJ0t33VtWtST6S5GiSV3T3ozMIG2AhSA4BAABzr7tfuknxjSeof12S6yYXEcDyMKwMAAAAYMAkhwAAAAAGTHIIAAAAYMB2lByqqn9dVfdW1Yer6k1V9VVV9bSqurOqPja6PWtcwQIAAAAwXttODlXVuUl+PMme7n5WktOSXJHkmiR3dfeFSe4abQMAAAAwh3Y6rOz0JGdU1elJvjrJQ0kuT3Lz6PGbk7x4h20AAAAAMCHbTg519yeS/FySB5M8nOSz3f07SVa6++FRnYeTPH0cgQIAAAAwfqdvd8fRXEKXJ7kgyWeS/Puq+oFT2H9vkr1JsrKykrW1te2GckqOHDkytba2a95jHGd8+3YfHctxjrVyxuSOPS6TinGcr515fy0mixEjAADAPNt2cijJdyZ5oLv/Ikmq6q1J/lmSR6rqnO5+uKrOSXJ4s527e3+S/UmyZ8+eXl1d3UEoW7e2tpZptbVd8x7jOOO7+po7xnKcY+3bfTQ33LOTl/fkTSrGg1euju1Y8/5aTBYjRgAAgHm2kzmHHkzy3Kr66qqqJJcmuS/J7UmuGtW5KsltOwsRAAAAgEnZ9mUL3f3eqnpzkg8kOZrkj7N+JdCZSW6tqpdnPYH0knEECgAAAMD47WhMS3e/Jslrjin+UtavIgIAAABgzu10KXsAAAAAFpjkEAAAAMCASQ4BMFNV9dSqenNV/WlV3VdV31ZVT6uqO6vqY6Pbs2YdJwAALCvJIQBm7ReTvKu7/3GSZ2d95ctrktzV3RcmuWu0DQAATIDkEAAzU1Vfk+Tbk9yYJN391939mSSXJ7l5VO3mJC+eRXwAADAEkkMAzNI/TPIXSf5dVf1xVf16VT0pyUp3P5wko9unzzJIAABYZjtayh4Aduj0JN+c5Me6+71V9Ys5hSFkVbU3yd4kWVlZydra2liDO3LkyNiPOe/G0ed9u4+OJ5gpWTlj8WLeqZP1eVlf90N8TwPAVkgOATBLh5Ic6u73jrbfnPXk0CNVdU53P1xV5yQ5vNnO3b0/yf4k2bNnT6+uro41uLW1tYz7mPNuHH2++po7xhPMlOzbfTQ33DOsU6KT9fnglavTC2aKhvieBoCtMKwMgJnp7j9P8vGqesao6NIkH0lye5KrRmVXJbltBuEBAMAgDOtrMgDm0Y8luaWq/m6SP0vyQ1n/8uLWqnp5kgeTvGSG8QEAwFKTHAJgprr7g0n2bPLQpVMOBQAABklyCJbMrjHO9bFv99GTzh1y8PoXja09AAAAps+cQwAAAAADJjkEAAAAMGCSQwAAAAADJjkEAAAAMGAmpAaAJXcqE9VvZSJ6AACWi+QQX2Er/0D4xwEAAACWh2FlAAAAAAMmOQQAAAAwYJJDAAAAAAO2o+RQVT21qt5cVX9aVfdV1bdV1dOq6s6q+tjo9qxxBQsAAADAeO30yqFfTPKu7v7HSZ6d5L4k1yS5q7svTHLXaBsAAGDbquoNVXW4qj68oey4X0xX1bVVdX9VfbSqXjCbqAEWw7aTQ1X1NUm+PcmNSdLdf93dn0lyeZKbR9VuTvLinYUIAACQm5JcdkzZpl9MV9VFSa5I8szRPq+vqtOmFyrAYtnJUvb/MMlfJPl3VfXsJHcneWWSle5+OEm6++GqevpmO1fV3iR7k2RlZSVra2s7CGXrjhw5MrW2tmuWMe7bffSkdVbO2Fq9WRLjeGwlxlm/nxbhPQ0A7Fx3v7uqdh1TfHmS1dH9m5OsJXnVqPxAd38pyQNVdX+Si5P84VSCnYJd19wx6xCAJbKT5NDpSb45yY9193ur6hdzCkPIunt/kv1JsmfPnl5dXd1BKFu3traWabW1XbOM8eotfMjs2300N9yzk5fO5IlxPLYS48ErV6cTzHEswnsaAJiY430xfW6S92yod2hU9jiz+tJ6q473Rdi8f8m4Vcf7MnLenoedWPYvM/VvOezkP9NDSQ5193tH22/OenLokao6Z/TH+Zwkh3caJAAAwCmoTcp6s4qz+tJ6q473RdhWvtRdBMf7MnLWX0CO07J/mal/y2Hbcw51958n+XhVPWNUdGmSjyS5PclVo7Krkty2owgBAAA298joC+kc88X0oSTnb6h3XpKHphwbwMLY6WplP5bklqr6UJLnJPn/JLk+yfOr6mNJnj/aBgAAGLfjfTF9e5IrquqJVXVBkguTvG8G8QEshB1NeNLdH0yyZ5OHLt3JcQEAADaqqjdlffLps6vqUJLXZP2L6Fur6uVJHkzykiTp7nur6tasj2w4muQV3f3oTAIHWADzPRsuAABAku5+6XEe2vSL6e6+Lsl1k4sIYHnsdFgZAAAAAAvMlUMAAADMlV1TXo3t4PUvmmp7MG9cOQQAAAAwYJJDAAAAAAMmOQQAAAAwYJJDAAAAAAMmOQQAAAAwYJJDAMxcVZ1WVX9cVW8fbT+tqu6sqo+Nbs+adYwAALCsJIcAmAevTHLfhu1rktzV3RcmuWu0DQAATIDkEAAzVVXnJXlRkl/fUHx5kptH929O8uIphwUAAINx+qwDAGDwfiHJTyZ58oayle5+OEm6++GqevpmO1bV3iR7k2RlZSVra2tjDezIkSNjP+Ys7Nt9dMt1V844tfrLQJ8f73W33DbFaJLd5z5lKu0sy3saAMZNcgiAmamq705yuLvvrqrVU92/u/cn2Z8ke/bs6dXVUz7ECa2trWXcx5yFq6+5Y8t19+0+mhvuGdbpgT7P3sErV6fSzrK8pwFg3ObnrACAIXpeku+pqhcm+aokX1NVb0zySFWdM7pq6Jwkh2caJQAALDFzDgEwM919bXef1927klyR5Pe6+weS3J7kqlG1q5JMd4wLAAAMiOQQAPPo+iTPr6qPJXn+aBsAAJgAw8oAmAvdvZZkbXT/L5NcOst4AABgKFw5BAAAADBgkkMAAAAAAyY5BAAAADBgO04OVdVpVfXHVfX20fbTqurOqvrY6PasnYcJAAAAwCSM48qhVya5b8P2NUnu6u4Lk9w12gYAAABgDu0oOVRV5yV5UZJf31B8eZKbR/dvTvLinbQBAAAAwOTsdCn7X0jyk0mevKFspbsfTpLufriqnr7ZjlW1N8neJFlZWcna2toOQ9maI0eOTK2t7ZpljPt2Hz1pnZUztlZvlsQ4HluJcdbvp0V4TwMAAMyzbSeHquq7kxzu7ruravVU9+/u/Un2J8mePXt6dfWUD7Eta2trmVZb2zXLGK++5o6T1tm3+2huuGenecXJEuN4bCXGg1euTieY41iE9zQAAMA828l/ps9L8j1V9cIkX5Xka6rqjUkeqapzRlcNnZPk8DgCBQAAAGD8tj3nUHdf293ndfeuJFck+b3u/oEktye5alTtqiS37ThKAAAAACZiHKuVHev6JM+vqo8lef5oGwAAAIA5NJYJT7p7Lcna6P5fJrl0HMcFAAAAYLImceUQAAAAAAtivpdKAoAltGsLK0MCANMzyc/mfbuPPm5V6IPXv2hi7cF2SA4BAADswLQTCwDjZlgZAAAAwIBJDgEAAAAMmOQQAAAAwICZcwgAAFhoVXUwyeeTPJrkaHfvqaqnJfmtJLuSHEzy/d396VnFCDDPXDkEAAAsg0u6+zndvWe0fU2Su7r7wiR3jbYB2ITkEAAAsIwuT3Lz6P7NSV48u1AA5pthZQAAwKLrJL9TVZ3kf+vu/UlWuvvhJOnuh6vq6ZvtWFV7k+xNkpWVlaytrZ1y4/t2H91u3Ce1csZkjz9ry96/ZPM+bud1Nq+OHDmyVP051rL37zGSQwAAwKJ7Xnc/NEoA3VlVf7rVHUeJpP1JsmfPnl5dXT3lxq++5o5T3mer9u0+mhvuWd5/25a9f8nmfTx45epsgpmAtbW1bOd9syiWvX+PMawMAABYaN390Oj2cJK3Jbk4ySNVdU6SjG4Pzy5CgPkmOQQAACysqnpSVT35sftJ/mWSDye5PclVo2pXJbltNhECzL/lvn4PAABYditJ3lZVyfr/N7/Z3e+qqj9KcmtVvTzJg0leMsMYAeaa5BAAM1NV5yf5jSR/P8mXk+zv7l+sqqcl+a0ku5IcTPL93f3pWcUJwPzq7j9L8uxNyv8yyaXTjwhg8RhWBsAsHU2yr7u/Mclzk7yiqi5Kck2Su7r7wiR3jbYBAIAJkBwCYGa6++Hu/sDo/ueT3Jfk3CSXJ7l5VO3mJC+eSYAAADAAhpUBMBeqaleSb0ry3iQr3f1wsp5AGi1NvNk+e5PsTZKVlZWsra2NNaYjR46M/ZjJ+pK282rljPmObxL0efYm8T7bzKTe0wCw6CSHAJi5qjozyVuS/ER3f240qehJdff+JPuTZM+ePb26ujrWuNbW1jLuYybJ1dfcMfZjjsu+3Udzwz3DOj3Q59k7eOXqVNqZ1HsaABadYWUAzFRVPSHriaFbuvuto+JHquqc0ePnJDk8q/gAAGDZbTs5VFXnV9XvV9V9VXVvVb1yVP60qrqzqj42uj1rfOECsExq/RKhG5Pc192v3fDQ7UmuGt2/Kslt044NAACGYidXDllhBoCdel6SlyX5jqr64OjnhUmuT/L8qvpYkuePtgEAgAnY9mDz0UShj00W+vmq2rjCzOqo2s1J1pK8akdRArCUuvsPkhxvgqFLpxkLAAAM1VhmIpzHFWaOZxFWqZhljFtZuWTeVjjZjBjHYysxzvr9tAjvaQAAgHm24+TQvK4wczyLsErFLGPcygo687bCyWbEOB5biXFaK8wczyK8pwEAAObZjv4zPdEKM6Orhqwws0O75ni5YwAAAGDx7WS1MivMAAAAACy4nVw59NgKM/dU1QdHZa/O+ooyt1bVy5M8mOQlO4oQAAAAgInZyWplVpgBAGDHpjWMft/uo7n6mjty8PoXTaU9AFgU8z0bLjD3pj0vlhN6AACA8dr2nEMAAAAALD7JIQAAAIABkxwCAAAAGDDJIQAAAIABkxwCAAAAGDDJIQAAAIABkxwCAAAAGDDJIQAAAIABO33WASyaXdfcMfE29u0+mqun0A4AAACAK4cAAAAABsyVQwAAADBF0xiRcqyD179o6m2yOFw5BAAAADBgkkMAAAAAAyY5BAAAADBgkkMAAAAAAyY5BAAAADBgkkMAAAAAA2Ype2ChHLvs577dR3P1BJcCteTn8jvRUrKTfn0BAEzLic55duJ450vOoxfLQieHtvPidqIPAAAA8LcmlhyqqsuS/GKS05L8endfP6m2AFhOPkuASZjUt+fH49vz2fJZAnByE5lzqKpOS/LLSb4ryUVJXlpVF02iLQCWk88SAHbKZwnA1kzqyqGLk9zf3X+WJFV1IMnlST4yofYAWD4+SwDYKZ8lMBDTnlNp2iZ9FWp19/gPWvV9SS7r7v9htP2yJN/a3T+6oc7eJHtHm89I8tGxB7K5s5N8ckptbde8xzjv8SViHBcxbt/Xd/fXzjqIRTYnnyXz+vqaJH0ehiH2OVm8fvss2aE5+SzZqUV73Z6qZe9fsvx91L/5tqXPkkldOVSblH1FFqq79yfZP6H2j6uq3t/de6bd7qmY9xjnPb5EjOMiRmZs5p8lQ3x96fMwDLHPyXD7PXAz/yzZqWV/3S57/5Ll76P+LYeJzDmU5FCS8zdsn5fkoQm1BcBy8lkCwE75LAHYgkklh/4oyYVVdUFV/d0kVyS5fUJtAbCcfJYAsFM+SwC2YCLDyrr7aFX9aJLfzvqSkW/o7nsn0dY2zO0loxvMe4zzHl8ixnERIzMzJ58lQ3x96fMwDLHPyXD7PVhz8lmyU8v+ul32/iXL30f9WwITmZAaAAAAgMUwqWFlAAAAACwAySEAAACAARtEcqiqvqqq3ldVf1JV91bVv511TMdTVadV1R9X1dtnHctmqupgVd1TVR+sqvfPOp7NVNVTq+rNVfWnVXVfVX3brGPaqKqeMfr9Pfbzuar6iVnHtVFV/evRe+XDVfWmqvqqWcd0rKp65Si+e+ft98diq6o3VNXhqvrwrGOZlqo6v6p+f/Q3896qeuWsY5qGRTo/GLd5P98Yt0U4f4GquqyqPlpV91fVNZs8vlpVn91wDvlvZhHndpzss7XW/a+jvn+oqr552jHu1Bb6uLDPX7K1c4VFfh632L+Ffg5PZiITUs+hLyX5ju4+UlVPSPIHVfXO7n7PrAPbxCuT3Jfka2YdyAlc0t2fnHUQJ/CLSd7V3d83WpXiq2cd0Ebd/dEkz0nWT86TfCLJ22YZ00ZVdW6SH09yUXd/sapuzfrKHjfNNLANqupZSf4fSS5O8tdJ3lVVd3T3x2YbGUvipiS/lOQ3ZhzHNB1Nsq+7P1BVT05yd1Xd2d0fmXVgE7ZI5wfjtgjnG+M27+cvDNjonPCXkzw/yaEkf1RVt2/yd/j/7O7vnnqAO3dTTvzZ+l1JLhz9fGuSXxndLpKbcvLzh0V9/pKtnSss8vO41XOhRX4OT2gQVw71uiOjzSeMfuZuJu6qOi/Ji5L8+qxjWVRV9TVJvj3JjUnS3X/d3Z+ZaVAndmmS/9Td/3nWgRzj9CRnVNXpWU+uPTTjeI71jUne091/1d1Hk/yHJN8745hYEt397iSfmnUc09TdD3f3B0b3P5/1pMG5s41q8hbl/GDcnG/AXLo4yf3d/Wfd/ddJDiS5fMYxjc0WPlsvT/Ibo7/L70ny1Ko6ZzrRjceynz9s8VxhYZ/HoZ4LbTSI5FDyN5dPfzDJ4SR3dvd7ZxzSZn4hyU8m+fKM4ziRTvI7VXV3Ve2ddTCb+IdJ/iLJvxtdLv/rVfWkWQd1AlckedOsg9iouz+R5OeSPJjk4SSf7e7fmW1Uj/PhJN9eVX+vqr46yQuTnD/jmGApVNWuJN+UZB4/J8duQc4Pxu0XMv/nG+M27+cvcG6Sj2/YPpTN/zH9ttFQ2HdW1TOnE9pUbLX/i24pnr8TnCssxfN4knOhpXgONzOY5FB3P9rdz0lyXpKLR8NS5kZVfXeSw91996xjOYnndfc3Z/2SwVdU1bfPOqBjnJ7km5P8Snd/U5IvJHncmO15MBry9j1J/v2sY9moqs7Ketb/giRfl+RJVfUDs43qK3X3fUl+NsmdSd6V5E+yfikosANVdWaStyT5ie7+3KzjmYZ5Pz8YtwU63xi3eT9/gdqk7NgrGT+Q5Ou7+9lJXpfkf590UFO0lf4vuqV4/k5yrrDwz+NJ+rcUz+HxDCY59JjREKO1JJfNNpLHeV6S76mqg1m/jPQ7quqNsw3p8br7odHt4azPk3PxbCN6nENJDm345vfNWU8WzaPvSvKB7n5k1oEc4zuTPNDdf9Hd/yXJW5P8sxnH9DjdfWN3f3N3f3vWL+E13xDswGjOnbckuaW73zrreKZtjs8Pxm0hzjfGbQHOX+BQvvIq6PNyzLD+7v7cY0Nhu/sdSZ5QVWdPL8SJOmn/F90yPH9bOFdY6OfxZP1bhufwRAaRHKqqr62qp47un5H1f37/dKZBHaO7r+3u87p7V9aHGv1ed8/V1RpV9aTR5FwZDdX6l1kf3jM3uvvPk3y8qp4xKro0ybxOqPrSzNmQspEHkzy3qr66qirrv8P7ZhzT41TV00e3/yDJf5v5/F3CQhi9129Mcl93v3bW8UzLIpwfjNsinG+M2yKcv0CSP0pyYVVdMLq6/Iokt2+sUFV/f/T3OlV1cdb/l/vLqUc6Gbcn+cHRalfPzfq0Bg/POqhxWvTnb4vnCgv7PG6lf4v+HJ7MUFYrOyfJzaNVAP5Oklu7exBLt47ZSpK3jd4Ppyf5ze5+12xD2tSPJbll9MH6Z0l+aMbxPM5onpznJ/mRWcdyrO5+b1W9OeuXTR5N8sdJ9s82qk29par+XpL/kuQV3f3pWQfEcqiqNyVZTXJ2VR1K8pruvnG2UU3c85K8LMk9o/l3kuTVo2/Flpnzg2FYlPMXBqy7j1bVjyb57SSnJXlDd99bVf9q9PivJvm+JP9jVR1N8sUkV3T3QgzZ2eyzNeuLADzWt3dkfQ7J+5P8Vebw/P1kttDHhX3+RjY9V0jyD5KleB630r9Ffw5PqJaoLwAAAACcokEMKwMAAABgc5JDAAAAAAMmOQQAAAAwYJJDAAAAAAMmOQQAAAAwYJJDAAAAAAMmOQQAAAAwYJJDAAAAAAMmOQQAAAAwYJJDAAAAAAMmOQQAAAAwYJJDAAAAAAMmOQQAAAAwYJJDAAAAAAMmOQQAAAAwYJJDAAAAAAMmOQQAAAAwYJJDAAAAAAMmOQQAAAAwYJJDAAAAAAMmOQQAAAAwYJJDAAAAAAMmOQQAAAAwYJJDAAAAAAMmOQQAAAAwYJJDAAAAAAMmOQQAAAAwYJJDAAAAAAMmOQQAAAAwYJJDAAAAAAMmOQQAAAAwYJJDAAAAAAMmOQQAAAAwYJJDAAAAAAMmOQQAAAAwYJJDAAAAAAMmOcRcqqqDVfXFqvp8VX2mqv5jVf2rqjrpa7aqdlVVV9XpE45xKu0AAADAJEkOMc/+m+5+cpKvT3J9klcluXG2IQEAAMBykRxi7nX3Z7v79iT/XZKrqupZVfWiqvrjqvpcVX28qn56wy7vHt1+pqqOVNW3VdU/qqrfq6q/rKpPVtUtVfXUx3aoqldV1SdGVyp9tKouHZX/naq6pqr+02jfW6vqacdrZ7K/CQAAABg/ySEWRne/L8mhJP88yReS/GCSpyZ5UZL/sapePKr67aPbp3b3md39h0kqyf+c5OuSfGOS85P8dJJU1TOS/GiSfzq6UukFSQ6OjvHjSV6c5F+M9v10kl8+QTsAAACwUCSHWDQPJXlad6919z3d/eXu/lCSN2U9gbOp7r6/u+/s7i91918kee2G+o8meWKSi6rqCd19sLv/0+ixH0nyU919qLu/lPWE0veZZwgAAIBlITnEojk3yaeq6lur6ver6i+q6rNJ/lWSs4+3U1U9vaoOjIaOfS7JGx+r3933J/mJrCd+Do/qfd1o169P8rbRpNifSXJf1pNJK5PpHgAAAEyX5BALo6r+adaTQ3+Q5DeT3J7k/O5+SpJfzfrQsSTpTXb/n0fl/6S7vybJD2yon+7+ze7+r7OeDOokPzt66ONJvqu7n7rh56u6+xPHaQcAAAAWiuQQc6+qvqaqvjvJgSRv7O57kjw5yae6+/+uqouT/PcbdvmLJF9O8g83lD05yZGsTx59bpL/14bjP6OqvqOqnpjk/07yxaxfHZSsJ52uq6qvH9X92qq6/ATtAAAAwEKRHGKe/R9V9fmsX73zU1mfJ+iHRo/9T0n+36PH/02SWx/bqbv/Ksl1Sf5/o+Fgz03yb5N8c5LPJrkjyVs3tPPEJNcn+WSSP0/y9CSvHj32i1m/Qul3Rm29J8m3nqAdAAAAWCjVbWQMAAAAwFC5cggAAABgwCSHAAAAAAZMcggAAABgwCSHAAAAAAbs9FkHkCRnn31279q165T3+8IXvpAnPelJ4w9ojix7H5e9f8ny91H/Nnf33Xd/sru/dgIhAQAAjNVcJId27dqV97///ae839raWlZXV8cf0BxZ9j4ue/+S5e+j/m2uqv7z+KMBAAAYP8PKAAAAAAZMcggAAABgwCSHAAAAAAZMcggAAABgwCSHAAAAAAZMcggAAABgwCSHAAAAAAZMcggAAABgwE6fdQA7cc8nPpurr7ljqm0evP5FU20PAAAAYJJcOQQAAAAwYJJDAAAAAAMmOQQAAAAwYJJDAAAAAAO25eRQVZ1WVX9cVW8fbT+tqu6sqo+Nbs/aUPfaqrq/qj5aVS+YROAAAAAA7NypXDn0yiT3bdi+Jsld3X1hkrtG26mqi5JckeSZSS5L8vqqOm084QIAAAAwTltKDlXVeUlelOTXNxRfnuTm0f2bk7x4Q/mB7v5Sdz+Q5P4kF48lWgAAAADGaqtXDv1Ckp9M8uUNZSvd/XCSjG6fPio/N8nHN9Q7NCoDAAAAYM6cfrIKVfXdSQ53991VtbqFY9YmZb3Jcfcm2ZskKysrWVtb28Khv9LKGcm+3UdPeb+d2E6cO3HkyJGptzlNy96/ZPn7qH8AAACL7aTJoSTPS/I9VfXCJF+V5Guq6o1JHqmqc7r74ao6J8nhUf1DSc7fsP95SR469qDdvT/J/iTZs2dPr66unnLwr7vlttxwz1a6MD4Hr1ydantra2vZzu9mUSx7/5Ll76P+AQAALLaTDivr7mu7+7zu3pX1iaZ/r7t/IMntSa4aVbsqyW2j+7cnuaKqnlhVFyS5MMn7xh45AAAAADu2k8turk9ya1W9PMmDSV6SJN19b1XdmuQjSY4meUV3P7rjSAEAAAAYu1NKDnX3WpK10f2/THLpcepdl+S6HcYGAAAAwIRtdbUyAAAAAJaQ5BAAAADAgEkOAQAAAAyY5BAAAADAgEkOAQAAAAyY5BAAAADAgEkOAQAAAAyY5BAAAADAgEkOAQAAAAyY5BAAAADAgEkOAQAAAAyY5BAAAADAgEkOAQAAAAyY5BAAAADAgEkOAQAAAAyY5BAAAADAgEkOAQAAAAzYSZNDVfVVVfW+qvqTqrq3qv7tqPynq+oTVfXB0c8LN+xzbVXdX1UfraoXTLIDAAAAAGzf6Vuo86Uk39HdR6rqCUn+oKreOXrs57v75zZWrqqLklyR5JlJvi7J71bVN3T3o+MMHAAAAICdO+mVQ73uyGjzCaOfPsEulyc50N1f6u4Hktyf5OIdRwoAAADA2FX3ifI8o0pVpyW5O8l/leSXu/tVVfXTSa5O8rkk70+yr7s/XVW/lOQ93f3G0b43Jnlnd7/5mGPuTbI3SVZWVr7lwIEDpxz84U99No988ZR325Hd5z5lqu0dOXIkZ5555lTbnKZl71+y/H3Uv81dcskld3f3ngmEBAAAMFZbGVaW0ZCw51TVU5O8raqeleRXkvxM1q8i+pkkNyT54SS12SE2Oeb+JPuTZM+ePb26unrKwb/ulttywz1b6sLYHLxydartra2tZTu/m0Wx7P1Llr+P+gcAALDYTmm1su7+TJK1JJd19yPd/Wh3fznJr+Vvh44dSnL+ht3OS/LQzkMFAAAAYNy2slrZ146uGEpVnZHkO5P8aVWds6Ha9yb58Oj+7UmuqKonVtUFSS5M8r6xRg0AAADAWGxlTNY5SW4ezTv0d5Lc2t1vr6r/b1U9J+tDxg4m+ZEk6e57q+rWJB9JcjTJK6xUBgAAADCfTpoc6u4PJfmmTcpfdoJ9rkty3c5CAwAAAGDSTmnOIQAAAACWi+QQAAAAwIBJDgEAAAAMmOQQAAAAwIBJDgEAAAAMmOQQAAAAwIBJDgEAAAAMmOQQAAAAwIBJDgEAAAAMmOQQAAAAwIBJDgEAAAAMmOQQAAAAwIBJDgEAAAAMmOQQAAAAwIBJDgEAAAAMmOQQAAAAwICdNDlUVV9VVe+rqj+pqnur6t+Oyp9WVXdW1cdGt2dt2Ofaqrq/qj5aVS+YZAcAAAAA2L6tXDn0pSTf0d3PTvKcJJdV1XOTXJPkru6+MMldo+1U1UVJrkjyzCSXJXl9VZ02gdgBAAAA2KGTJod63ZHR5hNGP53k8iQ3j8pvTvLi0f3Lkxzo7i919wNJ7k9y8TiDBgAAAGA8qrtPXmn9yp+7k/xXSX65u19VVZ/p7qduqPPp7j6rqn4pyXu6+42j8huTvLO733zMMfcm2ZskKysr33LgwIFTDv7wpz6bR754yrvtyO5znzLV9o4cOZIzzzxzqm1O07L3L1n+Purf5i655JK7u3vPBEICAAAYq9O3Uqm7H03ynKp6apK3VdWzTlC9NjvEJsfcn2R/kuzZs6dXV1e3EspXeN0tt+WGe7bUhbE5eOXqVNtbW1vLdn43i2LZ+5csfx/1DwAAYLGd0mpl3f2ZJGtZn0vokao6J0lGt4dH1Q4lOX/DbucleWingQIAAAAwfltZrexrR1cMparOSPKdSf40ye1JrhpVuyrJbaP7tye5oqqeWFUXJLkwyfvGHDcAAAAAY7CVMVnnJLl5NO/Q30lya3e/var+MMmtVfXyJA8meUmSdPe9VXVrko8kOZrkFaNhaQAAAADMmZMmh7r7Q0m+aZPyv0xy6XH2uS7JdTuODgAAAICJOqU5hwAAAABYLpJDAAAAAAMmOQQAAAAwYJJDAAAAAAMmOQQAAAAwYJJDAAAAAAMmOQQAAAAwYJJDAAAAAAMmOQQAAAAwYJJDAAAAAAMmOQQAAAAwYJJDAAAAAAMmOQQAAAAwYJJDAAAAAAMmOQQAAAAwYJJDAAAAAAN20uRQVZ1fVb9fVfdV1b1V9cpR+U9X1Seq6oOjnxdu2Ofaqrq/qj5aVS+YZAcAAAAA2L7Tt1DnaJJ93f2Bqnpykrur6s7RYz/f3T+3sXJVXZTkiiTPTPJ1SX63qr6hux8dZ+AAAAAA7NxJrxzq7oe7+wOj+59Pcl+Sc0+wy+VJDnT3l7r7gST3J7l4HMECAAAAMF6nNOdQVe1K8k1J3jsq+tGq+lBVvaGqzhqVnZvk4xt2O5QTJ5MAAAAAmJHq7q1VrDozyX9Icl13v7WqVpJ8Mkkn+Zkk53T3D1fVLyf5w+5+42i/G5O8o7vfcszx9ibZmyQrKyvfcuDAgVMO/vCnPptHvnjKu+3I7nOfMtX2jhw5kjPPPHOqbU7TsvcvWf4+6t/mLrnkkru7e88EQgIAABirrcw5lKp6QpK3JLmlu9+aJN39yIbHfy3J20ebh5Kcv2H385I8dOwxu3t/kv1JsmfPnl5dXT3l4F93y2254Z4tdWFsDl65OtX21tbWsp3fzaJY9v4ly99H/QMAAFhsW1mtrJLcmOS+7n7thvJzNlT73iQfHt2/PckVVfXEqrogyYVJ3je+kAEAAAAYl61cdvO8JC9Lck9VfXBU9uokL62q52R9WNnBJD+SJN19b1XdmuQjWV/p7BVWKgMAAACYTydNDnX3HySpTR56xwn2uS7JdTuICwAAAIApOKXVygAAAABYLpJDAAAAAAMmOQQAAAAwYJJDAAAAAAMmOQQAAAAwYJJDAAAAAAMmOQQAAAAwYJJDAAAAAAMmOQQAAAAwYJJDAAAAAAMmOQQAAAAwYJJDAAAAAAMmOQQAAAAwYJJDAAAAAAMmOQQAAAAwYJJDAAAAAAMmOQQAAAAwYCdNDlXV+VX1+1V1X1XdW1WvHJU/rarurKqPjW7P2rDPtVV1f1V9tKpeMMkOAAAAALB9W7ly6GiSfd39jUmem+QVVXVRkmuS3NXdFya5a7Sd0WNXJHlmksuSvL6qTptE8AAAAADszEmTQ939cHd/YHT/80nuS3JuksuT3DyqdnOSF4/uX57kQHd/qbsfSHJ/kovHHDcAAAAAY1DdvfXKVbuSvDvJs5I82N1P3fDYp7v7rKr6pSTv6e43jspvTPLO7n7zMcfam2RvkqysrHzLgQMHTjn4w5/6bB754invtiO7z33KVNs7cuRIzjzzzKm2OU3L3r9k+fuof5u75JJL7u7uPRMICQAAYKxO32rFqjozyVuS/ER3f66qjlt1k7LHZaC6e3+S/UmyZ8+eXl1d3Woof+N1t9yWG+7ZchfG4uCVq1Ntb21tLdv53SyKZe9fsvx91D8AAIDFtqXVyqrqCVlPDN3S3W8dFT9SVeeMHj8nyeFR+aEk52/Y/bwkD40nXAAAAADGaSurlVWSG5Pc192v3fDQ7UmuGt2/KsltG8qvqKonVtUFSS5M8r7xhQwAAADAuGxlTNbzkrwsyT1V9cFR2auTXJ/k1qp6eZIHk7wkSbr73qq6NclHsr7S2Su6+9FxBw4AAADAzp00OdTdf5DN5xFKkkuPs891Sa7bQVwAAAAATMGW5hwCAAAAYDlJDgEAAAAMmOQQAAAAwIBJDgEAAAAMmOQQAAAAwIBJDgEAAAAMmOQQAAAAwIBJDgEAAAAMmOQQAAAAwIBJDgEAAAAMmOQQAAAAwICdPusAAE7FrmvumGp7N132pKm2BwAAMG2uHAIAAAAYMMkhAAAAgAGTHAIAAAAYMMkhAAAAgAE7aXKoqt5QVYer6sMbyn66qj5RVR8c/bxww2PXVtX9VfXRqnrBpAIHAAAAYOe2cuXQTUku26T857v7OaOfdyRJVV2U5Iokzxzt8/qqOm1cwQIAAAAwXidNDnX3u5N8aovHuzzJge7+Unc/kOT+JBfvID4AAAAAJmgncw79aFV9aDTs7KxR2blJPr6hzqFRGQAAAABzqLr75JWqdiV5e3c/a7S9kuSTSTrJzyQ5p7t/uKp+OckfdvcbR/VuTPKO7n7LJsfcm2RvkqysrHzLgQMHTjn4w5/6bB754invtiO7z33KVNs7cuRIzjzzzKm2OU3L3r9k+fs47f7d84nPTq2tJLngKadtq3+XXHLJ3d29ZwIhAQAAjNXp29mpux957H5V/VqSt482DyU5f0PV85I8dJxj7E+yP0n27NnTq6urpxzH6265LTfcs60ubNvBK1en2t7a2lq287tZFMvev2T5+zjt/l19zR1TaytJbrrsSUv9/AEAAGxrWFlVnbNh83uTPLaS2e1JrqiqJ1bVBUkuTPK+nYUIAAAAwKSc9LKbqnpTktUkZ1fVoSSvSbJaVc/J+rCyg0l+JEm6+96qujXJR5IcTfKK7n50IpEDAAAAsGMnTQ5190s3Kb7xBPWvS3LdToICAAAAYDp2sloZAAAAAAtOcggAAABgwCSHAAAAAAZMcggAAABgwCSHAAAAAAZMcggAAABgwCSHAAAAAAZMcggAAABgwCSHAAAAAAZMcggAAABgwCSHAAAAAAZMcggAAABgwCSHAAAAAAZMcggAAABgwCSHAAAAAAZMcggAAABgwCSHAAAAAAbspMmhqnpDVR2uqg9vKHtaVd1ZVR8b3Z614bFrq+r+qvpoVb1gUoEDAAAAsHNbuXLopiSXHVN2TZK7uvvCJHeNtlNVFyW5IskzR/u8vqpOG1u0AAAAAIzVSZND3f3uJJ86pvjyJDeP7t+c5MUbyg9095e6+4Ek9ye5eDyhAgAAADBu1d0nr1S1K8nbu/tZo+3PdPdTNzz+6e4+q6p+Kcl7uvuNo/Ibk7yzu9+8yTH3JtmbJCsrK99y4MCBUw7+8Kc+m0e+eMq77cjuc58y1faOHDmSM888c6ptTtOy9y9Z/j5Ou3/3fOKzU2srSS54ymnb6t8ll1xyd3fvmUBIAAAAY3X6mI9Xm5Rtmn3q7v1J9ifJnj17enV19ZQbe90tt+WGe8bdhRM7eOXqVNtbW1vLdn43i2LZ+5csfx+n3b+rr7ljam0lyU2XPWmpnz8AAIDtrlb2SFWdkySj28Oj8kNJzt9Q77wkD20/PAAAAAAmabvJoduTXDW6f1WS2zaUX1FVT6yqC5JcmOR9OwsRAAAAgEk56ZisqnpTktUkZ1fVoSSvSXJ9klur6uVJHkzykiTp7nur6tYkH0lyNMkruvvRCcUOAAAAwA6dNDnU3S89zkOXHqf+dUmu20lQAAAAAEzHdoeVAQAAALAEJIcAAAAABkxyCAAAAGDAJIcAAAAABkxyCAAAAGDAJIcAAAAABkxyCAAAAGDAJIcAAAAABkxyCAAAAGDAJIcAAAAABkxyCAAAAGDAJIcAAAAABkxyCAAAAGDAJIcAAAAABkxyCAAAAGDAJIcAAAAABuz0nexcVQeTfD7Jo0mOdveeqnpakt9KsivJwSTf392f3lmYAAAAAEzCOK4cuqS7n9Pde0bb1yS5q7svTHLXaBsAAACAOTSJYWWXJ7l5dP/mJC+eQBsAAAAAjEF19/Z3rnogyaeTdJL/rbv3V9VnuvupG+p8urvP2mTfvUn2JsnKysq3HDhw4JTbP/ypz+aRL243+u3Zfe5TptrekSNHcuaZZ061zWla9v4ly9/Haffvnk98dmptJckFTzltW/275JJL7t5wRSUAAMDc2tGcQ0me190PVdXTk9xZVX+61R27e3+S/UmyZ8+eXl1dPeXGX3fLbbnhnp124dQcvHJ1qu2tra1lO7+bRbHs/UuWv4/T7t/V19wxtbaS5KbLnrTUzx8AAMCOhpV190Oj28NJ3pbk4iSPVNU5STK6PbzTIAEAAACYjG0nh6rqSVX15MfuJ/mXST6c5PYkV42qXZXktp0GCQAAAMBk7GRM1kqSt1XVY8f5ze5+V1X9UZJbq+rlSR5M8pKdhwkAAADAJGw7OdTdf5bk2ZuU/2WSS3cSFAAAAADTMYml7AEAAABYEJJDAAAAAAMmOQQAAAAwYJJDAAAAAAMmOQQAAAAwYJJDAAAAAAMmOQQAAAAwYJJDAAAAAAMmOQQAAAAwYJJDAAAAAAMmOQQAAAAwYJJDAAAAAAMmOQQAAAAwYJJDAAAAAAMmOQQAAAAwYJJDAAAAAAM2seRQVV1WVR+tqvur6ppJtQMAAADA9k0kOVRVpyX55STfleSiJC+tqosm0RYAAAAA2zepK4cuTnJ/d/9Zd/91kgNJLp9QWwAAAABs06SSQ+cm+fiG7UOjMgAAAADmyOkTOm5tUtZfUaFqb5K9o80jVfXRbbRzdpJPbmO/baufnWZrSWbQxylb9v4ly9/Hpe7fJT+77f59/bhjAQAAmIRJJYcOJTl/w/Z5SR7aWKG79yfZv5NGqur93b1nJ8eYd8vex2XvX7L8fdQ/AACAxTapYWV/lOTCqrqgqv5ukiuS3D6htgAAAADYpolcOdTdR6vqR5P8dpLTkryhu++dRFsAAAAAbN+khpWlu9+R5B2TOv7IjoalLYhl7+Oy9y9Z/j7qHwAAwAKr7j55LQAAAACW0qTmHAIAAABgASxEcqiq3lBVh6vqw8d5vKrqf62q+6vqQ1X1zdOOcSe20L8rR/36UFX9x6p69rRj3ImT9W9DvX9aVY9W1fdNK7Zx2Uofq2q1qj5YVfdW1X+YZnw7tYXX6FOq6v+oqj8Z9e+Hph3jTlTV+VX1+1V13yj+V25SZ6H/zgAAABzPQiSHktyU5LITPP5dSS4c/exN8itTiGmcbsqJ+/dAkn/R3f8kyc9k8eZAuSkn7l+q6rQkP5v1ScwX0U05QR+r6qlJXp/ke7r7mUleMp2wxuamnPg5fEWSj3T3s5OsJrlhtFLhojiaZF93f2OS5yZ5RVVddEydRf87AwAAsKmFSA5197uTfOoEVS5P8hu97j1JnlpV50wnup07Wf+6+z9296dHm+9Jct5UAhuTLTx/SfJjSd6S5PDkIxq/LfTxv0/y1u5+cFR/ofq5hf51kidXVSU5c1T36DRiG4fufri7PzC6//kk9yU595hqC/13BgAA4HgWIjm0Becm+fiG7UN5/D92y+LlSd456yDGqarOTfK9SX511rFM0DckOauq1qrq7qr6wVkHNGa/lOQbkzyU5J4kr+zuL882pO2pql1JvinJe495aEh/ZwAAgAGZ2FL2U1ablC3dMmxVdUnWk0P/9axjGbNfSPKq7n50/cKTpXR6km9JcmmSM5L8YVW9p7v/r9mGNTYvSPLBJN+R5B8lubOq/s/u/txMozpFVXVm1q9g+4lNYh/E3xkAAGB4liU5dCjJ+Ru2z8v6FQxLo6r+SZJfT/Jd3f2Xs45nzPYkOTBKDJ2d5IVVdbS7//eZRjVeh5J8sru/kOQLVfXuJM9OsizJoR9Kcn13d5L7q+qBJP84yftmG9bWVdUTsp4YuqW737pJlaX/OwMAAAzTsgwruz3JD45WE3puks9298OzDmpcquofJHlrkpct0ZUmf6O7L+juXd29K8mbk/xPS5YYSpLbkvzzqjq9qr46ybdmfV6bZfFg1q+KSlWtJHlGkj+baUSnYDRX0o1J7uvu1x6n2lL/nQEAAIZrIa4cqqo3ZX0FpLOr6lCS1yR5QpJ0968meUeSFya5P8lfZf0qhoWxhf79myR/L8nrR1fXHO3uPbOJ9tRtoX8L72R97O77qupdST6U5MtJfr27j7vs/bzZwnP4M0luqqp7sj786lXd/ckZhbsdz0vysiT3VNUHR2WvTvIPkuX4OwMAAHA8tT4KBAAAAIAhWpZhZQAAAABsg+QQAAAAwIBJDgEAAAAMmOQQAAAAwIBJDgEAAAAMmOQQAAAAwIBJDgEAAAAMmOQQAAAAwID9/wEtDNdxeO5whwAAAABJRU5ErkJggg==\n",
      "text/plain": [
       "<Figure size 1440x1440 with 12 Axes>"
      ]
     },
     "metadata": {
      "needs_background": "light"
     },
     "output_type": "display_data"
    }
   ],
   "source": [
    "df.hist(figsize=(20,20),xrot=0,yrot=0,bins=10)\n"
   ]
  },
  {
   "cell_type": "code",
   "execution_count": 11,
   "id": "12bcbe75",
   "metadata": {},
   "outputs": [
    {
     "data": {
      "text/html": [
       "<div>\n",
       "<style scoped>\n",
       "    .dataframe tbody tr th:only-of-type {\n",
       "        vertical-align: middle;\n",
       "    }\n",
       "\n",
       "    .dataframe tbody tr th {\n",
       "        vertical-align: top;\n",
       "    }\n",
       "\n",
       "    .dataframe thead th {\n",
       "        text-align: right;\n",
       "    }\n",
       "</style>\n",
       "<table border=\"1\" class=\"dataframe\">\n",
       "  <thead>\n",
       "    <tr style=\"text-align: right;\">\n",
       "      <th></th>\n",
       "      <th>Age</th>\n",
       "      <th>Total_Bilirubin</th>\n",
       "      <th>Direct_Bilirubin</th>\n",
       "      <th>Alkaline_Phosphotase</th>\n",
       "      <th>Alamine_Aminotransferase</th>\n",
       "      <th>Aspartate_Aminotransferase</th>\n",
       "      <th>Total_Protiens</th>\n",
       "      <th>Albumin</th>\n",
       "      <th>Albumin_and_Globulin_Ratio</th>\n",
       "      <th>Dataset</th>\n",
       "    </tr>\n",
       "  </thead>\n",
       "  <tbody>\n",
       "    <tr>\n",
       "      <th>count</th>\n",
       "      <td>583.000000</td>\n",
       "      <td>583.000000</td>\n",
       "      <td>583.000000</td>\n",
       "      <td>583.000000</td>\n",
       "      <td>583.000000</td>\n",
       "      <td>583.000000</td>\n",
       "      <td>583.000000</td>\n",
       "      <td>583.000000</td>\n",
       "      <td>579.000000</td>\n",
       "      <td>583.000000</td>\n",
       "    </tr>\n",
       "    <tr>\n",
       "      <th>mean</th>\n",
       "      <td>44.746141</td>\n",
       "      <td>3.298799</td>\n",
       "      <td>1.486106</td>\n",
       "      <td>290.576329</td>\n",
       "      <td>80.713551</td>\n",
       "      <td>109.910806</td>\n",
       "      <td>6.483190</td>\n",
       "      <td>3.141852</td>\n",
       "      <td>0.947064</td>\n",
       "      <td>1.286449</td>\n",
       "    </tr>\n",
       "    <tr>\n",
       "      <th>std</th>\n",
       "      <td>16.189833</td>\n",
       "      <td>6.209522</td>\n",
       "      <td>2.808498</td>\n",
       "      <td>242.937989</td>\n",
       "      <td>182.620356</td>\n",
       "      <td>288.918529</td>\n",
       "      <td>1.085451</td>\n",
       "      <td>0.795519</td>\n",
       "      <td>0.319592</td>\n",
       "      <td>0.452490</td>\n",
       "    </tr>\n",
       "    <tr>\n",
       "      <th>min</th>\n",
       "      <td>4.000000</td>\n",
       "      <td>0.400000</td>\n",
       "      <td>0.100000</td>\n",
       "      <td>63.000000</td>\n",
       "      <td>10.000000</td>\n",
       "      <td>10.000000</td>\n",
       "      <td>2.700000</td>\n",
       "      <td>0.900000</td>\n",
       "      <td>0.300000</td>\n",
       "      <td>1.000000</td>\n",
       "    </tr>\n",
       "    <tr>\n",
       "      <th>25%</th>\n",
       "      <td>33.000000</td>\n",
       "      <td>0.800000</td>\n",
       "      <td>0.200000</td>\n",
       "      <td>175.500000</td>\n",
       "      <td>23.000000</td>\n",
       "      <td>25.000000</td>\n",
       "      <td>5.800000</td>\n",
       "      <td>2.600000</td>\n",
       "      <td>0.700000</td>\n",
       "      <td>1.000000</td>\n",
       "    </tr>\n",
       "    <tr>\n",
       "      <th>50%</th>\n",
       "      <td>45.000000</td>\n",
       "      <td>1.000000</td>\n",
       "      <td>0.300000</td>\n",
       "      <td>208.000000</td>\n",
       "      <td>35.000000</td>\n",
       "      <td>42.000000</td>\n",
       "      <td>6.600000</td>\n",
       "      <td>3.100000</td>\n",
       "      <td>0.930000</td>\n",
       "      <td>1.000000</td>\n",
       "    </tr>\n",
       "    <tr>\n",
       "      <th>75%</th>\n",
       "      <td>58.000000</td>\n",
       "      <td>2.600000</td>\n",
       "      <td>1.300000</td>\n",
       "      <td>298.000000</td>\n",
       "      <td>60.500000</td>\n",
       "      <td>87.000000</td>\n",
       "      <td>7.200000</td>\n",
       "      <td>3.800000</td>\n",
       "      <td>1.100000</td>\n",
       "      <td>2.000000</td>\n",
       "    </tr>\n",
       "    <tr>\n",
       "      <th>max</th>\n",
       "      <td>90.000000</td>\n",
       "      <td>75.000000</td>\n",
       "      <td>19.700000</td>\n",
       "      <td>2110.000000</td>\n",
       "      <td>2000.000000</td>\n",
       "      <td>4929.000000</td>\n",
       "      <td>9.600000</td>\n",
       "      <td>5.500000</td>\n",
       "      <td>2.800000</td>\n",
       "      <td>2.000000</td>\n",
       "    </tr>\n",
       "  </tbody>\n",
       "</table>\n",
       "</div>"
      ],
      "text/plain": [
       "              Age  Total_Bilirubin  Direct_Bilirubin  Alkaline_Phosphotase  \\\n",
       "count  583.000000       583.000000        583.000000            583.000000   \n",
       "mean    44.746141         3.298799          1.486106            290.576329   \n",
       "std     16.189833         6.209522          2.808498            242.937989   \n",
       "min      4.000000         0.400000          0.100000             63.000000   \n",
       "25%     33.000000         0.800000          0.200000            175.500000   \n",
       "50%     45.000000         1.000000          0.300000            208.000000   \n",
       "75%     58.000000         2.600000          1.300000            298.000000   \n",
       "max     90.000000        75.000000         19.700000           2110.000000   \n",
       "\n",
       "       Alamine_Aminotransferase  Aspartate_Aminotransferase  Total_Protiens  \\\n",
       "count                583.000000                  583.000000      583.000000   \n",
       "mean                  80.713551                  109.910806        6.483190   \n",
       "std                  182.620356                  288.918529        1.085451   \n",
       "min                   10.000000                   10.000000        2.700000   \n",
       "25%                   23.000000                   25.000000        5.800000   \n",
       "50%                   35.000000                   42.000000        6.600000   \n",
       "75%                   60.500000                   87.000000        7.200000   \n",
       "max                 2000.000000                 4929.000000        9.600000   \n",
       "\n",
       "          Albumin  Albumin_and_Globulin_Ratio     Dataset  \n",
       "count  583.000000                  579.000000  583.000000  \n",
       "mean     3.141852                    0.947064    1.286449  \n",
       "std      0.795519                    0.319592    0.452490  \n",
       "min      0.900000                    0.300000    1.000000  \n",
       "25%      2.600000                    0.700000    1.000000  \n",
       "50%      3.100000                    0.930000    1.000000  \n",
       "75%      3.800000                    1.100000    2.000000  \n",
       "max      5.500000                    2.800000    2.000000  "
      ]
     },
     "execution_count": 11,
     "metadata": {},
     "output_type": "execute_result"
    }
   ],
   "source": [
    "df.describe()"
   ]
  },
  {
   "cell_type": "code",
   "execution_count": 12,
   "id": "0b4aae0a",
   "metadata": {},
   "outputs": [],
   "source": [
    "def partition(x):\n",
    "    if x==2: \n",
    "        return 0\n",
    "    return 1\n",
    "df['Dataset']=df['Dataset'].map(partition)\n",
    "    "
   ]
  },
  {
   "cell_type": "code",
   "execution_count": 13,
   "id": "c62fff18",
   "metadata": {},
   "outputs": [
    {
     "data": {
      "text/html": [
       "<div>\n",
       "<style scoped>\n",
       "    .dataframe tbody tr th:only-of-type {\n",
       "        vertical-align: middle;\n",
       "    }\n",
       "\n",
       "    .dataframe tbody tr th {\n",
       "        vertical-align: top;\n",
       "    }\n",
       "\n",
       "    .dataframe thead th {\n",
       "        text-align: right;\n",
       "    }\n",
       "</style>\n",
       "<table border=\"1\" class=\"dataframe\">\n",
       "  <thead>\n",
       "    <tr style=\"text-align: right;\">\n",
       "      <th></th>\n",
       "      <th>Gender</th>\n",
       "    </tr>\n",
       "  </thead>\n",
       "  <tbody>\n",
       "    <tr>\n",
       "      <th>count</th>\n",
       "      <td>583</td>\n",
       "    </tr>\n",
       "    <tr>\n",
       "      <th>unique</th>\n",
       "      <td>2</td>\n",
       "    </tr>\n",
       "    <tr>\n",
       "      <th>top</th>\n",
       "      <td>Male</td>\n",
       "    </tr>\n",
       "    <tr>\n",
       "      <th>freq</th>\n",
       "      <td>441</td>\n",
       "    </tr>\n",
       "  </tbody>\n",
       "</table>\n",
       "</div>"
      ],
      "text/plain": [
       "       Gender\n",
       "count     583\n",
       "unique      2\n",
       "top      Male\n",
       "freq      441"
      ]
     },
     "execution_count": 13,
     "metadata": {},
     "output_type": "execute_result"
    }
   ],
   "source": [
    "df.describe(include=['object'])"
   ]
  },
  {
   "cell_type": "code",
   "execution_count": 14,
   "id": "470e248f",
   "metadata": {},
   "outputs": [
    {
     "data": {
      "text/html": [
       "<div>\n",
       "<style scoped>\n",
       "    .dataframe tbody tr th:only-of-type {\n",
       "        vertical-align: middle;\n",
       "    }\n",
       "\n",
       "    .dataframe tbody tr th {\n",
       "        vertical-align: top;\n",
       "    }\n",
       "\n",
       "    .dataframe thead th {\n",
       "        text-align: right;\n",
       "    }\n",
       "</style>\n",
       "<table border=\"1\" class=\"dataframe\">\n",
       "  <thead>\n",
       "    <tr style=\"text-align: right;\">\n",
       "      <th></th>\n",
       "      <th>Total_Bilirubin</th>\n",
       "      <th>Direct_Bilirubin</th>\n",
       "      <th>Total_Protiens</th>\n",
       "      <th>Albumin</th>\n",
       "      <th>Albumin_and_Globulin_Ratio</th>\n",
       "    </tr>\n",
       "  </thead>\n",
       "  <tbody>\n",
       "    <tr>\n",
       "      <th>count</th>\n",
       "      <td>583.000000</td>\n",
       "      <td>583.000000</td>\n",
       "      <td>583.000000</td>\n",
       "      <td>583.000000</td>\n",
       "      <td>579.000000</td>\n",
       "    </tr>\n",
       "    <tr>\n",
       "      <th>mean</th>\n",
       "      <td>3.298799</td>\n",
       "      <td>1.486106</td>\n",
       "      <td>6.483190</td>\n",
       "      <td>3.141852</td>\n",
       "      <td>0.947064</td>\n",
       "    </tr>\n",
       "    <tr>\n",
       "      <th>std</th>\n",
       "      <td>6.209522</td>\n",
       "      <td>2.808498</td>\n",
       "      <td>1.085451</td>\n",
       "      <td>0.795519</td>\n",
       "      <td>0.319592</td>\n",
       "    </tr>\n",
       "    <tr>\n",
       "      <th>min</th>\n",
       "      <td>0.400000</td>\n",
       "      <td>0.100000</td>\n",
       "      <td>2.700000</td>\n",
       "      <td>0.900000</td>\n",
       "      <td>0.300000</td>\n",
       "    </tr>\n",
       "    <tr>\n",
       "      <th>25%</th>\n",
       "      <td>0.800000</td>\n",
       "      <td>0.200000</td>\n",
       "      <td>5.800000</td>\n",
       "      <td>2.600000</td>\n",
       "      <td>0.700000</td>\n",
       "    </tr>\n",
       "    <tr>\n",
       "      <th>50%</th>\n",
       "      <td>1.000000</td>\n",
       "      <td>0.300000</td>\n",
       "      <td>6.600000</td>\n",
       "      <td>3.100000</td>\n",
       "      <td>0.930000</td>\n",
       "    </tr>\n",
       "    <tr>\n",
       "      <th>75%</th>\n",
       "      <td>2.600000</td>\n",
       "      <td>1.300000</td>\n",
       "      <td>7.200000</td>\n",
       "      <td>3.800000</td>\n",
       "      <td>1.100000</td>\n",
       "    </tr>\n",
       "    <tr>\n",
       "      <th>max</th>\n",
       "      <td>75.000000</td>\n",
       "      <td>19.700000</td>\n",
       "      <td>9.600000</td>\n",
       "      <td>5.500000</td>\n",
       "      <td>2.800000</td>\n",
       "    </tr>\n",
       "  </tbody>\n",
       "</table>\n",
       "</div>"
      ],
      "text/plain": [
       "       Total_Bilirubin  Direct_Bilirubin  Total_Protiens     Albumin  \\\n",
       "count       583.000000        583.000000      583.000000  583.000000   \n",
       "mean          3.298799          1.486106        6.483190    3.141852   \n",
       "std           6.209522          2.808498        1.085451    0.795519   \n",
       "min           0.400000          0.100000        2.700000    0.900000   \n",
       "25%           0.800000          0.200000        5.800000    2.600000   \n",
       "50%           1.000000          0.300000        6.600000    3.100000   \n",
       "75%           2.600000          1.300000        7.200000    3.800000   \n",
       "max          75.000000         19.700000        9.600000    5.500000   \n",
       "\n",
       "       Albumin_and_Globulin_Ratio  \n",
       "count                  579.000000  \n",
       "mean                     0.947064  \n",
       "std                      0.319592  \n",
       "min                      0.300000  \n",
       "25%                      0.700000  \n",
       "50%                      0.930000  \n",
       "75%                      1.100000  \n",
       "max                      2.800000  "
      ]
     },
     "execution_count": 14,
     "metadata": {},
     "output_type": "execute_result"
    }
   ],
   "source": [
    "df.describe(include=['float64'])"
   ]
  },
  {
   "cell_type": "code",
   "execution_count": 15,
   "id": "dfc81540",
   "metadata": {},
   "outputs": [
    {
     "data": {
      "text/html": [
       "<div>\n",
       "<style scoped>\n",
       "    .dataframe tbody tr th:only-of-type {\n",
       "        vertical-align: middle;\n",
       "    }\n",
       "\n",
       "    .dataframe tbody tr th {\n",
       "        vertical-align: top;\n",
       "    }\n",
       "\n",
       "    .dataframe thead th {\n",
       "        text-align: right;\n",
       "    }\n",
       "</style>\n",
       "<table border=\"1\" class=\"dataframe\">\n",
       "  <thead>\n",
       "    <tr style=\"text-align: right;\">\n",
       "      <th></th>\n",
       "      <th>Age</th>\n",
       "      <th>Alkaline_Phosphotase</th>\n",
       "      <th>Alamine_Aminotransferase</th>\n",
       "      <th>Aspartate_Aminotransferase</th>\n",
       "      <th>Dataset</th>\n",
       "    </tr>\n",
       "  </thead>\n",
       "  <tbody>\n",
       "    <tr>\n",
       "      <th>count</th>\n",
       "      <td>583.000000</td>\n",
       "      <td>583.000000</td>\n",
       "      <td>583.000000</td>\n",
       "      <td>583.000000</td>\n",
       "      <td>583.000000</td>\n",
       "    </tr>\n",
       "    <tr>\n",
       "      <th>mean</th>\n",
       "      <td>44.746141</td>\n",
       "      <td>290.576329</td>\n",
       "      <td>80.713551</td>\n",
       "      <td>109.910806</td>\n",
       "      <td>0.713551</td>\n",
       "    </tr>\n",
       "    <tr>\n",
       "      <th>std</th>\n",
       "      <td>16.189833</td>\n",
       "      <td>242.937989</td>\n",
       "      <td>182.620356</td>\n",
       "      <td>288.918529</td>\n",
       "      <td>0.452490</td>\n",
       "    </tr>\n",
       "    <tr>\n",
       "      <th>min</th>\n",
       "      <td>4.000000</td>\n",
       "      <td>63.000000</td>\n",
       "      <td>10.000000</td>\n",
       "      <td>10.000000</td>\n",
       "      <td>0.000000</td>\n",
       "    </tr>\n",
       "    <tr>\n",
       "      <th>25%</th>\n",
       "      <td>33.000000</td>\n",
       "      <td>175.500000</td>\n",
       "      <td>23.000000</td>\n",
       "      <td>25.000000</td>\n",
       "      <td>0.000000</td>\n",
       "    </tr>\n",
       "    <tr>\n",
       "      <th>50%</th>\n",
       "      <td>45.000000</td>\n",
       "      <td>208.000000</td>\n",
       "      <td>35.000000</td>\n",
       "      <td>42.000000</td>\n",
       "      <td>1.000000</td>\n",
       "    </tr>\n",
       "    <tr>\n",
       "      <th>75%</th>\n",
       "      <td>58.000000</td>\n",
       "      <td>298.000000</td>\n",
       "      <td>60.500000</td>\n",
       "      <td>87.000000</td>\n",
       "      <td>1.000000</td>\n",
       "    </tr>\n",
       "    <tr>\n",
       "      <th>max</th>\n",
       "      <td>90.000000</td>\n",
       "      <td>2110.000000</td>\n",
       "      <td>2000.000000</td>\n",
       "      <td>4929.000000</td>\n",
       "      <td>1.000000</td>\n",
       "    </tr>\n",
       "  </tbody>\n",
       "</table>\n",
       "</div>"
      ],
      "text/plain": [
       "              Age  Alkaline_Phosphotase  Alamine_Aminotransferase  \\\n",
       "count  583.000000            583.000000                583.000000   \n",
       "mean    44.746141            290.576329                 80.713551   \n",
       "std     16.189833            242.937989                182.620356   \n",
       "min      4.000000             63.000000                 10.000000   \n",
       "25%     33.000000            175.500000                 23.000000   \n",
       "50%     45.000000            208.000000                 35.000000   \n",
       "75%     58.000000            298.000000                 60.500000   \n",
       "max     90.000000           2110.000000               2000.000000   \n",
       "\n",
       "       Aspartate_Aminotransferase     Dataset  \n",
       "count                  583.000000  583.000000  \n",
       "mean                   109.910806    0.713551  \n",
       "std                    288.918529    0.452490  \n",
       "min                     10.000000    0.000000  \n",
       "25%                     25.000000    0.000000  \n",
       "50%                     42.000000    1.000000  \n",
       "75%                     87.000000    1.000000  \n",
       "max                   4929.000000    1.000000  "
      ]
     },
     "execution_count": 15,
     "metadata": {},
     "output_type": "execute_result"
    }
   ],
   "source": [
    "df.describe(include=['int64'])"
   ]
  },
  {
   "cell_type": "code",
   "execution_count": 16,
   "id": "77994900",
   "metadata": {},
   "outputs": [
    {
     "data": {
      "text/plain": [
       "<AxesSubplot:xlabel='count', ylabel='Gender'>"
      ]
     },
     "execution_count": 16,
     "metadata": {},
     "output_type": "execute_result"
    },
    {
     "data": {
      "image/png": "iVBORw0KGgoAAAANSUhEUgAAAnUAAAJNCAYAAABX3oOUAAAAOXRFWHRTb2Z0d2FyZQBNYXRwbG90bGliIHZlcnNpb24zLjMuNCwgaHR0cHM6Ly9tYXRwbG90bGliLm9yZy8QVMy6AAAACXBIWXMAAAsTAAALEwEAmpwYAAAV70lEQVR4nO3df8zud13f8dfbc1qpaKq0ZdaW9nTaTChDSCsBa0hBnRgnRddtoA6dZiWmWvFn+GGYE39jdGq2zDobCyrImIMCE1YLLVEmpZVCKaWBIGq1sSBzIGxtKO/9cX9Pdntyt/d1t+c6133e5/FITu7r+/1eP953Pm3Ps9/rV3V3AAA4vn3OpgcAAODhE3UAAAOIOgCAAUQdAMAAog4AYABRBwAwwMFND7Bpp59+eh86dGjTYwAA7OqWW275WHefsdOxEz7qDh06lJtvvnnTYwAA7Kqq/uyBjnn6FQBgAFEHADCAqAMAGEDUAQAMIOoAAAYQdQAAA4g6AIABRB0AwACiDgBgAFEHADCAqAMAGEDUAQAMIOoAAAYQdQAAA4g6AIABRB0AwACiDgBgAFEHADCAqAMAGEDUAQAMIOoAAAYQdQAAA4g6AIABRB0AwACiDgBggIObHmDT7rjrb3Lhj7xi02PArm55+fM2PQIA+5gzdQAAA4g6AIABRB0AwACiDgBgAFEHADCAqAMAGEDUAQAMIOoAAAYQdQAAA4g6AIABRB0AwACiDgBgAFEHADCAqAMAGEDUAQAMIOoAAAYQdQAAA4g6AIABRB0AwACiDgBgAFEHADCAqAMAGEDUAQAMIOoAAAYQdQAAA4g6AIABRB0AwACiDgBgAFEHADCAqAMAGEDUAQAMIOoAAAYQdQAAA4g6AIABRB0AwACiDgBgAFEHADCAqAMAGEDUAQAMIOoAAAYQdQAAA4g6AIABRB0AwACiDgBgAFEHADCAqAMAGEDUAQAMIOoAAAYQdQAAA4g6AIABRB0AwACiDgBgAFEHADCAqAMAGEDUAQAMIOoAAAYQdQAAA4g6AIABRB0AwACiDgBgAFEHADCAqAMAGEDUAQAMIOoAAAYQdQAAA4g6AIABRB0AwACiDgBgAFEHADCAqAMAGEDUAQAMIOoAAAYQdQAAA4g6AIABRB0AwACiDgBgAFEHADCAqAMAGEDUAQAMIOoAAAYQdQAAA4g6AIABRB0AwACiDgBgAFEHADCAqAMAGEDUAQAMIOoAAAYQdQAAA4g6AIABRB0AwACiDgBgAFEHADCAqAMAGEDUAQAMIOoAAAYQdQAAA4g6AIABRB0AwACiDgBgAFEHADCAqAMAGEDUAQAMIOoAAAZYW9RV1f1Vdeu2P4fW+FgfqarT13X/AAD73cE13vf/6e4nrvH+AQBYHNOnX6vqwqq6sapuqaq3VNWZy/4bquqXqurtVXVHVX1lVf1eVX2wqn5y2+1ft9z29qq6/AEe49ur6qbl7OCvVdWBY/X7AQBsyjqj7pRtT73+t6o6KcmvJrmsuy9McnWSn9p2/fu6+2lJ/lOS1ye5Isnjk3xnVZ22XOe7lttelOTKbfuTJFX12CT/MsnFy1nC+5N82/p+RQCA/eGYPf1aVY/PVqRdV1VJciDJ3duuf+3y87Ykt3f33cvtPpzkMUn+Jlsh983L9R6T5Pxl/2Ffk+TCJO9aHuOUJPccOdhylu/yJDn5C0478jAAwHFnnVF3pMpWrD31AY7fu/z87LbLh7cPVtUlSb42yVO7+9NVdUOSR+zwGNd094sebJDuvirJVUnyyC8+r/fwOwAA7EvH8jV1dyY5o6qemiRVdVJVXbCH25+a5H8tQfflSZ6yw3WuT3JZVT16eYxHVdW5D3dwAID97phFXXffl+SyJD9XVe9JcmuSr9rDXbw5W2fs3pvkZUn+eIfHeH+SH0vyP5brXZfkzIc5OgDAvre2p1+7+/N32HdrkqftsP+SbZdvSHLDTseSfMMDPNahbZd/N8nv7nVeAIDjmW+UAAAYQNQBAAwg6gAABhB1AAADiDoAgAFEHQDAAKIOAGAAUQcAMICoAwAYQNQBAAwg6gAABhB1AAADiDoAgAFEHQDAAKIOAGAAUQcAMICoAwAYQNQBAAwg6gAABhB1AAADiDoAgAFEHQDAAKIOAGAAUQcAMICoAwAYQNQBAAwg6gAABhB1AAADiDoAgAFEHQDAAKIOAGAAUQcAMICoAwAYQNQBAAwg6gAABhB1AAADiDoAgAFEHQDAAKIOAGAAUQcAMICoAwAYQNQBAAwg6gAABhB1AAADiDoAgAFEHQDAAKIOAGAAUQcAMICoAwAYQNQBAAwg6gAABhB1AAADiDoAgAFEHQDAAKIOAGAAUQcAMICoAwAYQNQBAAwg6gAABhB1AAADiDoAgAFEHQDAAKIOAGAAUQcAMICoAwAYQNQBAAwg6gAABhB1AAADiDoAgAFEHQDAAKIOAGAAUQcAMICoAwAYQNQBAAwg6gAABhB1AAADiDoAgAFEHQDAAKIOAGAAUQcAMICoAwAYQNQBAAwg6gAABhB1AAADiDoAgAFEHQDAAKIOAGAAUQcAMICoAwAYQNQBAAwg6gAABhB1AAADiDoAgAFEHQDAAKIOAGAAUQcAMICoAwAYQNQBAAwg6gAABhB1AAADiDoAgAFEHQDAAKIOAGAAUQcAMMDBTQ+waY89+7Tc/PLnbXoMAICHxZk6AIABRB0AwACiDgBgAFEHADCAqAMAGEDUAQAMIOoAAAYQdQAAA4g6AIABdo26qjpQVX9wLIYBAOCh2TXquvv+JJ+uqlOPwTwAADwEq3736/9NcltVXZfkU4d3dveVa5kKAIA9WTXq3rT8AQBgH1op6rr7mqo6Jck53X3nmmcCAGCPVnr3a1V9U5Jbk7x52X5iVV27xrkAANiDVT/S5MeTPDnJ3yZJd9+a5Ly1TAQAwJ6tGnWf6e7/fcS+PtrDAADw0Kz6Ron3VdW3JjlQVecnuTLJO9Y3FgAAe7HqmbrvS3JBknuTvCrJJ5K8YE0zAQCwR6u++/XTSV6y/AEAYJ950KirqjfkQV47193POuoTAQCwZ7udqfuF5ee3JPniJL+1bD83yUfWNBMAAHv0oFHX3TcmSVW9rLuftu3QG6rq7WudDACAla36RokzquofHt6oqvOSnLGekQAA2KtVP9LkB5LcUFUfXrYPJXn+WiYCAGDPVn3365uXz6f78mXXB7r73vWNBQDAXqx6pi5JLszWGbqDSb6iqtLdr1jLVAAA7MlKUVdVr0zypUluTXL/sruTiDoAgH1g1TN1FyV5XHf7vlcAgH1o1Xe/vi9bn1MHAMA+tOqZutOTvL+qbsrW978m8Y0SAAD7xapR9+PrHAIAgIdn1Y80ubGqzk1yfnf/QVV9XpID6x0NAIBVrfSauqr6N0lem+TXll1nJXndmmYCAGCPVn2jxBVJLk7yiSTp7g8mefS6hgIAYG9Wjbp7u/u+wxtVdTBbn1MHAMA+sGrU3VhVL05ySlV9XZL/kuQN6xsLAIC9WDXqXpjko0luS3J5kjd190vWNhUAAHvyoFFXVZdW1RXd/dnu/vUk52br2yVeXFWXHZMJAQDY1W5n6n40ybXbtk9OcmGSS5J8z5pmAgBgj3b7nLqTu/svtm3/YXd/PMnHq+qRa5wLAIA92O1M3Rdt3+ju7922ecbRHwcAgIdit6h75/LBw39PVT0/yU3rGQkAgL3a7enXH0jyuqr61iR/suy7MMnnJnn2GucCAGAPHjTquvueJF9VVc9IcsGy+03d/da1TwYAwMp2O1OXJFkiTsgBAOxTq374MAAA+5ioAwAYQNQBAAwg6gAABhB1AAADiDoAgAFEHQDAACt9Tt1k9919e/78J/7xpscAAI5j57z0tk2P4EwdAMAEog4AYABRBwAwgKgDABhA1AEADCDqAAAGEHUAAAOIOgCAAUQdAMAAog4AYABRBwAwgKgDABhA1AEADCDqAAAGEHUAAAOIOgCAAUQdAMAAog4AYABRBwAwgKgDABhA1AEADCDqAAAGEHUAAAOIOgCAAUQdAMAAog4AYABRBwAwgKgDABhA1AEADCDqAAAGEHUAAAOIOgCAAUQdAMAAog4AYABRBwAwgKgDABhA1AEADCDqAAAGEHUAAAOIOgCAAUQdAMAAog4AYABRBwAwgKgDABhA1AEADCDqAAAGEHUAAAOIOgCAAUQdAMAAog4AYABRBwAwgKgDABhA1AEADCDqAAAGEHUAAAOIOgCAAUQdAMAAog4AYABRBwAwgKgDABhA1AEADCDqAAAGEHUAAAOIOgCAAUQdAMAAog4AYABRBwAwgKgDABhA1AEADCDqAAAGEHUAAAOIOgCAAUQdAMAAog4AYABRBwAwgKgDABhA1AEADCDqAAAGEHUAAAOIOgCAAUQdAMAAog4AYABRBwAwgKgDABhA1AEADCDqAAAGEHUAAAOIOgCAAUQdAMAAog4AYABRBwAwgKgDABhA1AEADCDqAAAGEHUAAAOIOgCAAUQdAMAAog4AYABRBwAwgKgDABhA1AEADCDqAAAGEHUAAAOIOgCAAfZV1FVVV9Urt20frKqPVtUbd7ndJbtdBwBgsn0VdUk+leTxVXXKsv11Sf5yg/MAABwX9lvUJcnvJ/nG5fJzk7zq8IGqenJVvaOq3r38/EdH3riqHllVV1fVu5brXXqM5gYA2Jj9GHWvTvKcqnpEkickeee2Yx9I8rTuflKSlyb56R1u/5Ikb+3ur0zy9CQvr6pHrnlmAICNOrjpAY7U3e+tqkPZOkv33484fGqSa6rq/CSd5KQd7uKfJHlWVf3wsv2IJOckuePwFarq8iSXJ8lZp+50FwAAx5d9F3WLa5P8QpJLkpy2bf/Lkrytu795Cb8bdrhtJfln3X3nA915d1+V5KokecJZp/TRGRkAYHP249OvSXJ1kp/o7tuO2H9q/v8bJ77zAW77liTfV1WVJFX1pLVMCACwj+zLqOvuu7r7l3c49PNJfqaq/ijJgQe4+cuy9bTse6vqfcs2AMBo1X1iP/v4hLNO6Tc+/8s2PQYAcBw756VHPrm4HlV1S3dftNOxfXmmDgCAvRF1AAADiDoAgAFEHQDAAKIOAGAAUQcAMICoAwAYQNQBAAwg6gAABhB1AAADiDoAgAFEHQDAAKIOAGAAUQcAMICoAwAYQNQBAAwg6gAABhB1AAADiDoAgAFEHQDAAKIOAGAAUQcAMICoAwAYQNQBAAwg6gAABhB1AAADiDoAgAFEHQDAAKIOAGAAUQcAMICoAwAYQNQBAAwg6gAABhB1AAADiDoAgAFEHQDAAKIOAGAAUQcAMICoAwAYQNQBAAwg6gAABhB1AAADiDoAgAFEHQDAAKIOAGAAUQcAMICoAwAYQNQBAAwg6gAABhB1AAADiDoAgAFEHQDAAKIOAGAAUQcAMICoAwAYQNQBAAwg6gAABhB1AAADiDoAgAFEHQDAAKIOAGAAUQcAMICoAwAYQNQBAAwg6gAABhB1AAADiDoAgAFEHQDAAKIOAGAAUQcAMICoAwAYQNQBAAwg6gAABhB1AAADiDoAgAFEHQDAAKIOAGAAUQcAMICoAwAYQNQBAAwg6gAABhB1AAADiDoAgAFEHQDAAKIOAGAAUQcAMICoAwAYQNQBAAwg6gAABhB1AAADiDoAgAFEHQDAAKIOAGAAUQcAMICoAwAYQNQBAAwg6gAABhB1AAADiDoAgAFEHQDAAKIOAGAAUQcAMICoAwAYQNQBAAxwcNMDbNrJZ16Qc15686bHAAB4WJypAwAYQNQBAAwg6gAABhB1AAADiDoAgAFEHQDAAKIOAGAAUQcAMICoAwAYQNQBAAwg6gAABhB1AAADiDoAgAFEHQDAAKIOAGAAUQcAMICoAwAYQNQBAAwg6gAABhB1AAADiDoAgAFEHQDAAKIOAGAAUQcAMICoAwAYQNQBAAxQ3b3pGTaqqj6Z5M5Nz8FanZ7kY5segrWxvvNZ49ms796c291n7HTg4LGeZB+6s7sv2vQQrE9V3WyN57K+81nj2azv0ePpVwCAAUQdAMAAoi65atMDsHbWeDbrO581ns36HiUn/BslAAAmcKYOAGCAEzrqquqZVXVnVX2oql646XnYu6q6uqruqar3bdv3qKq6rqo+uPz8om3HXrSs951V9fWbmZq9qKrHVNXbquqOqrq9qr5/2W+dB6iqR1TVTVX1nmV9/92y3/oOUlUHqurdVfXGZdv6rsEJG3VVdSDJf0jyDUkel+S5VfW4zU7FQ/CbSZ55xL4XJrm+u89Pcv2ynWV9n5PkguU2/3H554D97TNJfqi7H5vkKUmuWNbSOs9wb5JndPdXJHlikmdW1VNifaf5/iR3bNu2vmtwwkZdkicn+VB3f7i770vy6iSXbngm9qi7357k40fsvjTJNcvla5I8e9v+V3f3vd39p0k+lK1/DtjHuvvu7v6T5fIns/UXw1mxziP0lr9bNk9a/nSs7xhVdXaSb0zyn7fttr5rcCJH3VlJ/mLb9l3LPo5//6C77062giDJo5f91vw4V1WHkjwpyTtjncdYnpq7Nck9Sa7rbus7y79P8qNJPrttn/VdgxM56mqHfd4KPJs1P45V1ecn+a9JXtDdn3iwq+6wzzrvY919f3c/McnZSZ5cVY9/kKtb3+NIVf3TJPd09y2r3mSHfdZ3RSdy1N2V5DHbts9O8lcbmoWj66+r6swkWX7es+y35sepqjopW0H32939e8tu6zxMd/9tkhuy9Voq6zvDxUmeVVUfydbLnJ5RVb8V67sWJ3LUvSvJ+VV1XlWdnK0XZl674Zk4Oq5N8h3L5e9I8vpt+59TVZ9bVeclOT/JTRuYjz2oqkryG0nu6O5f3HbIOg9QVWdU1Rcul09J8rVJPhDrO0J3v6i7z+7uQ9n6e/at3f3tsb5rcXDTA2xKd3+mqr43yVuSHEhydXffvuGx2KOqelWSS5KcXlV3Jfm3SX42yWuq6ruT/HmSf54k3X17Vb0myfuz9Y7KK7r7/o0Mzl5cnORfJblted1Vkrw41nmKM5Ncs7zD8XOSvKa731hV/zPWdzL//q6Bb5QAABjgRH76FQBgDFEHADCAqAMAGEDUAQAMIOoAAAYQdQAbVlUvqKrP2/QcwPHNR5oAbNjyafsXdffHNj0LcPxypg5gBVX1vKp6b1W9p6peWVXnVtX1y77rq+qc5Xq/WVWXbbvd3y0/L6mqG6rqtVX1gar67dpyZZIvSfK2qnrbZn47YIIT9hslAFZVVRckeUmSi7v7Y1X1qCTXJHlFd19TVd+V5FeSPHuXu3pSkguy9V2Wf7Tc369U1Q8mebozdcDD4UwdwO6ekeS1h6Oruz+e5KlJfmc5/sokX73C/dzU3Xd192eT3Jrk0NEfFThRiTqA3VWS3V6AfPj4Z7L8t7WqKsnJ265z77bL98ezJcBRJOoAdnd9kn9RVaclyfL06zuSPGc5/m1J/nC5/JEkFy6XL01y0gr3/8kkX3C0hgVOTP4vEWAX3X17Vf1Ukhur6v4k705yZZKrq+pHknw0yb9erv7rSV5fVTdlKwY/tcJDXJXk96vq7u5++tH/DYATgY80AQAYwNOvAAADiDoAgAFEHQDAAKIOAGAAUQcAMICoAwAYQNQBAAwg6gAABvh/XuquRhkt89EAAAAASUVORK5CYII=\n",
      "text/plain": [
       "<Figure size 720x720 with 1 Axes>"
      ]
     },
     "metadata": {
      "needs_background": "light"
     },
     "output_type": "display_data"
    }
   ],
   "source": [
    "plt.figure(figsize=(10,10))\n",
    "sns.countplot(y='Gender',data=df)"
   ]
  },
  {
   "cell_type": "code",
   "execution_count": 17,
   "id": "d39d1a1e",
   "metadata": {},
   "outputs": [
    {
     "data": {
      "text/html": [
       "<div>\n",
       "<style scoped>\n",
       "    .dataframe tbody tr th:only-of-type {\n",
       "        vertical-align: middle;\n",
       "    }\n",
       "\n",
       "    .dataframe tbody tr th {\n",
       "        vertical-align: top;\n",
       "    }\n",
       "\n",
       "    .dataframe thead th {\n",
       "        text-align: right;\n",
       "    }\n",
       "</style>\n",
       "<table border=\"1\" class=\"dataframe\">\n",
       "  <thead>\n",
       "    <tr style=\"text-align: right;\">\n",
       "      <th></th>\n",
       "      <th>Age</th>\n",
       "      <th>Total_Bilirubin</th>\n",
       "      <th>Direct_Bilirubin</th>\n",
       "      <th>Alkaline_Phosphotase</th>\n",
       "      <th>Alamine_Aminotransferase</th>\n",
       "      <th>Aspartate_Aminotransferase</th>\n",
       "      <th>Total_Protiens</th>\n",
       "      <th>Albumin</th>\n",
       "      <th>Albumin_and_Globulin_Ratio</th>\n",
       "      <th>Dataset</th>\n",
       "    </tr>\n",
       "  </thead>\n",
       "  <tbody>\n",
       "    <tr>\n",
       "      <th>Age</th>\n",
       "      <td>1.000000</td>\n",
       "      <td>0.011763</td>\n",
       "      <td>0.007529</td>\n",
       "      <td>0.080425</td>\n",
       "      <td>-0.086883</td>\n",
       "      <td>-0.019910</td>\n",
       "      <td>-0.187461</td>\n",
       "      <td>-0.265924</td>\n",
       "      <td>-0.216408</td>\n",
       "      <td>0.137351</td>\n",
       "    </tr>\n",
       "    <tr>\n",
       "      <th>Total_Bilirubin</th>\n",
       "      <td>0.011763</td>\n",
       "      <td>1.000000</td>\n",
       "      <td>0.874618</td>\n",
       "      <td>0.206669</td>\n",
       "      <td>0.214065</td>\n",
       "      <td>0.237831</td>\n",
       "      <td>-0.008099</td>\n",
       "      <td>-0.222250</td>\n",
       "      <td>-0.206267</td>\n",
       "      <td>0.220208</td>\n",
       "    </tr>\n",
       "    <tr>\n",
       "      <th>Direct_Bilirubin</th>\n",
       "      <td>0.007529</td>\n",
       "      <td>0.874618</td>\n",
       "      <td>1.000000</td>\n",
       "      <td>0.234939</td>\n",
       "      <td>0.233894</td>\n",
       "      <td>0.257544</td>\n",
       "      <td>-0.000139</td>\n",
       "      <td>-0.228531</td>\n",
       "      <td>-0.200125</td>\n",
       "      <td>0.246046</td>\n",
       "    </tr>\n",
       "    <tr>\n",
       "      <th>Alkaline_Phosphotase</th>\n",
       "      <td>0.080425</td>\n",
       "      <td>0.206669</td>\n",
       "      <td>0.234939</td>\n",
       "      <td>1.000000</td>\n",
       "      <td>0.125680</td>\n",
       "      <td>0.167196</td>\n",
       "      <td>-0.028514</td>\n",
       "      <td>-0.165453</td>\n",
       "      <td>-0.234166</td>\n",
       "      <td>0.184866</td>\n",
       "    </tr>\n",
       "    <tr>\n",
       "      <th>Alamine_Aminotransferase</th>\n",
       "      <td>-0.086883</td>\n",
       "      <td>0.214065</td>\n",
       "      <td>0.233894</td>\n",
       "      <td>0.125680</td>\n",
       "      <td>1.000000</td>\n",
       "      <td>0.791966</td>\n",
       "      <td>-0.042518</td>\n",
       "      <td>-0.029742</td>\n",
       "      <td>-0.002375</td>\n",
       "      <td>0.163416</td>\n",
       "    </tr>\n",
       "    <tr>\n",
       "      <th>Aspartate_Aminotransferase</th>\n",
       "      <td>-0.019910</td>\n",
       "      <td>0.237831</td>\n",
       "      <td>0.257544</td>\n",
       "      <td>0.167196</td>\n",
       "      <td>0.791966</td>\n",
       "      <td>1.000000</td>\n",
       "      <td>-0.025645</td>\n",
       "      <td>-0.085290</td>\n",
       "      <td>-0.070040</td>\n",
       "      <td>0.151934</td>\n",
       "    </tr>\n",
       "    <tr>\n",
       "      <th>Total_Protiens</th>\n",
       "      <td>-0.187461</td>\n",
       "      <td>-0.008099</td>\n",
       "      <td>-0.000139</td>\n",
       "      <td>-0.028514</td>\n",
       "      <td>-0.042518</td>\n",
       "      <td>-0.025645</td>\n",
       "      <td>1.000000</td>\n",
       "      <td>0.784053</td>\n",
       "      <td>0.234887</td>\n",
       "      <td>-0.035008</td>\n",
       "    </tr>\n",
       "    <tr>\n",
       "      <th>Albumin</th>\n",
       "      <td>-0.265924</td>\n",
       "      <td>-0.222250</td>\n",
       "      <td>-0.228531</td>\n",
       "      <td>-0.165453</td>\n",
       "      <td>-0.029742</td>\n",
       "      <td>-0.085290</td>\n",
       "      <td>0.784053</td>\n",
       "      <td>1.000000</td>\n",
       "      <td>0.689632</td>\n",
       "      <td>-0.161388</td>\n",
       "    </tr>\n",
       "    <tr>\n",
       "      <th>Albumin_and_Globulin_Ratio</th>\n",
       "      <td>-0.216408</td>\n",
       "      <td>-0.206267</td>\n",
       "      <td>-0.200125</td>\n",
       "      <td>-0.234166</td>\n",
       "      <td>-0.002375</td>\n",
       "      <td>-0.070040</td>\n",
       "      <td>0.234887</td>\n",
       "      <td>0.689632</td>\n",
       "      <td>1.000000</td>\n",
       "      <td>-0.163131</td>\n",
       "    </tr>\n",
       "    <tr>\n",
       "      <th>Dataset</th>\n",
       "      <td>0.137351</td>\n",
       "      <td>0.220208</td>\n",
       "      <td>0.246046</td>\n",
       "      <td>0.184866</td>\n",
       "      <td>0.163416</td>\n",
       "      <td>0.151934</td>\n",
       "      <td>-0.035008</td>\n",
       "      <td>-0.161388</td>\n",
       "      <td>-0.163131</td>\n",
       "      <td>1.000000</td>\n",
       "    </tr>\n",
       "  </tbody>\n",
       "</table>\n",
       "</div>"
      ],
      "text/plain": [
       "                                 Age  Total_Bilirubin  Direct_Bilirubin  \\\n",
       "Age                         1.000000         0.011763          0.007529   \n",
       "Total_Bilirubin             0.011763         1.000000          0.874618   \n",
       "Direct_Bilirubin            0.007529         0.874618          1.000000   \n",
       "Alkaline_Phosphotase        0.080425         0.206669          0.234939   \n",
       "Alamine_Aminotransferase   -0.086883         0.214065          0.233894   \n",
       "Aspartate_Aminotransferase -0.019910         0.237831          0.257544   \n",
       "Total_Protiens             -0.187461        -0.008099         -0.000139   \n",
       "Albumin                    -0.265924        -0.222250         -0.228531   \n",
       "Albumin_and_Globulin_Ratio -0.216408        -0.206267         -0.200125   \n",
       "Dataset                     0.137351         0.220208          0.246046   \n",
       "\n",
       "                            Alkaline_Phosphotase  Alamine_Aminotransferase  \\\n",
       "Age                                     0.080425                 -0.086883   \n",
       "Total_Bilirubin                         0.206669                  0.214065   \n",
       "Direct_Bilirubin                        0.234939                  0.233894   \n",
       "Alkaline_Phosphotase                    1.000000                  0.125680   \n",
       "Alamine_Aminotransferase                0.125680                  1.000000   \n",
       "Aspartate_Aminotransferase              0.167196                  0.791966   \n",
       "Total_Protiens                         -0.028514                 -0.042518   \n",
       "Albumin                                -0.165453                 -0.029742   \n",
       "Albumin_and_Globulin_Ratio             -0.234166                 -0.002375   \n",
       "Dataset                                 0.184866                  0.163416   \n",
       "\n",
       "                            Aspartate_Aminotransferase  Total_Protiens  \\\n",
       "Age                                          -0.019910       -0.187461   \n",
       "Total_Bilirubin                               0.237831       -0.008099   \n",
       "Direct_Bilirubin                              0.257544       -0.000139   \n",
       "Alkaline_Phosphotase                          0.167196       -0.028514   \n",
       "Alamine_Aminotransferase                      0.791966       -0.042518   \n",
       "Aspartate_Aminotransferase                    1.000000       -0.025645   \n",
       "Total_Protiens                               -0.025645        1.000000   \n",
       "Albumin                                      -0.085290        0.784053   \n",
       "Albumin_and_Globulin_Ratio                   -0.070040        0.234887   \n",
       "Dataset                                       0.151934       -0.035008   \n",
       "\n",
       "                             Albumin  Albumin_and_Globulin_Ratio   Dataset  \n",
       "Age                        -0.265924                   -0.216408  0.137351  \n",
       "Total_Bilirubin            -0.222250                   -0.206267  0.220208  \n",
       "Direct_Bilirubin           -0.228531                   -0.200125  0.246046  \n",
       "Alkaline_Phosphotase       -0.165453                   -0.234166  0.184866  \n",
       "Alamine_Aminotransferase   -0.029742                   -0.002375  0.163416  \n",
       "Aspartate_Aminotransferase -0.085290                   -0.070040  0.151934  \n",
       "Total_Protiens              0.784053                    0.234887 -0.035008  \n",
       "Albumin                     1.000000                    0.689632 -0.161388  \n",
       "Albumin_and_Globulin_Ratio  0.689632                    1.000000 -0.163131  \n",
       "Dataset                    -0.161388                   -0.163131  1.000000  "
      ]
     },
     "execution_count": 17,
     "metadata": {},
     "output_type": "execute_result"
    }
   ],
   "source": [
    "df.corr()"
   ]
  },
  {
   "cell_type": "code",
   "execution_count": 18,
   "id": "6b842ba4",
   "metadata": {},
   "outputs": [
    {
     "data": {
      "text/plain": [
       "<AxesSubplot:>"
      ]
     },
     "execution_count": 18,
     "metadata": {},
     "output_type": "execute_result"
    },
    {
     "data": {
      "image/png": "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\n",
      "text/plain": [
       "<Figure size 720x720 with 2 Axes>"
      ]
     },
     "metadata": {
      "needs_background": "light"
     },
     "output_type": "display_data"
    }
   ],
   "source": [
    "plt.figure(figsize=(10,10))\n",
    "sns.heatmap(df.corr())"
   ]
  },
  {
   "cell_type": "code",
   "execution_count": 19,
   "id": "1d406b43",
   "metadata": {},
   "outputs": [
    {
     "name": "stdout",
     "output_type": "stream",
     "text": [
      "(570, 11)\n"
     ]
    }
   ],
   "source": [
    "df=df.drop_duplicates()\n",
    "print(df.shape)"
   ]
  },
  {
   "cell_type": "code",
   "execution_count": 20,
   "id": "e1926bae",
   "metadata": {},
   "outputs": [
    {
     "data": {
      "text/html": [
       "<div>\n",
       "<style scoped>\n",
       "    .dataframe tbody tr th:only-of-type {\n",
       "        vertical-align: middle;\n",
       "    }\n",
       "\n",
       "    .dataframe tbody tr th {\n",
       "        vertical-align: top;\n",
       "    }\n",
       "\n",
       "    .dataframe thead th {\n",
       "        text-align: right;\n",
       "    }\n",
       "</style>\n",
       "<table border=\"1\" class=\"dataframe\">\n",
       "  <thead>\n",
       "    <tr style=\"text-align: right;\">\n",
       "      <th></th>\n",
       "      <th>Age</th>\n",
       "      <th>Gender</th>\n",
       "      <th>Total_Bilirubin</th>\n",
       "      <th>Direct_Bilirubin</th>\n",
       "      <th>Alkaline_Phosphotase</th>\n",
       "      <th>Alamine_Aminotransferase</th>\n",
       "      <th>Aspartate_Aminotransferase</th>\n",
       "      <th>Total_Protiens</th>\n",
       "      <th>Albumin</th>\n",
       "      <th>Albumin_and_Globulin_Ratio</th>\n",
       "      <th>Dataset</th>\n",
       "    </tr>\n",
       "  </thead>\n",
       "  <tbody>\n",
       "    <tr>\n",
       "      <th>0</th>\n",
       "      <td>65</td>\n",
       "      <td>0</td>\n",
       "      <td>0.7</td>\n",
       "      <td>0.1</td>\n",
       "      <td>187</td>\n",
       "      <td>16</td>\n",
       "      <td>18</td>\n",
       "      <td>6.8</td>\n",
       "      <td>3.3</td>\n",
       "      <td>0.90</td>\n",
       "      <td>1</td>\n",
       "    </tr>\n",
       "    <tr>\n",
       "      <th>1</th>\n",
       "      <td>62</td>\n",
       "      <td>1</td>\n",
       "      <td>10.9</td>\n",
       "      <td>5.5</td>\n",
       "      <td>699</td>\n",
       "      <td>64</td>\n",
       "      <td>100</td>\n",
       "      <td>7.5</td>\n",
       "      <td>3.2</td>\n",
       "      <td>0.74</td>\n",
       "      <td>1</td>\n",
       "    </tr>\n",
       "    <tr>\n",
       "      <th>2</th>\n",
       "      <td>62</td>\n",
       "      <td>1</td>\n",
       "      <td>7.3</td>\n",
       "      <td>4.1</td>\n",
       "      <td>490</td>\n",
       "      <td>60</td>\n",
       "      <td>68</td>\n",
       "      <td>7.0</td>\n",
       "      <td>3.3</td>\n",
       "      <td>0.89</td>\n",
       "      <td>1</td>\n",
       "    </tr>\n",
       "    <tr>\n",
       "      <th>3</th>\n",
       "      <td>58</td>\n",
       "      <td>1</td>\n",
       "      <td>1.0</td>\n",
       "      <td>0.4</td>\n",
       "      <td>182</td>\n",
       "      <td>14</td>\n",
       "      <td>20</td>\n",
       "      <td>6.8</td>\n",
       "      <td>3.4</td>\n",
       "      <td>1.00</td>\n",
       "      <td>1</td>\n",
       "    </tr>\n",
       "    <tr>\n",
       "      <th>4</th>\n",
       "      <td>72</td>\n",
       "      <td>1</td>\n",
       "      <td>3.9</td>\n",
       "      <td>2.0</td>\n",
       "      <td>195</td>\n",
       "      <td>27</td>\n",
       "      <td>59</td>\n",
       "      <td>7.3</td>\n",
       "      <td>2.4</td>\n",
       "      <td>0.40</td>\n",
       "      <td>1</td>\n",
       "    </tr>\n",
       "  </tbody>\n",
       "</table>\n",
       "</div>"
      ],
      "text/plain": [
       "   Age  Gender  Total_Bilirubin  Direct_Bilirubin  Alkaline_Phosphotase  \\\n",
       "0   65       0              0.7               0.1                   187   \n",
       "1   62       1             10.9               5.5                   699   \n",
       "2   62       1              7.3               4.1                   490   \n",
       "3   58       1              1.0               0.4                   182   \n",
       "4   72       1              3.9               2.0                   195   \n",
       "\n",
       "   Alamine_Aminotransferase  Aspartate_Aminotransferase  Total_Protiens  \\\n",
       "0                        16                          18             6.8   \n",
       "1                        64                         100             7.5   \n",
       "2                        60                          68             7.0   \n",
       "3                        14                          20             6.8   \n",
       "4                        27                          59             7.3   \n",
       "\n",
       "   Albumin  Albumin_and_Globulin_Ratio  Dataset  \n",
       "0      3.3                        0.90        1  \n",
       "1      3.2                        0.74        1  \n",
       "2      3.3                        0.89        1  \n",
       "3      3.4                        1.00        1  \n",
       "4      2.4                        0.40        1  "
      ]
     },
     "execution_count": 20,
     "metadata": {},
     "output_type": "execute_result"
    }
   ],
   "source": [
    "df=df.replace(['Male','Female'],[1,0])\n",
    "df.head()"
   ]
  },
  {
   "cell_type": "code",
   "execution_count": 21,
   "id": "3d9640fb",
   "metadata": {},
   "outputs": [
    {
     "data": {
      "text/plain": [
       "(569, 11)"
      ]
     },
     "execution_count": 21,
     "metadata": {},
     "output_type": "execute_result"
    }
   ],
   "source": [
    "df=df[df.Aspartate_Aminotransferase<=3000]\n",
    "df.shape"
   ]
  },
  {
   "cell_type": "code",
   "execution_count": 22,
   "id": "1c9a163c",
   "metadata": {},
   "outputs": [
    {
     "data": {
      "text/plain": [
       "True"
      ]
     },
     "execution_count": 22,
     "metadata": {},
     "output_type": "execute_result"
    }
   ],
   "source": [
    "df.isnull().values.any()"
   ]
  },
  {
   "cell_type": "code",
   "execution_count": 23,
   "id": "8b11107c",
   "metadata": {},
   "outputs": [
    {
     "data": {
      "text/plain": [
       "(565, 11)"
      ]
     },
     "execution_count": 23,
     "metadata": {},
     "output_type": "execute_result"
    }
   ],
   "source": [
    "df=df.dropna(how='any')\n",
    "df.shape"
   ]
  },
  {
   "cell_type": "code",
   "execution_count": 24,
   "id": "de428f20",
   "metadata": {},
   "outputs": [
    {
     "data": {
      "text/html": [
       "<div>\n",
       "<style scoped>\n",
       "    .dataframe tbody tr th:only-of-type {\n",
       "        vertical-align: middle;\n",
       "    }\n",
       "\n",
       "    .dataframe tbody tr th {\n",
       "        vertical-align: top;\n",
       "    }\n",
       "\n",
       "    .dataframe thead th {\n",
       "        text-align: right;\n",
       "    }\n",
       "</style>\n",
       "<table border=\"1\" class=\"dataframe\">\n",
       "  <thead>\n",
       "    <tr style=\"text-align: right;\">\n",
       "      <th></th>\n",
       "      <th>Age</th>\n",
       "      <th>Gender</th>\n",
       "      <th>Total_Bilirubin</th>\n",
       "      <th>Direct_Bilirubin</th>\n",
       "      <th>Alkaline_Phosphotase</th>\n",
       "      <th>Alamine_Aminotransferase</th>\n",
       "      <th>Aspartate_Aminotransferase</th>\n",
       "      <th>Total_Protiens</th>\n",
       "      <th>Albumin</th>\n",
       "      <th>Albumin_and_Globulin_Ratio</th>\n",
       "      <th>Dataset</th>\n",
       "    </tr>\n",
       "  </thead>\n",
       "  <tbody>\n",
       "    <tr>\n",
       "      <th>0</th>\n",
       "      <td>75</td>\n",
       "      <td>1</td>\n",
       "      <td>1.8</td>\n",
       "      <td>0.8</td>\n",
       "      <td>405</td>\n",
       "      <td>79</td>\n",
       "      <td>50</td>\n",
       "      <td>6.1</td>\n",
       "      <td>2.9</td>\n",
       "      <td>0.90</td>\n",
       "      <td>1</td>\n",
       "    </tr>\n",
       "    <tr>\n",
       "      <th>1</th>\n",
       "      <td>55</td>\n",
       "      <td>1</td>\n",
       "      <td>0.6</td>\n",
       "      <td>0.2</td>\n",
       "      <td>220</td>\n",
       "      <td>24</td>\n",
       "      <td>32</td>\n",
       "      <td>5.1</td>\n",
       "      <td>2.4</td>\n",
       "      <td>0.88</td>\n",
       "      <td>1</td>\n",
       "    </tr>\n",
       "    <tr>\n",
       "      <th>2</th>\n",
       "      <td>78</td>\n",
       "      <td>1</td>\n",
       "      <td>1.0</td>\n",
       "      <td>0.3</td>\n",
       "      <td>152</td>\n",
       "      <td>28</td>\n",
       "      <td>70</td>\n",
       "      <td>6.3</td>\n",
       "      <td>3.1</td>\n",
       "      <td>0.90</td>\n",
       "      <td>1</td>\n",
       "    </tr>\n",
       "    <tr>\n",
       "      <th>3</th>\n",
       "      <td>8</td>\n",
       "      <td>0</td>\n",
       "      <td>0.9</td>\n",
       "      <td>0.2</td>\n",
       "      <td>401</td>\n",
       "      <td>25</td>\n",
       "      <td>58</td>\n",
       "      <td>7.5</td>\n",
       "      <td>3.4</td>\n",
       "      <td>0.80</td>\n",
       "      <td>1</td>\n",
       "    </tr>\n",
       "    <tr>\n",
       "      <th>4</th>\n",
       "      <td>72</td>\n",
       "      <td>1</td>\n",
       "      <td>0.7</td>\n",
       "      <td>0.2</td>\n",
       "      <td>185</td>\n",
       "      <td>16</td>\n",
       "      <td>22</td>\n",
       "      <td>7.3</td>\n",
       "      <td>3.7</td>\n",
       "      <td>1.00</td>\n",
       "      <td>0</td>\n",
       "    </tr>\n",
       "  </tbody>\n",
       "</table>\n",
       "</div>"
      ],
      "text/plain": [
       "   Age  Gender  Total_Bilirubin  Direct_Bilirubin  Alkaline_Phosphotase  \\\n",
       "0   75       1              1.8               0.8                   405   \n",
       "1   55       1              0.6               0.2                   220   \n",
       "2   78       1              1.0               0.3                   152   \n",
       "3    8       0              0.9               0.2                   401   \n",
       "4   72       1              0.7               0.2                   185   \n",
       "\n",
       "   Alamine_Aminotransferase  Aspartate_Aminotransferase  Total_Protiens  \\\n",
       "0                        79                          50             6.1   \n",
       "1                        24                          32             5.1   \n",
       "2                        28                          70             6.3   \n",
       "3                        25                          58             7.5   \n",
       "4                        16                          22             7.3   \n",
       "\n",
       "   Albumin  Albumin_and_Globulin_Ratio  Dataset  \n",
       "0      2.9                        0.90        1  \n",
       "1      2.4                        0.88        1  \n",
       "2      3.1                        0.90        1  \n",
       "3      3.4                        0.80        1  \n",
       "4      3.7                        1.00        0  "
      ]
     },
     "execution_count": 24,
     "metadata": {},
     "output_type": "execute_result"
    }
   ],
   "source": [
    "df=df.sample(frac=1).reset_index(drop=True)\n",
    "df.head()"
   ]
  },
  {
   "cell_type": "code",
   "execution_count": 25,
   "id": "b6172456",
   "metadata": {},
   "outputs": [],
   "source": [
    "y=df.Dataset\n",
    "X=df.drop('Dataset',axis=1)"
   ]
  },
  {
   "cell_type": "code",
   "execution_count": 26,
   "id": "e127838f",
   "metadata": {},
   "outputs": [],
   "source": [
    "X_train,X_test,y_train,y_test=train_test_split(X,y,test_size=0.2,random_state=1234,stratify=df.Dataset)"
   ]
  },
  {
   "cell_type": "code",
   "execution_count": 27,
   "id": "f94900d3",
   "metadata": {},
   "outputs": [
    {
     "name": "stdout",
     "output_type": "stream",
     "text": [
      "(452, 10) (113, 10) (452,) (113,)\n"
     ]
    }
   ],
   "source": [
    "print(X_train.shape,X_test.shape,y_train.shape,y_test.shape)"
   ]
  },
  {
   "cell_type": "code",
   "execution_count": 28,
   "id": "17b21b03",
   "metadata": {},
   "outputs": [],
   "source": [
    "from sklearn.preprocessing import minmax_scale"
   ]
  },
  {
   "cell_type": "code",
   "execution_count": 29,
   "id": "c5b608a2",
   "metadata": {},
   "outputs": [
    {
     "data": {
      "text/plain": [
       "Age                             int64\n",
       "Gender                          int64\n",
       "Total_Bilirubin               float64\n",
       "Direct_Bilirubin              float64\n",
       "Alkaline_Phosphotase            int64\n",
       "Alamine_Aminotransferase        int64\n",
       "Aspartate_Aminotransferase      int64\n",
       "Total_Protiens                float64\n",
       "Albumin                       float64\n",
       "Albumin_and_Globulin_Ratio    float64\n",
       "Dataset                         int64\n",
       "dtype: object"
      ]
     },
     "execution_count": 29,
     "metadata": {},
     "output_type": "execute_result"
    }
   ],
   "source": [
    "df.dtypes"
   ]
  },
  {
   "cell_type": "code",
   "execution_count": 30,
   "id": "4535143d",
   "metadata": {},
   "outputs": [],
   "source": [
    "X_train=minmax_scale(X_train)"
   ]
  },
  {
   "cell_type": "code",
   "execution_count": 31,
   "id": "982a16bb",
   "metadata": {},
   "outputs": [],
   "source": [
    "X_test=minmax_scale(X_test)"
   ]
  },
  {
   "cell_type": "code",
   "execution_count": 32,
   "id": "e85c8a9d",
   "metadata": {},
   "outputs": [
    {
     "data": {
      "text/plain": [
       "array([1, 1, 1, 1, 1, 1, 1, 1, 1, 1, 1, 1, 1, 1, 1, 1, 1, 1, 1, 1, 1, 1,\n",
       "       1, 1, 1, 1, 1, 1, 1, 1, 1, 0, 1, 1, 1, 1, 1, 1, 1, 1, 1, 1, 1, 1,\n",
       "       1, 1, 1, 1, 1, 1, 1, 1, 1, 1, 1, 1, 1, 1, 1, 1, 1, 1, 1, 1, 1, 1,\n",
       "       1, 1, 1, 1, 1, 1, 1, 1, 1, 1, 1, 1, 1, 1, 1, 1, 1, 1, 1, 1, 1, 1,\n",
       "       1, 1, 1, 1, 1, 1, 1, 1, 0, 1, 1, 1, 1, 1, 1, 1, 1, 1, 1, 1, 1, 1,\n",
       "       1, 1, 1], dtype=int64)"
      ]
     },
     "execution_count": 32,
     "metadata": {},
     "output_type": "execute_result"
    }
   ],
   "source": [
    "lr=LogisticRegression()\n",
    "lr.fit(X_train, y_train)\n",
    "predict1=lr.predict(X_test)\n",
    "predict1"
   ]
  },
  {
   "cell_type": "code",
   "execution_count": 33,
   "id": "59cdda2d",
   "metadata": {},
   "outputs": [],
   "source": [
    "model1=accuracy_score(y_test,predict1)"
   ]
  },
  {
   "cell_type": "code",
   "execution_count": 34,
   "id": "326df9a3",
   "metadata": {},
   "outputs": [
    {
     "name": "stdout",
     "output_type": "stream",
     "text": [
      "0.7345132743362832\n"
     ]
    }
   ],
   "source": [
    "print(model1)"
   ]
  }
 ],
 "metadata": {
  "kernelspec": {
   "display_name": "Python 3",
   "language": "python",
   "name": "python3"
  },
  "language_info": {
   "codemirror_mode": {
    "name": "ipython",
    "version": 3
   },
   "file_extension": ".py",
   "mimetype": "text/x-python",
   "name": "python",
   "nbconvert_exporter": "python",
   "pygments_lexer": "ipython3",
   "version": "3.8.8"
  }
 },
 "nbformat": 4,
 "nbformat_minor": 5
}
